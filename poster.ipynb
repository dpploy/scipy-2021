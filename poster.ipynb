{
 "cells": [
  {
   "cell_type": "markdown",
   "metadata": {
    "slideshow": {
     "slide_type": "slide"
    }
   },
   "source": [
    "# Design of a Balance of Plant System with Dynamic Networks\n",
    "> Nik Kemper, Jack Kennedy and Valmor F. de Almeida <br>\n",
    "> *nikolaus\\_kemper@student.uml.edu, jack_kennedy@student.uml.edu and valmor\\_dealmeida@uml.edu*<br>\n",
    ">\n",
    "> **University of Massachusetts Lowell** <br>\n",
    "> Dept. of Chemical Engineering, Nuclear Energy Program, Lowell, MA, 01854, <br>\n",
    ">\n",
    "> **2021 Virtual SciPy Poster Session**<br>\n",
    "> Tuesday, July 13, 2021 (2:15–4:00PM EDT) <br>\n",
    "> Austin, TX (online)\n",
    "$  \n",
    "  \\newcommand{\\Amtrx}{\\boldsymbol{\\mathsf{A}}}\n",
    "  \\newcommand{\\Bmtrx}{\\boldsymbol{\\mathsf{B}}}\n",
    "  \\newcommand{\\Mmtrx}{\\boldsymbol{\\mathsf{M}}}\n",
    "  \\newcommand{\\Imtrx}{\\boldsymbol{\\mathsf{I}}}\n",
    "  \\newcommand{\\Pmtrx}{\\boldsymbol{\\mathsf{P}}}\n",
    "  \\newcommand{\\Lmtrx}{\\boldsymbol{\\mathsf{L}}}\n",
    "  \\newcommand{\\Umtrx}{\\boldsymbol{\\mathsf{U}}}\n",
    "  \\newcommand{\\Smtrx}{\\boldsymbol{\\mathsf{S}}}\n",
    "  \\newcommand{\\xvec}{\\boldsymbol{\\mathsf{x}}}\n",
    "  \\newcommand{\\uvec}{\\boldsymbol{u}}\n",
    "  \\newcommand{\\pvec}{\\boldsymbol{p}}\n",
    "  \\newcommand{\\qvec}{\\boldsymbol{q}}\n",
    "  \\newcommand{\\uvar}{\\boldsymbol{u}}\n",
    "  \\newcommand{\\fvar}{\\boldsymbol{f}}\n",
    "  \\newcommand{\\Fvar}{\\boldsymbol{F}}\n",
    "  \\newcommand{\\Gvar}{\\boldsymbol{G}}\n",
    "  \\newcommand{\\Hvar}{\\boldsymbol{H}}\n",
    "  \\newcommand{\\avec}{\\boldsymbol{\\mathsf{a}}}\n",
    "  \\newcommand{\\bvec}{\\boldsymbol{\\mathsf{b}}}\n",
    "  \\newcommand{\\cvec}{\\boldsymbol{\\mathsf{c}}}\n",
    "  \\newcommand{\\rvec}{\\boldsymbol{\\mathsf{r}}}\n",
    "  \\newcommand{\\mvec}{\\boldsymbol{\\mathsf{m}}}\n",
    "  \\newcommand{\\gvec}{\\boldsymbol{\\mathsf{g}}}\n",
    "  \\newcommand{\\zerovec}{\\boldsymbol{\\mathsf{0}}}\n",
    "  \\newcommand{\\norm}[1]{\\bigl\\lVert{#1}\\bigr\\rVert}\n",
    "  \\newcommand{\\transpose}[1]{{#1}^\\top}\n",
    "  \\DeclareMathOperator{\\rank}{rank}\n",
    "  \\newcommand{\\Power}{\\mathcal{P}}\n",
    "  \\DeclareMathOperator{\\dt}{d_\\textit{t}}\n",
    "$"
   ]
  },
  {
   "cell_type": "markdown",
   "metadata": {
    "slideshow": {
     "slide_type": "-"
    }
   },
   "source": [
    "---\n",
    "### <center> Bringing high-performance, system-level, dynamic modeling and simulation to the Python ecosystem: </center>\n",
    "### <center> \"How to get there without Symulink while scaling to high-perfomance computing platforms\" </center>\n",
    "---"
   ]
  },
  {
   "cell_type": "markdown",
   "metadata": {},
   "source": [
    "<center> \n",
    "<img width=\"600\" src=\"figs/network.png\" title=\"Plant Layout\">\n",
    "<p style=\"text-align:center;\"><b>Balance of plant network graph (SMPWR: Small Modular Pressurized Water Reactor).</b></p> \n",
    "</center>"
   ]
  },
  {
   "cell_type": "markdown",
   "metadata": {
    "slideshow": {
     "slide_type": "-"
    }
   },
   "source": [
    "---\n",
    "## Summary<a id=\"summary\"></a>\n",
    "We created an extended Balance of Plant (BoP) simulation network using the [`Cortix`](https://cortix.org) Python library. The BoP system was made by connecting multiple `Cortix` modules that modeled unit operations (such as steam\n",
    "generators, turbines, water heaters, *etc.*) as a networked system. Modules were connected via `Cortix` *ports* that are designated to either\n",
    "send or receive parallel, message-passing information from other modules. The information exchanged consisted of data\n",
    "structures representing either flowing water streams that contained temperature, pressure, and flowrate data or energy\n",
    "streams that transferred energy. Simulations of start up, steady state, shutdown and step change conditions were\n",
    "performed.\n",
    "\n",
    "---"
   ]
  },
  {
   "cell_type": "markdown",
   "metadata": {},
   "source": [
    "## Abstract<a id=\"abstract\"></a>\n",
    "\n",
    "The nuclear power industry has a long history in using modeling and simulation to design nuclear systems. Both\n",
    "experience and existing simulation software can be leveraged to build modeling capabilities to extended balance of\n",
    "plants (BoPs). Here we adopt a divide-and-conquer approach for modeling and simulation wherein significant sub-systems are modeled individually and coupled via an external framework. \n",
    "\n",
    "A power plant has many sub-systems that appear repeatedly, either physically or logically, say a feed water system composed of many individual water heaters, or a Rankine turbine with many regenerative heating steps. In both cases, a network can be built for all the components, and a dynamic model assembled to represent an extended BoP. A key capability requirement of the\n",
    "framework is to allow for scalability and reusability of computational modules. Given the current status of modern\n",
    "computing power, extended BoP’s can now be created to various levels of detail; for instance, valves and pipes can\n",
    "be included explicitly in the network. \n",
    "\n",
    "An extended network can be mapped on large scale parallel computing\n",
    "platforms to allow for increasingly modeling fidelity. This forward picture calls for a broader understanding of the\n",
    "elements of a power plant and the coupling of the corresponding flow of energy. This is the primary motivation of\n",
    "this project.\n",
    "\n",
    "We developed and used five system-level modules to represent a nuclear facility. These modules included a reactor,\n",
    "a steam generator, a turbine, a condenser, and a feedwater heating system. The primary loop flows between the\n",
    "reactor module and the steam generator, while the secondary loop flows from the water heater, to the steam\n",
    "generator, to the turbine, to the condenser, where it then flows back to the water heater. \n",
    "\n",
    "The `Cortix` Python library\n",
    "was used to connect each of the modules. This was done by connecting information streams through inflow and\n",
    "outflow *ports* on each of the modules. We also created an accident scenario where the secondary loop’s mass\n",
    "flowrate was temporarily reduced so we could see the effect it would have on our system.\n",
    "\n",
    "The [`IAPWS`](https://github.com/jjgomera/iapws) Python library was fully coupled to systematically compute the thermodynamic and physical properties of water and steam at many different conditions. By coupling the system level models through [Cortix](https://cortix.org), and using [`SciPy`](https://www.scipy.org) mathematical modules (ODE\n",
    "integrator) we were able to create an extended time-dependent BoP system which can be used to examine and model\n",
    "how startup, shutdown, and loss of coolant accidents impact each part of the plant.\n"
   ]
  },
  {
   "cell_type": "markdown",
   "metadata": {
    "slideshow": {
     "slide_type": "slide"
    }
   },
   "source": [
    "## [Cortix framework for system-level, large scale, network modeling and simulation](#toc)<a id=\"cortix\"></a>\n",
    "1. Framework for developing system-level applications\n",
    " - All-`python`, non-commercial free,  open-source [(download site)](https://cortix.org) development\n",
    "1. Applications consist of a generic *bi-directional network* of stand-alone *computational modules*\n",
    " - Collection of coupled, reduced-order models\n",
    "1. `Cortix` provides a single `Module` *class* for implementation of computational modules\n",
    " - Wrapper of the developer's computational module\n",
    " - Imposes *light* restrictions on the architecture of an existing code to allow for network coupling\n",
    "1. `Module` is implemented using existing message passing parallel communication libraries for data coupling.\n",
    " - Module developer does not need *in-depth* understanding of message passing libraries\n",
    " - The understanding of a `Port` is required for effective communication programming\n",
    "1. `Cortix` handles the connectivity of the network and delivery/receipt of messages\n",
    " - Messages can be any serializable form of data structure (*e.g.* time-stamped, events, etc.)\n",
    " - Framework is *hands-off* data; module developer is free to use any data structure\n",
    "1. Framework assigns a process to each `Module` in the network\n",
    " - Application runs in parallel: either processes (MPI, `mpi4py`) or threads (`Python` `multiprocessing`)\n",
    " - Tested in HPC platforms, laptops, desktops, and the cloud: Linux, Mac, Windows (Anaconda/VM)\n",
    " - Scalability performance dependent on computational modules (`Network` and `Port` management is scalable)\n",
    "1. `Cortix` is aimed at the HPC platform and uses the <span style=\"color:red\">rich `Python` ecosystem</span>; \n",
    " - <span style=\"color:red\">Fully integrated into electronic `Jupyter` notebooks</span>: teaching, collaboration, development, and research"
   ]
  },
  {
   "cell_type": "markdown",
   "metadata": {
    "slideshow": {
     "slide_type": "slide"
    }
   },
   "source": [
    "## [Divide and Couple Approach to Complex Systems](#toc)<a id=\"cortix2\"></a>\n",
    "An example of time-dependent system of coupled modules with indicated flow of information\n",
    "<center>\n",
    "<img width=\"500\" src=\"figs/many-m.png\" title=\"Module Network\">\n",
    "</center>\n",
    "\n",
    "+ $M_i$: module of a reduced-order model\n",
    "+ $\\qvec_{\\vec{i,j}}(t)$: coupling data vector (unknowns, and <span style=\"color:red\">signals</span>)\n",
    "+ $\\pvec_{i}(\\qvec_i, t)$: parameter vector (known function of time or unknowns)\n",
    "<br>\n",
    "\n",
    "Sources of mathematical computational and complexity:\n",
    " + Large scale connectivity (scaling up to realistic sizes)\n",
    " + Module behavior dependent on signals (on/off, breakdown, warming up, cooling down, *etc.*)\n",
    " \n",
    "NB: Since `Cortix` is designed on the basis of *messages*, event-driven systems are equally supported."
   ]
  },
  {
   "cell_type": "markdown",
   "metadata": {
    "slideshow": {
     "slide_type": "slide"
    }
   },
   "source": [
    "## [Module Internals and Commonality](#toc)<a id=\"cortix2\"></a>\n",
    "Reduced-order models often share a common mathematical basis because of balance laws, *e.g.*\n",
    "\n",
    "|  | | |\n",
    "|---|--|---|\n",
    "|<img width=\"300\" src=\"figs/black-box.png\" title=\"Module\"> | >> INTERNALLY >> | <img width=\"600\" src=\"figs/white-box.png\" title=\"Module\">|\n",
    "\n",
    "+ $\\Fvar(\\cdot), \\Gvar(\\cdot), \\Hvar(\\cdot)$: behavior/model\n",
    "+ $\\uvec(t)$: state vector\n",
    "+ $\\pvec(t)$: parameter vector\n",
    "+ $\\qvec(t)$: coupling vector (depends on a subset of the state vector)\n",
    "\n",
    "Often, the model is a system of non-linearly coupled ODEs."
   ]
  },
  {
   "cell_type": "markdown",
   "metadata": {
    "slideshow": {
     "slide_type": "slide"
    }
   },
   "source": [
    "## [Life of a Cortix Module](#toc)<a id=\"cortix2\"></a>\n",
    "<center>\n",
    "<img width=\"300\" src=\"figs/external-behavior.png\" title=\"Module\">\n",
    "</center>\n",
    "\n",
    "+ A module $M_i$ does not receive or send a message to itself\n",
    "+ $M_i$ may evolve on its own time $t_i$\n",
    "  - Requires a known parameter vector $\\pvec_i(t_i)$\n",
    "+ Coupling vectors $\\qvec_{\\vec{j, i}}(t_i)$ allow $M_i$ to use data from other modules in the network.\n",
    "  - $M_i$ will *wait* for time-stamped coupling data $t_j$ via message passing (synchronization)"
   ]
  },
  {
   "cell_type": "markdown",
   "metadata": {
    "slideshow": {
     "slide_type": "slide"
    }
   },
   "source": [
    "## [Time Evolution (uniform case)](#toc)<a id=\"cortix2\"></a>\n",
    "\n",
    "1. Initialize $t_0  = 0$ and $M_j\\bigl(\\uvec(t_0); \\qvec(t_0), \\pvec(t_0)\\bigr)$ for all modules in the network.\n",
    "1. For all $i = 1 \\ldots n$:\n",
    " + Solve for $\\uvec(t_i)$  $\\forall$  $M_j\\bigl(\\uvec(t_i); \\qvec(t_{i - 1}), \\pvec(t_{i - 1})\\bigr)$ independently.\n",
    " + Compute $\\qvec(t_i), \\pvec(t_i)$ and exchange information: $\\qvec_{\\vec{j, k}}(t_i)$.\n",
    " + Advance $t_{i + 1} \\leftarrow t_i + \\Delta t$ according to the configured time step.\n",
    "\n",
    "### Comments\n",
    "+ There is inevitable propagation of error in this explicit time evolution.\n",
    "+ Modules must be loosely coupled components of the system; merge those that are tightly coupled into one.\n",
    "+ Reduce the integration time step to the extent possible."
   ]
  },
  {
   "cell_type": "markdown",
   "metadata": {
    "slideshow": {
     "slide_type": "slide"
    }
   },
   "source": [
    "## [Modular Network Assembly](#toc)<a id=\"cortix2\"></a>\n",
    "+ Balance of plant network"
   ]
  },
  {
   "cell_type": "code",
   "execution_count": null,
   "metadata": {},
   "outputs": [],
   "source": [
    "'''Balance of Plant'''\n",
    "# Framework\n",
    "from cortix import Cortix\n",
    "from cortix import Network\n",
    "\n",
    "plant = Cortix()                      # System top level\n",
    "plant_net = plant.network = Network() # Network"
   ]
  },
  {
   "cell_type": "code",
   "execution_count": null,
   "metadata": {
    "slideshow": {
     "slide_type": "-"
    }
   },
   "outputs": [],
   "source": [
    "'''Developer Reactor (Small Modular Pressurized Water Reactor)'''\n",
    "from bop.reactor import SMPWR\n",
    "\n",
    "reactor = SMPWR()     # Create reactor module\n",
    "\n",
    "plant_net.module(reactor) # Add reactor module to network"
   ]
  },
  {
   "cell_type": "code",
   "execution_count": null,
   "metadata": {
    "slideshow": {
     "slide_type": "-"
    }
   },
   "outputs": [],
   "source": [
    "'''Developer Steamer'''\n",
    "from bop.steamer import Steamer\n",
    "\n",
    "steamer = Steamer() # Create turbine\n",
    "steamer.name = 'Steamer'\n",
    "\n",
    "plant_net.module(steamer) # Add turbine module to network"
   ]
  },
  {
   "cell_type": "code",
   "execution_count": null,
   "metadata": {
    "slideshow": {
     "slide_type": "-"
    }
   },
   "outputs": [],
   "source": [
    "'''Developer Turbine'''\n",
    "from bop.turbine import Turbine\n",
    "turbine = Turbine()  # Create turbine module\n",
    "\n",
    "plant_net.module(turbine)  # Add turbine module to network"
   ]
  },
  {
   "cell_type": "code",
   "execution_count": null,
   "metadata": {
    "slideshow": {
     "slide_type": "-"
    }
   },
   "outputs": [],
   "source": [
    "'''Developer Condenser'''\n",
    "from bop.condenser import Condenser\n",
    "condenser = Condenser()  # Create condenser module\n",
    "\n",
    "plant_net.module(condenser)  # Add condenser module to network"
   ]
  },
  {
   "cell_type": "code",
   "execution_count": null,
   "metadata": {
    "slideshow": {
     "slide_type": "-"
    }
   },
   "outputs": [],
   "source": [
    "'''Developer Water Heater'''\n",
    "from bop.water_heater import WaterHeater\n",
    "water_heater = WaterHeater()  # Create water_heater module\n",
    "\n",
    "plant_net.module(water_heater)  # Add water_heater module to network"
   ]
  },
  {
   "cell_type": "markdown",
   "metadata": {},
   "source": [
    "### Exchange of Information $\\qvec_{\\vec{j, k}}(t_i)$:\n",
    "+ `Ports` are the mechanism for exchanging information.\n",
    "+ `Ports` are provided in the `Module` class from `Cortix`.\n",
    "+ Either the MPI or `Python` `multiprocessing` libraries are used."
   ]
  },
  {
   "cell_type": "code",
   "execution_count": null,
   "metadata": {
    "slideshow": {
     "slide_type": "-"
    }
   },
   "outputs": [],
   "source": [
    "'''Balance of Plant Network Connectivity'''\n",
    "# Connect an edge or pipe (ports are the ends of the edge)\n",
    "\n",
    "plant_net.connect([reactor, 'coolant-outflow'], [steamer, 'primary-inflow'])\n",
    "plant_net.connect([steamer, 'primary-outflow'], [reactor, 'coolant-inflow'])\n",
    "plant_net.connect([steamer, 'secondary-outflow'], [turbine, 'inflow'])\n",
    "plant_net.connect([turbine, 'outflow'], [condenser, 'inflow'])\n",
    "plant_net.connect([turbine, 'process-heat'], [water_heater, 'external-heat'])\n",
    "plant_net.connect([condenser, 'outflow'], [water_heater, 'inflow'])\n",
    "plant_net.connect([water_heater, 'outflow'], [steamer, 'secondary-inflow'])"
   ]
  },
  {
   "cell_type": "code",
   "execution_count": null,
   "metadata": {},
   "outputs": [],
   "source": [
    "'''Draw network'''\n",
    "plant_net.draw(engine='circo', node_shape='folder')"
   ]
  },
  {
   "cell_type": "markdown",
   "metadata": {},
   "source": [
    "### Comments:\n",
    "+ Note general bi-directional graph connectivity\n",
    "+ Note that there is no parsing of an input file to setup system.\n",
    "+ `Python` programming language is used to create the configuration information directly."
   ]
  },
  {
   "cell_type": "markdown",
   "metadata": {
    "slideshow": {
     "slide_type": "slide"
    }
   },
   "source": [
    "## [Scalability of Assembly (Ports and Pipes)](#toc)<a id=\"cortix2\"></a>\n",
    "+ Ports are *cheap* to create (*i.e* little overhead) and can be created on the fly.\n",
    "+ For example (assembly of droplets immersed into a vortex):"
   ]
  },
  {
   "cell_type": "code",
   "execution_count": null,
   "metadata": {},
   "outputs": [],
   "source": [
    "from cortix.examples.droplet_swirl.droplet import Droplet\n",
    "from cortix.examples.droplet_swirl.vortex import Vortex\n",
    "\n",
    "# Configuration Parameters\n",
    "n_droplets = 10\n",
    "  \n",
    "swirl = Cortix()\n",
    "swirl.network = Network()\n",
    "  \n",
    "# Vortex module (single).\n",
    "vortex = Vortex()\n",
    "swirl.network.module(vortex)\n",
    "\n",
    "for i in range(n_droplets):\n",
    "# Droplet modules (multiple).\n",
    "    droplet = Droplet()\n",
    "    droplet.name = 'Droplet %i'%(i+1)\n",
    "    swirl.network.module(droplet)\n",
    "  \n",
    "# Network port connectivity (connect modules through their ports)\n",
    "    swirl.network.connect([droplet, 'external-flow'],\n",
    "                          [vortex, vortex.get_port('fluid-flow:{}'.format(i))], 'bidirectional')\n",
    "  \n",
    "swirl.network.draw(engine='twopi')"
   ]
  },
  {
   "cell_type": "code",
   "execution_count": null,
   "metadata": {},
   "outputs": [],
   "source": [
    "swirl.close()"
   ]
  },
  {
   "cell_type": "markdown",
   "metadata": {
    "slideshow": {
     "slide_type": "-"
    }
   },
   "source": [
    "### Comment\n",
    "+ In cases with module repeatability the assembly process can be easily automated (as demonstrated)."
   ]
  },
  {
   "cell_type": "markdown",
   "metadata": {
    "slideshow": {
     "slide_type": "skip"
    }
   },
   "source": [
    "## [Balance of Plant Problem Statement](#toc)<a id=\"ps\"></a>\n",
    "\n",
    "<span style=\"color:red\">THIS NEEDS UPDATE</span>"
   ]
  },
  {
   "cell_type": "markdown",
   "metadata": {
    "slideshow": {
     "slide_type": "skip"
    }
   },
   "source": [
    "Steam is created from nuclear heat generated in the reactor and passed to the high-pressure turbine, which expands the steam to about 0.5 MPA (or 5 bar). The runoff from the high-pressure turbine is then split in half and fed to the two low-pressure turbines, which expand the runoff to 0.5 bar. The runoff is then fed to a condenser which produces subcooled liquid water, which is then fed back into the bottom of the reactor.\n",
    "\n",
    "Modeling the entire network is accomplished through the use of the network simulation library [Cortix.](https://cortix.org). The individual plant components (reactor, turbines and condenser) are implemented as `Cortix` modules, with data exchange handled by the Cortix library.\n",
    "\n",
    "Additionally, a number of the calculations used in this model rely on the [IAPWS](https://pypi.org/project/iapws/) library developed by Juan José Gómez Romera (jjgomera). IAPWS is the International Association for the Properties of Water and Steam, which develops power series that can be used to calculate properties of water and steam (such as specific enthalpy and entropy) at a variety of temperatures, pressures and qualities. The IAPWS library devloped by jjgomera implements these series as python functions which can be easily accessed and called to calculate any property required for thermodynamic calculations, drastically simplifying the process of modelling the two-phase systems in use by the turbine and condenser modules. This project specifically uses the IAPWS97 module within the library, which uses the formulations published in 1997 by IAPWS foundation as an update to ones developed in 1967. "
   ]
  },
  {
   "cell_type": "markdown",
   "metadata": {
    "cell_style": "center",
    "slideshow": {
     "slide_type": "slide"
    }
   },
   "source": [
    "## [Module Basic Template for the Run Method](#toc)<a id=\"moduletemplate\"></a>\n",
    "\n",
    "```python\n",
    "class BWR(Module): # inherit from the base class Module\n",
    "\n",
    "    def run(self, *args):\n",
    "          # Module's time loop\n",
    "          while time <= self.end_time:\n",
    "              # Specific coding goes here (operation, on-off, status, etc.)\n",
    "\n",
    "              # Evolve one time step\n",
    "              #---------------------\n",
    "              time = self.__step(time)\n",
    "        \n",
    "              # Communicate information\n",
    "              #------------------------\n",
    "              self.__call_ports(time)\n",
    "                \n",
    "    def __step(self, time):\n",
    "        # 1. Prepare module data for ODE solver        \n",
    "        # 2. Call ODE solver\n",
    "        # 3. Advance time\n",
    "        time += self.time_step\n",
    "        # 4. Update internal state data\n",
    "        return time\n",
    "    \n",
    "     def __call_ports(self, time):\n",
    "\n",
    "         # Interactions in the coolant-outflow port\n",
    "         #-----------------------------------------\n",
    "         # One way \"to\" coolant-outflow\n",
    "  \n",
    "         # Send to\n",
    "         if self.get_port('coolant-outflow').connected_port:\n",
    "  \n",
    "              msg_time = self.recv('coolant-outflow')\n",
    "\n",
    "              temp = self.coolant_outflow_phase.get_value('temp', msg_time)\n",
    "              press = self.coolant_outflow_phase.get_value('pressure', msg_time)\n",
    "  \n",
    "              coolant_outflow = dict()\n",
    "              coolant_outflow['temperature'] = temp\n",
    "              coolant_outflow['pressure'] = press\n",
    "  \n",
    "              self.send((msg_time, coolant_outflow), 'coolant-outflow')\n",
    "  \n",
    "          # Interactions in the coolant-inflow port\n",
    "          #----------------------------------------\n",
    "          # One way \"from\" coolant-inflow\n",
    "  \n",
    "          # Receive from\n",
    "          if self.get_port('coolant-inflow').connected_port:\n",
    "  \n",
    "              self.send(time, 'coolant-inflow')\n",
    "  \n",
    "              inflow_coolant = self.recv('coolant-inflow')\n",
    "  \n",
    "              self.coolant_mass_flowrate = inflow_coolant['mass_flowrate']\n",
    "              self.coolant_quality = inflow_coolant['quality']\n",
    "```"
   ]
  },
  {
   "cell_type": "markdown",
   "metadata": {
    "slideshow": {
     "slide_type": "slide"
    }
   },
   "source": [
    "## [Brief Description of BOP Modules](#toc)<a id=\"bwr\"></a>"
   ]
  },
  {
   "cell_type": "code",
   "execution_count": null,
   "metadata": {},
   "outputs": [],
   "source": [
    "plant_net.draw(engine='circo', node_shape='folder')"
   ]
  },
  {
   "cell_type": "markdown",
   "metadata": {
    "slideshow": {
     "slide_type": "slide"
    }
   },
   "source": [
    "---\n",
    "## [Single-Point Pressurized Water Reactor Model](#toc)<a id=\"bwr\"></a>\n",
    "\n",
    "<span style=\"color:red\">THIS NEEDS UPDATE</span>\n"
   ]
  },
  {
   "cell_type": "markdown",
   "metadata": {
    "slideshow": {
     "slide_type": "slide"
    }
   },
   "source": [
    "---\n",
    "## [Turbine Model](#toc) <a id=\"tub\"></a>\n",
    "\n",
    "<span style=\"color:red\">THIS NEEDS UPDATE</span>\n"
   ]
  },
  {
   "cell_type": "markdown",
   "metadata": {
    "slideshow": {
     "slide_type": "slide"
    }
   },
   "source": [
    "---\n",
    "## [Condenser Model](#toc) <a id=\"cond\"></a>\n",
    "\n",
    "<span style=\"color:red\">THIS NEEDS UPDATE</span>\n"
   ]
  },
  {
   "cell_type": "markdown",
   "metadata": {
    "slideshow": {
     "slide_type": "slide"
    }
   },
   "source": [
    "---\n",
    "## [Water Heater](#toc) <a id=\"cond\"></a>\n",
    "\n",
    "<span style=\"color:red\">THIS NEEDS UPDATE</span>\n"
   ]
  },
  {
   "cell_type": "markdown",
   "metadata": {
    "slideshow": {
     "slide_type": "slide"
    }
   },
   "source": [
    "## [Network Simulation Results](#toc) <a id=\"cortix\"></a>"
   ]
  },
  {
   "cell_type": "markdown",
   "metadata": {},
   "source": [
    "## [Startup](#toc)<a id=\"su\"></a>\n",
    "\n",
    "Here the simulation runs for a period representative of a startup interval."
   ]
  },
  {
   "cell_type": "code",
   "execution_count": null,
   "metadata": {},
   "outputs": [],
   "source": [
    "'''Run BOP Network'''\n",
    "\n",
    "from bop.support import unit\n",
    "\n",
    "end_time = 10*unit.minute \n",
    "time_step = 1.5*unit.second\n",
    "show_time = (True, 5*unit.minute)\n",
    "\n",
    "for module in plant_net.modules:\n",
    "    module.time_step = time_step\n",
    "    module.end_time = end_time\n",
    "    module.show_time = show_time\n",
    "\n",
    "plant.run()   # Run network dynamics simulation\n",
    "plant.close() # Close run"
   ]
  },
  {
   "cell_type": "code",
   "execution_count": null,
   "metadata": {},
   "outputs": [],
   "source": [
    "'''Collect multiprocessing data'''\n",
    "reactor = plant_net.modules[0]\n",
    "steamer = plant_net.modules[1]\n",
    "turbine = plant_net.modules[2]\n",
    "condenser = plant_net.modules[3]\n",
    "water_heater = plant_net.modules[4]"
   ]
  },
  {
   "cell_type": "code",
   "execution_count": null,
   "metadata": {},
   "outputs": [],
   "source": [
    "'''Reactor data'''\n",
    "reactor.state_phase.plot(actors=['power','inlet-temp'], show=True, figsize=[14,8])\n",
    "reactor.coolant_outflow_phase.plot(actors=['temp','flowrate'], show=True, figsize=[14,8])"
   ]
  },
  {
   "cell_type": "code",
   "execution_count": null,
   "metadata": {},
   "outputs": [],
   "source": [
    "'''Steamer data'''\n",
    "steamer.primary_outflow_phase.plot(show=True, figsize=[14,8])\n",
    "steamer.secondary_outflow_phase.plot(actors=['temp','quality'], show=True, figsize=[14,8])\n",
    "steamer.state_phase.plot(actors=['heatflux'], show=True, figsize=[14,8])"
   ]
  },
  {
   "cell_type": "markdown",
   "metadata": {},
   "source": [
    "## [Steady State](#toc)<a id=\"ss\"></a>\n",
    "\n",
    "The previous startup simulation can be continued until a steady state is achieved."
   ]
  },
  {
   "cell_type": "code",
   "execution_count": null,
   "metadata": {},
   "outputs": [],
   "source": [
    "'''Continue simulation to steady state'''\n",
    "\n",
    "end_time += 10*unit.minute\n",
    "\n",
    "for module in plant_net.modules:\n",
    "    module.initial_time = module.end_time\n",
    "    module.end_time = end_time\n",
    "\n",
    "# Rebuild the network since this information is lost once the Cortix object is closed\n",
    "plant_net.connect([reactor, 'coolant-outflow'], [steamer, 'primary-inflow'])\n",
    "plant_net.connect([steamer, 'primary-outflow'], [reactor, 'coolant-inflow'])\n",
    "plant_net.connect([steamer, 'secondary-outflow'], [turbine, 'inflow'])\n",
    "plant_net.connect([turbine, 'outflow'], [condenser, 'inflow'])\n",
    "plant_net.connect([turbine, 'process-heat'], [water_heater, 'external-heat'])\n",
    "plant_net.connect([condenser, 'outflow'], [water_heater, 'inflow'])\n",
    "plant_net.connect([water_heater, 'outflow'], [steamer, 'secondary-inflow'])"
   ]
  },
  {
   "cell_type": "code",
   "execution_count": null,
   "metadata": {},
   "outputs": [],
   "source": [
    "plant.run()   # Run network dynamics simulation\n",
    "plant.close() # Close run"
   ]
  },
  {
   "cell_type": "code",
   "execution_count": null,
   "metadata": {},
   "outputs": [],
   "source": [
    "'''Collect multiprocessing data'''\n",
    "reactor = plant_net.modules[0]\n",
    "steamer = plant_net.modules[1]\n",
    "turbine = plant_net.modules[2]\n",
    "condenser = plant_net.modules[3]\n",
    "water_heater = plant_net.modules[4]"
   ]
  },
  {
   "cell_type": "code",
   "execution_count": null,
   "metadata": {},
   "outputs": [],
   "source": [
    "'''Reactor data'''\n",
    "reactor.state_phase.plot(actors=['power','inlet-temp'], show=True, figsize=[14,8])\n",
    "reactor.coolant_outflow_phase.plot(actors=['temp','flowrate'], show=True, figsize=[14,8])"
   ]
  },
  {
   "cell_type": "code",
   "execution_count": null,
   "metadata": {},
   "outputs": [],
   "source": [
    "'''Turbine data'''\n",
    "turbine.state_phase.plot(show=True, figsize=[14,8])\n",
    "turbine.outflow_phase.plot(actors=['temp','quality'], show=True,figsize=[14,8])"
   ]
  },
  {
   "cell_type": "markdown",
   "metadata": {},
   "source": [
    "## [Water Heater Malfunction](#toc)<a id=\"malfunction\"></a>\n",
    "\n",
    "Continuing the simulation from the steady state above, a malfunction is created by interrupting the line from the water heater module to the steamer module for a given interval of time; normal conditions applied when the interruption ends."
   ]
  },
  {
   "cell_type": "code",
   "execution_count": null,
   "metadata": {},
   "outputs": [],
   "source": [
    "'''Continue simulation with malfunction of water heater'''\n",
    "\n",
    "end_time += 25*unit.minute\n",
    "\n",
    "for module in plant_net.modules:\n",
    "    module.initial_time = module.end_time\n",
    "    module.end_time = end_time\n",
    "    \n",
    "plant_net.connect([reactor, 'coolant-outflow'], [steamer, 'primary-inflow'])\n",
    "plant_net.connect([steamer, 'primary-outflow'], [reactor, 'coolant-inflow'])\n",
    "plant_net.connect([steamer, 'secondary-outflow'], [turbine, 'inflow'])\n",
    "plant_net.connect([turbine, 'outflow'], [condenser, 'inflow'])\n",
    "plant_net.connect([turbine, 'process-heat'], [water_heater, 'external-heat'])\n",
    "plant_net.connect([condenser, 'outflow'], [water_heater, 'inflow'])\n",
    "plant_net.connect([water_heater, 'outflow'], [steamer, 'secondary-inflow'])"
   ]
  },
  {
   "cell_type": "code",
   "execution_count": null,
   "metadata": {},
   "outputs": [],
   "source": [
    "initial_malfunction_time = water_heater.initial_time + 5*unit.minute\n",
    "final_malfunction_time = initial_malfunction_time + 15*unit.minute\n",
    "\n",
    "water_heater.malfunction = (True, initial_malfunction_time, final_malfunction_time)\n",
    "\n",
    "plant.run()   # Run network dynamics simulation\n",
    "plant.close() # Close run"
   ]
  },
  {
   "cell_type": "code",
   "execution_count": null,
   "metadata": {},
   "outputs": [],
   "source": [
    "'''Collect multiprocessing data'''\n",
    "reactor = plant_net.modules[0]\n",
    "steamer = plant_net.modules[1]\n",
    "turbine = plant_net.modules[2]\n",
    "condenser = plant_net.modules[3]\n",
    "water_heater = plant_net.modules[4]"
   ]
  },
  {
   "cell_type": "code",
   "execution_count": null,
   "metadata": {},
   "outputs": [],
   "source": [
    "'''Reactor data'''\n",
    "reactor.state_phase.plot(actors=['power','inlet-temp'], show=True,figsize=[14,8])\n",
    "reactor.coolant_outflow_phase.plot(actors=['temp','flowrate'], show=True,figsize=[14,8])"
   ]
  },
  {
   "cell_type": "code",
   "execution_count": null,
   "metadata": {},
   "outputs": [],
   "source": [
    "'''Turbine data'''\n",
    "turbine.state_phase.plot(show=True, figsize=[14,8])\n",
    "turbine.outflow_phase.plot(actors=['temp','quality'], show=True,figsize=[14,8])"
   ]
  },
  {
   "cell_type": "code",
   "execution_count": null,
   "metadata": {},
   "outputs": [],
   "source": [
    "'''Water heater data'''\n",
    "water_heater.inflow_phase.plot(actors=['external-heat'], show=True,figsize=[14,8])\n",
    "water_heater.outflow_phase.plot(actors=['temp','flowrate'], show=True,figsize=[14,8])"
   ]
  },
  {
   "cell_type": "code",
   "execution_count": null,
   "metadata": {},
   "outputs": [],
   "source": [
    "'''Steamer data'''\n",
    "steamer.primary_outflow_phase.plot(show=True, figsize=[14,8])\n",
    "steamer.secondary_outflow_phase.plot(actors=['temp','quality'], show=True, figsize=[14,8])\n",
    "steamer.state_phase.plot(actors=['heatflux'], show=True, figsize=[14,8])"
   ]
  },
  {
   "cell_type": "markdown",
   "metadata": {},
   "source": [
    "## [Shutdown](#toc)<a id=\"sd\"></a>\n",
    "Finally, continuing the simulation from the normal conditions after the malfunction above, the simulation is told to shutdown the plant."
   ]
  },
  {
   "cell_type": "code",
   "execution_count": null,
   "metadata": {},
   "outputs": [],
   "source": [
    "'''Continue simulation with malfunction of water heater'''\n",
    "\n",
    "end_time += 15*unit.minute\n",
    "\n",
    "for module in plant_net.modules:\n",
    "    module.initial_time = module.end_time\n",
    "    module.end_time = end_time\n",
    "    \n",
    "plant_net.connect([reactor, 'coolant-outflow'], [steamer, 'primary-inflow'])\n",
    "plant_net.connect([steamer, 'primary-outflow'], [reactor, 'coolant-inflow'])\n",
    "plant_net.connect([steamer, 'secondary-outflow'], [turbine, 'inflow'])\n",
    "plant_net.connect([turbine, 'outflow'], [condenser, 'inflow'])\n",
    "plant_net.connect([turbine, 'process-heat'], [water_heater, 'external-heat'])\n",
    "plant_net.connect([condenser, 'outflow'], [water_heater, 'inflow'])\n",
    "plant_net.connect([water_heater, 'outflow'], [steamer, 'secondary-inflow'])"
   ]
  },
  {
   "cell_type": "code",
   "execution_count": null,
   "metadata": {},
   "outputs": [],
   "source": [
    "shutdown_time = reactor.initial_time + 5*unit.minute\n",
    "\n",
    "reactor.shutdown = (True, shutdown_time)\n",
    "\n",
    "plant.run()   # Run network dynamics simulation\n",
    "plant.close() # Close run"
   ]
  },
  {
   "cell_type": "code",
   "execution_count": null,
   "metadata": {},
   "outputs": [],
   "source": [
    "'''Collect multiprocessing data'''\n",
    "\n",
    "reactor = plant_net.modules[0]\n",
    "steamer = plant_net.modules[1]\n",
    "turbine = plant_net.modules[2]\n",
    "condenser = plant_net.modules[3]\n",
    "water_heater = plant_net.modules[4]"
   ]
  },
  {
   "cell_type": "code",
   "execution_count": null,
   "metadata": {},
   "outputs": [],
   "source": [
    "'''Reactor data'''\n",
    "#reactor.state_phase.plot(show=True, figsize=[14,8])\n",
    "reactor.state_phase.plot(actors=['power','inlet-temp'], show=True,figsize=[14,8])\n",
    "reactor.coolant_outflow_phase.plot(actors=['temp','flowrate'], show=True,figsize=[14,8])\n",
    "reactor.neutron_phase.plot(actors=['neutron-dens'], show=True, figsize=[14,8])"
   ]
  },
  {
   "cell_type": "code",
   "execution_count": null,
   "metadata": {},
   "outputs": [],
   "source": [
    "'''Turbine data'''\n",
    "turbine.state_phase.plot(show=True, figsize=[14,8])\n",
    "turbine.outflow_phase.plot(actors=['temp','quality'], show=True,figsize=[14,8])"
   ]
  },
  {
   "cell_type": "code",
   "execution_count": null,
   "metadata": {},
   "outputs": [],
   "source": [
    "'''Steamer data'''\n",
    "steamer.primary_outflow_phase.plot(show=True, figsize=[14,8])\n",
    "steamer.secondary_outflow_phase.plot(actors=['temp','quality'], show=True, figsize=[14,8])\n",
    "steamer.state_phase.plot(actors=['heatflux'], show=True, figsize=[14,8])"
   ]
  },
  {
   "cell_type": "code",
   "execution_count": null,
   "metadata": {},
   "outputs": [],
   "source": [
    "'''Water heater data'''\n",
    "water_heater.inflow_phase.plot(actors=['external-heat'], show=True,figsize=[14,8])\n",
    "water_heater.outflow_phase.plot(actors=['temp','flowrate'], show=True,figsize=[14,8])"
   ]
  },
  {
   "cell_type": "markdown",
   "metadata": {
    "slideshow": {
     "slide_type": "slide"
    }
   },
   "source": [
    "## [Final Comments](#toc)<a id=\"finalcomments\"></a>\n",
    "\n",
    "+ System-level models can be coupled and assembled into a dynamic network using `Cortix` and the Python ecosystem.\n",
    "+ Using message passing and parallel processing supported by `Cortix`, a simulation can be executed in various computing platforms including high-performance computers.\n",
    "+ Full integration to Jupyter notebooks accelerates collaboration and programming.\n",
    "\n",
    "\n",
    "### Thank you for stopping by."
   ]
  },
  {
   "cell_type": "markdown",
   "metadata": {
    "slideshow": {
     "slide_type": "-"
    }
   },
   "source": [
    "## [Acknowledgements](#toc)<a id=\"ackn\"></a>\n",
    "\n",
    "This work was partially funded by the [Francis College of Engineering at UMass Lowell](https://www.uml.edu/engineering/), Department of Chemical Engineering (Nuclear Program), and the [Cortix](https://cortix.org) group."
   ]
  }
 ],
 "metadata": {
  "kernelspec": {
   "display_name": "Python 3",
   "language": "python",
   "name": "python3"
  },
  "language_info": {
   "codemirror_mode": {
    "name": "ipython",
    "version": 3
   },
   "file_extension": ".py",
   "mimetype": "text/x-python",
   "name": "python",
   "nbconvert_exporter": "python",
   "pygments_lexer": "ipython3",
   "version": "3.9.5"
  },
  "latex_envs": {
   "LaTeX_envs_menu_present": true,
   "autoclose": false,
   "autocomplete": true,
   "bibliofile": "biblio.bib",
   "cite_by": "apalike",
   "current_citInitial": 1,
   "eqLabelWithNumbers": true,
   "eqNumInitial": 1,
   "hotkeys": {
    "equation": "Ctrl-E",
    "itemize": "Ctrl-I"
   },
   "labels_anchors": false,
   "latex_user_defs": false,
   "report_style_numbering": false,
   "user_envs_cfg": false
  },
  "toc": {
   "base_numbering": 1,
   "nav_menu": {},
   "number_sections": true,
   "sideBar": true,
   "skip_h1_title": false,
   "title_cell": "Table of Contents",
   "title_sidebar": "Contents",
   "toc_cell": false,
   "toc_position": {
    "height": "382.5px",
    "left": "1176px",
    "top": "149.133px",
    "width": "401px"
   },
   "toc_section_display": true,
   "toc_window_display": true
  }
 },
 "nbformat": 4,
 "nbformat_minor": 2
}
