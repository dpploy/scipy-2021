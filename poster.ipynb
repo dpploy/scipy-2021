{
 "cells": [
  {
   "cell_type": "markdown",
   "metadata": {
    "slideshow": {
     "slide_type": "slide"
    }
   },
   "source": [
    "# Design of a Balance of Plant System with Dynamic Networks\n",
    "> Nik Kemper, Jack Kennedy and Valmor F. de Almeida <br>\n",
    "> *nikolaus\\_kemper@student.uml.edu, jack_kennedy@student.uml.edu and valmor\\_dealmeida@uml.edu*<br>\n",
    ">\n",
    "> **University of Massachusetts Lowell** <br>\n",
    "> Dept. of Chemical Engineering, Nuclear Energy Program, Lowell, MA, 01854, <br>\n",
    ">\n",
    "> **2021 Virtual SciPy Poster Session**<br>\n",
    "> Tuesday, July 15, 2021 (2:15–4:00PM EDT) <br>\n",
    "> Austin, TX (online)\n",
    "$  \n",
    "  \\newcommand{\\Amtrx}{\\boldsymbol{\\mathsf{A}}}\n",
    "  \\newcommand{\\Bmtrx}{\\boldsymbol{\\mathsf{B}}}\n",
    "  \\newcommand{\\Mmtrx}{\\boldsymbol{\\mathsf{M}}}\n",
    "  \\newcommand{\\Imtrx}{\\boldsymbol{\\mathsf{I}}}\n",
    "  \\newcommand{\\Pmtrx}{\\boldsymbol{\\mathsf{P}}}\n",
    "  \\newcommand{\\Lmtrx}{\\boldsymbol{\\mathsf{L}}}\n",
    "  \\newcommand{\\Umtrx}{\\boldsymbol{\\mathsf{U}}}\n",
    "  \\newcommand{\\Smtrx}{\\boldsymbol{\\mathsf{S}}}\n",
    "  \\newcommand{\\xvec}{\\boldsymbol{\\mathsf{x}}}\n",
    "  \\newcommand{\\uvar}{\\boldsymbol{u}}\n",
    "  \\newcommand{\\fvar}{\\boldsymbol{f}}\n",
    "  \\newcommand{\\avec}{\\boldsymbol{\\mathsf{a}}}\n",
    "  \\newcommand{\\bvec}{\\boldsymbol{\\mathsf{b}}}\n",
    "  \\newcommand{\\cvec}{\\boldsymbol{\\mathsf{c}}}\n",
    "  \\newcommand{\\rvec}{\\boldsymbol{\\mathsf{r}}}\n",
    "  \\newcommand{\\mvec}{\\boldsymbol{\\mathsf{m}}}\n",
    "  \\newcommand{\\gvec}{\\boldsymbol{\\mathsf{g}}}\n",
    "  \\newcommand{\\zerovec}{\\boldsymbol{\\mathsf{0}}}\n",
    "  \\newcommand{\\norm}[1]{\\bigl\\lVert{#1}\\bigr\\rVert}\n",
    "  \\newcommand{\\transpose}[1]{{#1}^\\top}\n",
    "  \\DeclareMathOperator{\\rank}{rank}\n",
    "  \\newcommand{\\Power}{\\mathcal{P}}\n",
    "  \\DeclareMathOperator{\\dt}{d_\\textit{t}}\n",
    "$"
   ]
  },
  {
   "cell_type": "markdown",
   "metadata": {
    "slideshow": {
     "slide_type": "-"
    }
   },
   "source": [
    "---\n",
    "## Outline<a id=\"toc\"></a>\n",
    "* [Platform for network dynamics simulation: *Cortix*](#obj)\n",
    "* [BWR example](#intro)\n",
    "* [Final comments](#ps)\n",
    "---"
   ]
  },
  {
   "cell_type": "markdown",
   "metadata": {
    "slideshow": {
     "slide_type": "slide"
    }
   },
   "source": [
    "## [A framework for system-level large scale modeling and simulation](#toc)<a id=\"obj\"></a>\n",
    "+ Application consists of a network of stand-alone computational modules.\n",
    "+ Framework provides a module `class` for implementation of a model\n",
    "+ Explore and understand intrinsic temperature reactivity coefficient feedback from nuclear sources.\n",
    "+ Develop and apply computational components based on the `Python` ecosystem. This application uses [`Cortix`](https://cortix.org) as the framework for developing a dynamical network for basic elements of a BWR balance of plant. The BoP BWR application is developed as an example of a `Cortix` application."
   ]
  },
  {
   "cell_type": "markdown",
   "metadata": {
    "slideshow": {
     "slide_type": "slide"
    }
   },
   "source": [
    "## [Problem Statement](#toc)<a id=\"ps\"></a>\n",
    "\n",
    "Consider a boiling water reactor, with UO$_2$ fuel and a light water moderator and coolant.\n",
    "Given the neutron generation time $\\ell$, delayed neutron fraction, $\\beta$, decay constants of six-group delayed neutron emitters, $\\lambda_i$, and corresponding yield of delayed neutron fractions for each emitter, $\\beta_i$, calculate the pointwise neutron density variation with time for *varying* neutron reactivity, $\\rho(t)$.\n",
    "\n",
    "The neutron reactivity variation with time will depend indirectly on the effects of the balance of plant around the reactor including startup and shutdown transients. This will include a high pressure turbine, two low pressure turbines and a condenser (Fig. 1)."
   ]
  },
  {
   "cell_type": "markdown",
   "metadata": {},
   "source": [
    "Steam is created from nuclear heat generated in the reactor and passed to the high-pressure turbine, which expands the steam to about 0.5 MPA (or 5 bar). The runoff from the high-pressure turbine is then split in half and fed to the two low-pressure turbines, which expand the runoff to 0.5 bar. The runoff is then fed to a condenser which produces subcooled liquid water, which is then fed back into the bottom of the reactor.\n",
    "\n",
    "Modeling the entire network is accomplished through the use of the network simulation library [Cortix.](https://cortix.org). The individual plant components (reactor, turbines and condenser) are implemented as `Cortix` modules, with data exchange handled by the Cortix library.\n",
    "\n",
    "Additionally, a number of the calculations used in this model rely on the [IAPWS](https://pypi.org/project/iapws/) library developed by Juan José Gómez Romera (jjgomera). IAPWS is the International Association for the Properties of Water and Steam, which develops power series that can be used to calculate properties of water and steam (such as specific enthalpy and entropy) at a variety of temperatures, pressures and qualities. The IAPWS library devloped by jjgomera implements these series as python functions which can be easily accessed and called to calculate any property required for thermodynamic calculations, drastically simplifying the process of modelling the two-phase systems in use by the turbine and condenser modules. This project specifically uses the IAPWS97 module within the library, which uses the formulations published in 1997 by IAPWS foundation as an update to ones developed in 1967. "
   ]
  },
  {
   "cell_type": "markdown",
   "metadata": {
    "slideshow": {
     "slide_type": "slide"
    }
   },
   "source": [
    "---\n",
    "## [Boiling Water Reactor Model](#toc)<a id=\"bwr\"></a>\n",
    "Our model for the BWR module is one-group (no diffusion within the moderator assumed for leakage), tracks two temperatures (the uranium fuel and the water which acts as both a coolant and a moderator), and also behaves like a point reactor. This means that all of the kinetics, neutron density and heat generation is collapsed to a single point. Temperatures for the fuel and coolant are therefore averages of what they would be in a real reactor system.\n",
    "\n",
    "A fission event releases heat and several neutrons; these neutrons go on to create more fission events, while the heat generated from the fissions is absorbed by the fuel. As the temperature of the fuel rises, it releases heat to the lower-temperature coolant, causing it to boil and produce steam. This steam then leaves off the top of the reactor, removing some heat from the system to be absorbed by the turbines and condensers later on down the line.\n"
   ]
  },
  {
   "cell_type": "markdown",
   "metadata": {
    "slideshow": {
     "slide_type": "slide"
    }
   },
   "source": [
    "### [One-Group Energy  Neutron Balance](#toc)<a id=\"nbal\"></a>\n",
    "\n",
    "The space-invariant neutron balance for the point-reactor model is\n",
    "\n",
    "\\begin{equation*}\n",
    "\\frac{\\text{d}n}{\\text{d}t}  = \\frac{\\rho(t)-\\beta}{\\ell}\\, n + \\sum\\limits_{i=1}^{6} \\lambda_i\\,c_i  + q(t),\n",
    "\\end{equation*}\n",
    "\n",
    "where the first term on the right side of the equation represents the net production of neutrons not accounting for delayed neutrons (with $\\rho(t)$ being the reactivity, $\\beta$ being the delayed neutron fraction and $\\ell$ being the prompt neutron lifetime), and the second term accounts for the source of delayed neutrons considering 6 groups of delayed neutron emitters resulting from the fission of $^{235}$U nuclei (with $\\lambda$ being the decay constant of the specific delayed neutron precursor group, $c$ being its concentration and $q(t)$ being the magnitude of the neutron source, if any). Therefore a balance of neutron emitter species is also necessary\n",
    "\n",
    "\\begin{equation*}\n",
    "\\frac{\\text{d}c_i}{\\text{d}t}  = \\frac{\\beta_i}{\\ell}\\, n - \\lambda_i\\,c_i ,\n",
    "     \\ \\ \\ \\ \\ \\forall \\ \\ \\ \\ \\  i=1,\\ldots,6.\n",
    "\\end{equation*}\n",
    "\n",
    "where the first term on the right side of the equation is the source of emitters as a function of the neutron number density $n(t)$ (with $\\beta$ being the yield of each delayed neutron precursor group from fission), and the second term is the consumption rate of the emitter by radioactive decay obtained as a function of the product of the number concentration of the emmiter, $c_i(t)$, multiplied by its decay constant $\\lambda_i$. Here the number concentration of the $i$th emitter, $c_i$ is considered in terms of delayed neutron number density, hence the units are the same as $n$.\n",
    "\n",
    "The current model considers the temperature reactivity coefficient, $\\alpha_{T_n}$, that is, \n",
    "\n",
    "\\begin{equation*}\n",
    " \\rho(t) = \\rho_0 + \\alpha_{T_n}(T_f)\\,\\bigl(T_m(t) - T^{(0)}\\bigr).\n",
    "\\end{equation*}\n",
    "\n",
    "Where $\\rho(0)$ is the initial reactivity insertion into the reactor, $\\alpha_{T_N}$ is the overall temperature reactivity coefficient as a function of current temperature of the moderator $T_m(t)$, and $T^{(0)}$ is the reference temperature (298 $^{\\circ}K$).\n",
    "\n",
    "A heat balance in the static fuel dispersed into the moderator gives\n",
    "\n",
    "\\begin{equation*}\n",
    "\\frac{\\text{d}T_f}{\\text{d}t} = - \\frac{1}{\\rho_f\\,c_{pf}}\\biggl(q^{'''}(t) - \\frac{\\dot{Q}_\\text{f}}{V_f} \\biggr) \n",
    "\\end{equation*}\n",
    "\n",
    "Where $T_f$ is the temperature of the fuel, $\\rho_f$ and $c_{pf}$ is its density and heat capacity, $q^{'''}(t)$ is the heat generated per unit volume within the fuel, $\\dot Q_f$ is the rate of heat absorption from the fuel by the moderator and $V_f$ is the total volume of the fuel. \n",
    "\n",
    "The rate of heat absorption by the moderator is calculated by:\n",
    "\n",
    "\\begin{equation*}\n",
    "{\\dot{Q}_\\text{f}} = -UA\\bigl(T_f-T_c\\bigr), \n",
    "\\end{equation*}\n",
    "\n",
    "Where $U$ and $A$ is the overall heat transfer coefficient and heat transfer area, $T_f$ is the temperature of the fuel and $T_c$ is the temperature of the moderator.\n",
    "\n",
    "The rate of heat generation per unit volume within the fuel is equal to:\n",
    "\n",
    "\\begin{equation*}\n",
    "q^{'''}(t) = G_f\\frac{\\sqrt{\\pi}}{2}\\,\\sigma_\\text{fo}\\,\\sqrt{\\frac{T^\\text{(o)}}{T}}\\,\\biggl(\\frac{\\epsilon\\,w_\\text{fs}\\,\\rho_\\text{fm}}{M_\\text{fn}}\\,i\\,N_A\\biggr)\\,n(t)\\,v_\\text{(o)} .\n",
    "\\end{equation*}\n",
    "\n",
    "Where $G_f$ is the energy released per fission, $\\sigma_\\text{fo}$ is the microscopic fission cross section within the fuel at a reference temperature $T^\\text{(o)}$ of 298 $^{\\circ} K$, $T$ is the current temperature of the fuel, $\\epsilon$ is the fast fission factor, $\\rho_\\text{fm}$ is the mass density of the fuel, $M_\\text{fn}$ is the molar mass of the fuel, $N_A$ is the number density of the fuel, $n(t)$ is the neutron density at that point in time and $v_\\text{(o)}$ is the velocity of a thermal neutron.\n",
    "\n",
    "A heat balance in the flowing coolant fluid produces\n",
    "\n",
    "\\begin{equation*}\n",
    "\\frac{\\text{d}T_c}{\\text{d}t} = -\\frac{1}{\\tau_c}\\biggl(T_c-T_{in}\\biggr)  \n",
    "                                - \\frac{1}{\\rho_c\\,c_{pc}}\\biggl( \\frac{\\dot{Q}_\\text{f}}{V_c} \\biggr) \n",
    "\\end{equation*}\n",
    "\n",
    "$T_c$ is the temperature of the coolant leaving the top of the reactor, $\\tau_c$ is the coolant residence time within the reactor, $T_{in}$ is the temperature of the subcooled coolant entering the bottom of the reactor, $\\rho_c$ is the density of the coolant, $c_{pc}$ is the heat capacity of the coolant and $V_c$ is the volume of the coolant. The heat rate source is the negative of the heat rate sink in the fuel/moderator.\n"
   ]
  },
  {
   "cell_type": "markdown",
   "metadata": {
    "slideshow": {
     "slide_type": "slide"
    }
   },
   "source": [
    "### [Steady State](#toc)<a id=\"ss\"></a>\n",
    "\n",
    "Neutron density and delayed neutron precursor concentrations are related as follows:\n",
    "\n",
    "\\begin{align*}\n",
    "n_\\text{ss}  &= -\\frac{q_\\text{ss}\\,\\ell }{\\rho_\\text{ss} }\n",
    "\\\\\n",
    "c_{i_\\text{ss}}  &= \\frac{\\beta_i}{\\lambda_i\\,\\ell}\\, n_\\text{ss}   \\ \\ \\ \\ \\forall \\ \\ \\ \\ i=1,\\ldots,6 .\n",
    "\\end{align*}"
   ]
  },
  {
   "cell_type": "markdown",
   "metadata": {
    "slideshow": {
     "slide_type": "slide"
    }
   },
   "source": [
    "### [Vector ODE System](#toc)<a id=\"vodes\"></a>\n",
    "\n",
    "A vector notation for the foregoing system of equations greatly improves the generality of the derived computer code. Towards this goal let us define\n",
    "\n",
    "\\begin{equation*}\n",
    "\\frac{d\\uvar}{dt} = \\fvar( \\uvar, t )\n",
    "\\end{equation*}\n",
    "\n",
    "where $\\uvar(t) = (u_1,u_2,u_3,u_4,u_5,u_6,u_7)$ is the state vector and we assign \n",
    "\n",
    "\\begin{align*}\n",
    " u_1(t)&=n(t),\\\\\n",
    " u_2(t)&=c_1(t),\\\\\n",
    " u_3(t)&=c_2(t),\\\\\n",
    " u_4(t)&=c_3(t),\\\\\n",
    " u_5(t)&=c_4(t),\\\\\n",
    " u_6(t)&=c_5(t),\\\\\n",
    " u_7(t)&=c_6(t),\\\\\n",
    " u_8(t)&=T_f(t),\\\\\n",
    " u_9(t)&=T_c(t).\n",
    "\\end{align*}\n",
    "\n",
    "Also for $\\fvar(\\uvar,t) = \\bigl(f_1(\\uvar,t), f_2(\\uvar,t), f_3(\\uvar,t), f_4(\\uvar,t), f_5(\\uvar,t), f_6(\\uvar,t), f_7(\\uvar,t)\\bigr)$ we assign \n",
    "\n",
    "\\begin{align*}\n",
    " f_1 & = \\frac{\\rho(t)-\\beta}{\\ell}\\, u_1 + \\sum\\limits_{i=2}^{7} \\lambda_i\\,u_i + q(t), \\\\\n",
    " f_2 & = \\frac{\\beta_1}{\\ell}\\, u_1 - \\lambda_1\\,u_2, \\\\\n",
    " f_3 & = \\frac{\\beta_2}{\\ell}\\, u_1 - \\lambda_2\\,u_3, \\\\\n",
    " f_4 & = \\frac{\\beta_3}{\\ell}\\, u_1 - \\lambda_3\\,u_4, \\\\\n",
    " f_5 & = \\frac{\\beta_4}{\\ell}\\, u_1 - \\lambda_4\\,u_5, \\\\\n",
    " f_6 & = \\frac{\\beta_5}{\\ell}\\, u_1 - \\lambda_5\\,u_6, \\\\\n",
    " f_7 & = \\frac{\\beta_6}{\\ell}\\, u_1 - \\lambda_6\\,u_7,  \\\\\n",
    " f_8 & = - \\frac{1}{\\rho_f\\,c_{pf}}\\biggl(q^{'''}(t) - \\frac{\\dot{Q}_\\text{f}}{V_f} \\biggr), \\\\\n",
    " f_9 & = -\\frac{1}{\\tau_c}\\biggl(T_c-T_{in}\\biggr)  \n",
    "                                - \\frac{1}{\\rho_c\\,c_{pc}}\\biggl( \\frac{\\dot{Q}_\\text{f}}{V_c} \\biggr).\n",
    "\\end{align*}\n",
    "\n",
    "Finally, the initial conditions given are as follows:\n",
    "\n",
    "\\begin{align*}\n",
    " u_1(0)&=n_0,\\\\\n",
    " u_2(0)&=c_{1_0},\\\\\n",
    " u_3(0)&=c_{2_0},\\\\\n",
    " u_4(0)&=c_{3_0},\\\\\n",
    " u_5(0)&=c_{4_0},\\\\\n",
    " u_6(0)&=c_{5_0},\\\\\n",
    " u_7(0)&=c_{6_0},\\\\\n",
    " u_8(0)&=T_{f_0},\\\\\n",
    " u_9(0)&=T_{c_0}\n",
    "\\end{align*}\n",
    "\n",
    "where $n_0$ and $c_{i_0}$ are initial values for the unknowns given by the problem specification."
   ]
  },
  {
   "cell_type": "markdown",
   "metadata": {
    "slideshow": {
     "slide_type": "slide"
    }
   },
   "source": [
    "### [Reactivity Feedback Model](#toc)<a id=\"feedbk\"></a>\n",
    "The moderator temperature reactivity coefficient is the major contributor to the power coefficient in a boiling water reactor. The power coefficient determines the feedback effect of increasing the power generated by the reactor (and therefore neutron density as well as heat generation). Generally, we see that increasing power will lead to an increase in the temperature of the water used to moderate the reactor. This will reduce the density of the water, and therefore its effectiveness as a moderator. We would expect that this would lead to lower reactivity, and the equation developed below reflects this. We can estimate the numerical effects of moderator temperature on reactivity by using a linearization of the effect of increasing temperature on the neutron multiplecation factor (K), which is used to derive reactivity. \n",
    "\n",
    "\n",
    "\\begin{equation*}\n",
    "\\alpha_\\text{m} = \\frac{dK}{dT_\\text{m}}\\frac{1}{K}\\\n",
    "\\end{equation*}\n",
    "\n",
    "Where $\\alpha_\\text{m}$ is the moderator temperature feedback coefficient, K is the neutron multiplecation factor for a finite medium, and $T_\\text{m}$ is the temperature of the moderator. K is calculated as follows:\n",
    "\n",
    "\\begin{equation*}\n",
    "K = \\frac{\\eta \\epsilon P F}{1 + (\\tau + L^2) B^2 + \\tau L^2 B^4}\n",
    "\\end{equation*}\n",
    "\n",
    "Plugging this in to the original moderator temperature reactivity coefficient equation leaves the following differential equation:\n",
    "\n",
    "\\begin{equation*}\n",
    "\\alpha_\\text{m} = \\frac{d}{dT_\\text{m}}\\frac{1 + (\\tau + L^2)B^2 + \\tau L^2 B^4}{\\eta \\epsilon P F}\\\n",
    "\\end{equation*}\n",
    "\n",
    "With $\\tau$ being the fermi age or slowing down area, $L$ being the neutron diffusion length, $B$ being buckling, $\\eta$ being neutron yield, $\\epsilon$ being fast fission factor, $P$ being resonance escape probability and $F$ being thermal utilization. Only $\\tau$, $P$ and $F$ vary significantly with moderator temperature, with $L$ and $B$ being assumed constants over the range of temperatures.\n",
    "\n",
    "$\\tau$ is found as follows:\n",
    "\n",
    "\\begin{equation*}\n",
    "\\tau = \\frac{D_\\text{f}}{\\Sigma_\\text{1}}\n",
    "\\end{equation*}\n",
    "\n",
    "with $D_\\text{f}$ being the diffusion coefficient and equal to:\n",
    "\n",
    "\\begin{equation*}\n",
    "D_\\text{f} = \\frac{1}{3 \\Sigma_\\text{s}(1 - \\mu_\\text{0})}\n",
    "\\end{equation*}\n",
    "\n",
    "With $\\Sigma_\\text{s}$ being the macroscopic scattering cross section, $\\sigma_\\text{s} N_\\text{m}$, and $\\mu_\\text{0}$ being a constant dependent on the material used as the moderator.\n",
    "\n",
    "$\\Sigma_\\text{1}$ is the neutron removal cross section, or the probability per unit length that a neutron becomes thermalized. It is calculated as:\n",
    "\n",
    "\\begin{equation*}\n",
    "\\Sigma_\\text{1} = \\frac{\\xi \\,\\Sigma_\\text{s}}{\\ln \\frac{E_\\text{0}}{E_\\text{th}} }\n",
    "\\end{equation*}\n",
    "\n",
    "With $\\xi$ being the average logarithmic energy decrement for a collision involving a neutron and the moderator (in the case of a light water reactor, $\\xi$ = 1), $E_\\text{0}$ being the energy of a neutron produced during fission (assumed to be constant at around 2 MeV), and $E_\\text{th}$ being the energy of the medium that the neutron is diffusing through, which is dependent on the temperature of the moderator by the following equation:\n",
    "\n",
    "\\begin{equation*}\n",
    "E_\\text{th} = (T_\\text{m})\\frac{0.0862 \\ MeV}{K}\n",
    "\\end{equation*}\n",
    "\n",
    "With $T_\\text{m}$ being in kelvin.\n",
    "\n",
    "Assuming that only $N_\\text{m}$ and $E_\\text{th}$ vary with the temperature of the moderator, then the differential of $\\tau$ with respect to $T_\\text{m}$ may be calculated as follows:\n",
    "\n",
    "\\begin{equation*}\n",
    "\\frac{d \\tau}{d T_\\text{m}} = \\frac{d}{d T_\\text{m}} \\frac{\\frac{1}{3 \\sigma_\\text{s} N_\\text{m}(1 - \\mu_\\text{0})}}{\\frac{\\xi \\sigma_\\text{s} N_\\text{m}}{ln \\frac{E_\\text{0}}{E_\\text{th}}}}\n",
    "\\end{equation*}\n",
    "\n",
    "\\begin{equation*}\n",
    "\\frac{d \\tau}{d T_\\text{m}} = \\frac{(0.0862\\frac{E_\\text{th}}{E_\\text{0}})(3  N_\\text{m} )-(ln \\frac{E_\\text{0}}{E_\\text{th}})(6 \\frac{d N_\\text{m}}{d T_\\text{m}})}{(3 N_\\text{m})^2 (1 - \\mu_\\text{0})}\n",
    "\\end{equation*}\n",
    "\n",
    "Next, the diffusion area in the moderator before absorption, $L^2$, may be evaluated. It can be calculated through the following relation:\n",
    "\n",
    "\\begin{equation*}\n",
    "L^2 = \\frac{1}{3 \\Sigma_\\text{s} \\Sigma_\\text{a} (1 - \\mu_\\text{0})}\n",
    "\\end{equation*}\n",
    "\n",
    "And therefore:\n",
    "\n",
    "\\begin{equation*}\n",
    "L = \\sqrt{\\frac{1}{3 \\Sigma_\\text{s} \\Sigma_\\text{a} (1 - \\mu_\\text{0})}}\n",
    "\\end{equation*}\n",
    "\n",
    "Note that L is referred to as the diffsion length whereas $L^2$ is the diffusion area.\n",
    "\n",
    "Taking the derivative of the diffusion length, L, with respect to time, and noting that only the number density of the moderator varies with time, and that the macroscopic cross sections $\\Sigma$ can be rewritten as $\\sigma$ $N_\\text{m}$, we obtain the differential of diffusion length with respect to time:\n",
    "\n",
    "\\begin{equation*}\n",
    "\\frac{dL}{dT_\\text{m}} =  \\frac{1}{2 \\sqrt{\\frac{-2 \\frac{dN_\\text{m}}{dT_\\text{m}}}{3 \\sigma_\\text{s} \\sigma_\\text{a} N_\\text{m}^3 (1 - \\mu_\\text{0})}}}\n",
    "\\end{equation*}\n",
    "\n",
    "Next, the terms in the four factor formula, $\\eta \\ , \\ \\epsilon \\ , \\ P, \\ F$ must be developed and the derivatives of the ones which vary with moderator temperature must be calculated.\n",
    "\n",
    "$\\eta$ and $\\epsilon$ do not vary with moderator temperature, and are assumed to have constant values of 2.02 and 1.03.\n",
    "\n",
    "$P$, the resonance escape, is calculated via the following equation:\n",
    "\n",
    "\\begin{equation*}\n",
    "P = e^{ - \\frac{N_\\text{f}\\, V_\\text{F}\\, I}{\\xi\\, \\Sigma_\\text{s  M} V_\\text{M}} }\n",
    "\\end{equation*}\n",
    "\n",
    "In the above equation, $N_\\text{f}$ is the number density of the fuel, $V_\\text{F}$ is the volume of the fuel, $I$ is the resonance escape integral, and $V_\\text{M}$ is the volume occupied by the moderator.\n",
    "\n",
    "With only the macroscopic scattering cross section of the moderator varrying with temperature of the moderator (volume of coolant in the core is assumed constant, only the density changes), the derivative of the resonance escape probability with respect to the temperature of the moderator can be calculated as:\n",
    "\n",
    "\\begin{equation*}\n",
    "\\frac{dP}{dT_\\text{m}} =  \\frac{-N_\\text{f} V_\\text{F} I \\sigma_\\text{s} \\frac{dN_\\text{m}}{dT_\\text{m}}}{(\\xi \\Sigma_\\text{s  M} V_\\text{M})^2}e^{- \\frac{N_\\text{f} V_\\text{F} I}{\\xi \\Sigma_\\text{s  M} V_\\text{M}}}\n",
    "\\end{equation*}\n",
    "\n",
    "The thermal utilization, $F$, is calculated as follows:\n",
    "\n",
    "\\begin{equation*}\n",
    "F = \\frac{\\Sigma_\\text{aF}}{\\Sigma_\\text{aF} + \\Sigma_\\text{aM}}\n",
    "\\end{equation*}\n",
    "\n",
    "With $\\Sigma_\\text{aF}$ being the macroscopic absorption cross section of the fuel and $\\Sigma_\\text{aM}$ being the macroscopic absorption cross section of the moderator. As only the macroscopic absorption cross section of the moderator will vary with the temperature of the moderator, the derivative of thermal utilization with respect to the temperature of the moderator can be written as follows:\n",
    "\n",
    "\\begin{equation*}\n",
    "\\frac{dF}{dT_\\text{m}} = \\frac{-(\\Sigma_\\text{aF})(\\sigma_\\text{aM} \\frac{dN_\\text{m}}{dT_\\text{m}})}{(\\Sigma_\\text{aF} + \\Sigma_\\text{aM})^2}\n",
    "\\end{equation*}\n",
    "\n",
    "The final preliminary differential equation is the one that must be developed for the differential of the moderator number density with respect to the temperature of the moderator. The change in number density of the moderator with respect to temperature will be proportional to the change in the mass density of the moderator with respect to temperature, by the molar mass of the moderator (in this case, 18 g/mol) and avogadro's number. The derivative of the mass density with respect to the temperature of the moderator of water is a function of a forty term polynomial used by the IAPWS 97 standards to approximate the behavior of water at different temperatures and pressures, that is:\n",
    "\n",
    "\\begin{equation*}\n",
    "\\frac{d \\rho}{dT_\\text{m}} = \\frac{d}{dT_\\text{m}}(IAPWS(T))\n",
    "\\end{equation*}\n",
    "\n",
    "The derivative can be approximated by using scipy's inbuilt differentiation function. From there, the differential of mass density with respect to moderator temperature may be related to the differential of number density with respect to moderator temperature by the molar mass and avogadro's number:\n",
    "\n",
    "\\begin{equation*}\n",
    "\\frac{dN_\\text{m}}{dT_\\text{m}} = (18 g/mol)(N_\\text{A})(\\frac{d \\rho}{dT_\\text{m}})\n",
    "\\end{equation*}\n",
    "\n",
    "Now that all previous relationships have been developed, the moderator temperature feedback coefficient can be calculated. Recall the original equation for the moderator temperature feedback coefficient:\n",
    "\n",
    "\\begin{equation*}\n",
    "\\alpha_\\text{m} = \\frac{d}{dT_\\text{m}}\\frac{1 + (\\tau + L^2)B^2 + \\tau L^2 B^4}{\\eta \\epsilon P F}\\\n",
    "\\end{equation*}\n",
    "\n",
    "Taking the derivatives with respect to moderator temperature yields the following differential:\n",
    "\n",
    "\\begin{equation*}\n",
    "\\alpha_\\text{m} = \\frac{(\\eta \\epsilon P F)((\\frac{d \\tau}{dT_\\text{m}})(B^2 + L^2 B^4)+(\\frac{dL}{dT_\\text{m}})(2L B^2 + 2L \\tau B^4))-(1 + (\\tau + L^2)B^2 + \\tau L^2 B^4)(\\eta \\epsilon)(F \\frac{dP}{dT_\\text{m}} + P \\frac{dF}{dT_\\text{m}})} {(\\eta \\epsilon P F)^2}\n",
    "\\end{equation*}"
   ]
  },
  {
   "cell_type": "markdown",
   "metadata": {
    "slideshow": {
     "slide_type": "slide"
    }
   },
   "source": [
    "---\n",
    "## [Turbine Model](#toc) <a id=\"tub\"></a>\n",
    "A boiling water reactor will typically use several different turbines, either designed to expand high-pressure steam drawn directly off the top of the reactor, or to expand lower-pressure runoff steam drawn from the high-pressure turbines. This is typically done to improve thermodynamic efficiency and avoid condensation of the steam within the turbines themselves. Our model contains a single high-pressure turbine which expands steam coming off the top of the reactor to around 5 bar; There are also two low-pressure turbines which expand the runoff from the high-pressure turbine to 0.05 bar. Both of these different types of turbine use the same model but different parameters to determine runoff temperature and the amount of power generated.\n",
    "\n",
    "We start with a basic heat balance on the turbine:\n",
    "\n",
    "\\begin{equation*}\n",
    "Q + W_\\text{s} = \\bigl(\\Delta H + \\Delta K + \\Delta Z\\bigr)\\,\\dot m\n",
    "\\end{equation*}\n",
    "\n",
    "With Q being the heat into or out of the system, W being the work done by the working fluid (and hence being positive if the turbine is producing useful work), and with $\\Delta$H, $\\Delta$K and $\\Delta$Z representing the changes in enthalpy, kinetic energy and gravitational potential energy of the fluid on a per-kilogram basis, respectively. $\\dot m$ is the mass flowrate of fluid through the turbine.  It is assumed that the turbine operates adiabatically and with no change in the kinetic or gravitational potential energy of the fluid as it moves through the turbine. Hence, the equation reduces to:\n",
    "\n",
    "\\begin{equation*}\n",
    "W_\\text{s} = \\Delta H \\dot m\n",
    "\\end{equation*}\n",
    "\n",
    "If the turbine is producing useful work, then W is positive, and hence $\\Delta$H must be positive as well. The enthalpy of the fluid will decrease as it passes through the turbine and is expanded to a lower temperature and pressure, hence the equation can be rewritten as:\n",
    "\n",
    "\\begin{equation*}\n",
    "-W_\\text{s} = -\\Delta H \\dot m = \\bigl(H_\\text{outlet} - H_\\text{inlet}\\bigr)\\,\\dot m \n",
    "\\end{equation*}\n",
    "\n",
    "Which can then be re-arranged as:\n",
    "\n",
    "\\begin{equation*}\n",
    "W_\\text{s} = \\Delta H \\dot m = \\bigl(H_\\text{inlet} - H_\\text{outlet}\\bigr)\\,\\dot m \n",
    "\\end{equation*}\n",
    "\n",
    "If conditions of the inlet steam are given, either being the same temperature and pressure of the steam leaving the top of the reactor (in the case of a high-pressure turbine), or having the runoff temperature and pressure of steam leaving a high-pressure turbine (in the case of a low-pressure turbine). The exit pressure of the steam leaving the turbine is similarly fixed by the design pressure of the turbine ($P_\\text{turbine}$, 5 bar in the case of a high-pressure turbine, 0.05 bar in the case of a low-pressure turbine).  Therefore, the above equation can be rewritten as:\n",
    "\n",
    "\\begin{equation*}\n",
    "W_\\text{s} = \\bigl(H_\\text{inlet}(T_\\text{inlet}, P_\\text{inlet}) - H_\\text{outlet}(T_\\text{runoff}, P_\\text{turbine})\\bigr)\\,\\dot m\n",
    "\\end{equation*}\n",
    "\n",
    "It should be noted that the turbines are not assumed to operate isentropically, but instead at around 80% of the maximum isentropic work for any given steam inlet properties.\n",
    "\n",
    "We denote the maximum possible isentropic work of the turbine, $W_\\text{isentropic}$, as the amount of work that would be done if the steam entering the turbine was expanded to a pressure $P_\\text{turbine}$ and a temperature which would give the same enthalpy as steam of temperature $T_\\text{inlet}$ and pressure $P_\\text{inlet}$.\n",
    "\n",
    "\\begin{equation*}\n",
    "W_\\text{isentropic} = \\bigl(H_\\text{inlet}(T_\\text{inlet}, P_\\text{inlet}) - H_\\text{outlet}(T_\\text{isentropic} ,P_\\text{turbine} )\\bigr)\\dot m\n",
    "\\end{equation*}\n",
    "\n",
    "Actual work performed by the turbine can then be determined by simply multiplying the known efficiency by the calculated isentropic work.\n",
    "\n",
    "\\begin{equation*}\n",
    "W_\\text{real} = 0.8 \\, W_\\text{isentropic}\n",
    "\\end{equation*}\n",
    "\n",
    "And, by an energy balance, we can calculate the ending enthalpy of the liquid runoff at $P_\\text{turbine}$, $H_\\text{real runoff}$:\n",
    "\n",
    "\\begin{equation*}\n",
    "H_\\text{real runoff}(T_\\text{real}, P_\\text{turbine}) = \\frac{W_\\text{real}}{\\dot m} - H_\\text{inlet}(T_\\text{inlet}, P_\\text{inlet})\n",
    "\\end{equation*}\n",
    "\n",
    "With the ending enthalpy of the liquid runoff known, and its pressure fixed by the output pressure of the turbine, the runoff temperature and quality of the liquid from the turbine can be calculated using the IAPWS97 backwards solver functions. To do this, $H_\\text{real runoff}$ is first compared to the dew and bubble point enthalpies of water at the runoff pressure to arrive at the runoff quality:\n",
    "\n",
    "\\begin{equation*}\n",
    "X_\\text{runoff} = \\frac{H_\\text{real runoff} - H_\\text{bubl pt}}{H_\\text{dew pt} - H_\\text{bubl pt}}\n",
    "\\end{equation*}\n",
    "\n",
    "If $X_\\text{runoff}$ is greater than 1, then the runoff will be a superheated vapor. If it is less than 0, then it will be a subcooled liquid. In either case, the runoff temperature can then be calculated by finding the superheated vapor or liquid with the same enthalpy $H_\\text{real runoff}$ and the turbine runoff pressure, using an IAPWS backwards solver function. If $X_\\text{runoff}$ is between 0 and 1, this indicates that the runoff is a two-phase mixture with a temperature fixed by the boiling point of the liquid at the specified runoff pressure."
   ]
  },
  {
   "cell_type": "markdown",
   "metadata": {
    "slideshow": {
     "slide_type": "slide"
    }
   },
   "source": [
    "---\n",
    "## [Condenser Model](#toc) <a id=\"cond\"></a>\n",
    "The condenser takes the runoff from the low-pressure turbines and condenses it into a subcooled liquid to be fed back into the bottom of the reactor. In theory, the runoff from the turbines can be a two-phase mixture, a bubble-point liquid, a dew-point vapor or even superheated vapor. In practice, however, the runoff from the low-pressure turbines is only a two-phase mixture of varying composition for the duration of the simulation.\n",
    "\n",
    "The first thing the condenser model calculates is the amount of energy which must be withdrawn from the turbine runoff to cool it to its dew point. This is calculated by:\n",
    "\n",
    "\\begin{equation*}\n",
    "Q = \\bigl(H_\\text{real runoff} - H_\\text{bubl pt}\\bigr)\\,\\dot m\n",
    "\\end{equation*}\n",
    "\n",
    "This will be used to determine how much of the condenser's cooling capacity is used to bring the incoming liquid down to the bubble point temperature, and how much of this capacity will be left to subcool it. With the actual condensation duty known, an accurate number for cooling capacity at the current input composition and pressure must be determined. We start by determining the log-mean temperature difference for the condensation, which is calculated by:\n",
    "\n",
    "\\begin{equation*}\n",
    "\\Delta T_\\text{lm} = \\frac{T_\\text{c out} - T_\\text{c in}}{\\ln\\Bigl(\\frac{T_\\text{critical} - T_\\text{c in}}{T_\\text{boiling pt} - T_\\text{c out}}\\Bigr)}\n",
    "\\end{equation*}\n",
    "\n",
    "Where $T_\\text{c out}$ is the temperature of the cooling water leaving the condensation stage, $T_\\text{c in}$ is the temperature of the cooling water entering the condensation stage and $T_\\text{boiling pt}$ is the boiling point temperature of the turbine runoff at the turbine runoff pressure. With $T_\\text{c in}$ and $Q$ known, the runoff temperature of the cooling water can be calculated from the following equation:\n",
    "\n",
    "\\begin{equation*}\n",
    "T_\\text{c out} = T_\\text{c in } + \\frac{Q}{\\dot m \\, c_\\text{p}},\n",
    "\\end{equation*}\n",
    "\n",
    "where here $\\dot m$ is the cooling water mass flowrate, not the mass flowrate leaving the turbines. $c_\\text{p}$ is the heat capacity of the coolant in this case. The resulting $T_\\text{c out}$ may then be plugged into the expression for log mean temperature difference. In order to arrive at an accurate overall heat transfer coefficient for the condensation operation, the McNaught expression is used\n",
    "\n",
    "\\begin{equation*}\n",
    "\\alpha_\\text{sh} = \\alpha_\\text{l} \\Bigl(\\frac{1}{x_\\text{tt}}\\Bigr)^{0.78},\n",
    "\\end{equation*}\n",
    "\n",
    "where $\\alpha_\\text{sh}$ is the overall heat transfer coefficient, $\\alpha_\\text{l}$ is the heat transfer coefficient for a liquid water mixture at the same temperature and pressure as the turbine runoff flowing over a tube (calculated using the Churchill-Bernstein correlation), and $x_\\text{tt}$ is the Martinelli parameter. The Martinelli parameter can be calculated using the following expression:\n",
    "\n",
    "\\begin{equation*}\n",
    "x_\\text{tt}^2 = \\Bigl(\\frac{1 - x}{x}\\Bigr)^{1.8}\\Bigl(\\frac{\\rho_\\text{dew pt}}{\\rho_\\text{bubbl pt}}\\Bigr)\\Bigl(\\frac{\\eta_\\text{bubbl pt}}{\\eta_\\text{dew pt}}\\Bigr)^{0.5},\n",
    "\\end{equation*}\n",
    "\n",
    "where x is the quality of the steam entering the turbine, $\\rho$ is the mass density of either the dew point or bubble point mixture at the turbine runoff pressure, and $\\eta$ is the viscocity of either the dew point or bubble point mixture at the turbine runoff pressure. With the overall heat transfer coefficient, $Q$ and the temperature driving force $\\Delta T_\\text{lm}$ known, we can calculate the amount of cooling capacity left to subcool the condensate by determining the amount of heat transfer area that hasn't been used:\n",
    "\n",
    "\\begin{equation*}\n",
    "A = \\frac{Q}{\\alpha_\\text{sh} \\Delta T_\\text{lm}}\n",
    "\\end{equation*}\n",
    "\n",
    "The total area (and therefore capacity) remaining for subcooling may then be found by subtracting the above result from the total heat transfer area of the condenser. \n",
    "\n",
    "Subcooling proceeds slightly differently than the algorithm for determining remaining capacity after condensation. It is an iterative process which begins with a guess for the temperature of the cooling water leaving the condenser. With this guess, a preliminary value for the runoff temperature of the process fluid from the condenser may be generated by performing a heat balance between the process fluid (turbine runoff) and the cooling water (note that for this section \"c in\" refers to the temperature of the coolant leaving the condensation stage and \"c out\" refers to the runoff temperature of the coolant leaving the condenser itself):\n",
    "\n",
    "\\begin{equation*}\n",
    "T_\\text{process out} = T_\\text{boiling pt} - \\frac{\\dot m_\\text{coolant}\\, c_\\text{p coolant} \\, \\Delta T_\\text{coolant}}{\\dot m_\\text{process}\\, c_\\text{p process}}\n",
    "\\end{equation*}\n",
    "\n",
    "Where $\\Delta T_\\text{coolant}$ is the difference between the temperature of the coolant after the condensation step and the guessed value for the temperature of the coolant leaving the condenser (that is, $T_\\text{c runoff} - T_\\text{c out}$. With $T_\\text{process out}$ known, a log-mean temperature difference for this cooling operation may be calculated (assuming parallel flow):\n",
    "\n",
    "\\begin{equation*}\n",
    "\\Delta T_\\text{lm} = \\frac{\\bigl(T_\\text{boiling pt} - T_\\text{c out}\\bigr) - \\bigl(T_\\text{process out} - T_\\text{c in}\\bigr)}{\\ln\\Bigl(\\frac{T\\text{boiling pt} - T_\\text{c out}}{T_\\text{process out} - T_\\text{c in}}\\Bigr)}\n",
    "\\end{equation*}\n",
    "\n",
    "An overall heat transfer coefficient for this iteration may then be obtained using the Churchill-Bernstein correlation. Taking into account the remaining area, the overall heat transfer coefficient and the temperature driving force, a Q may then be calculated:\n",
    "\n",
    "\\begin{equation*}\n",
    "Q = \\alpha \\, A_\\text{remaining} \\Delta T_\\text{lm}\n",
    "\\end{equation*}\n",
    "\n",
    "With this Q, we may loop back around and calculate a new 'guess' value for the runoff temperature of the coolant by another energy balance:\n",
    "\n",
    "\\begin{equation*}\n",
    "T_\\text{c out} = T_\\text{c in} + \\frac{Q}{\\dot m_\\text{coolant} \\, c_\\text{p coolant}}\n",
    "\\end{equation*}\n",
    "\n",
    "With a new value for $T_\\text{c out}$ obtained that is closer to the actual value, the algorithm may be repeated until it converges on a suitably accurate value (for the purposes of our code, within +/- 0.01 $^{\\circ}$C. When the value for $T_\\text{c out}$ converges, we will be left with a suitable estimation for the temperature of the subcooled process fluid leaving the condenser and being fed back into the bottom of the reactor."
   ]
  },
  {
   "cell_type": "markdown",
   "metadata": {
    "slideshow": {
     "slide_type": "slide"
    }
   },
   "source": [
    "---\n",
    "## [Cortix Balance of Plant Network](#toc) <a id=\"cortix\"></a>"
   ]
  },
  {
   "cell_type": "code",
   "execution_count": 2,
   "metadata": {
    "slideshow": {
     "slide_type": "slide"
    }
   },
   "outputs": [
    {
     "name": "stderr",
     "output_type": "stream",
     "text": [
      "[8128] 2020-07-06 01:44:00,348 - cortix - INFO - Created Cortix object \n",
      "_____________________________________________________________________________\n",
      "                             L A U N C H I N G                               \n",
      "_____________________________________________________________________________\n",
      "      ...                                        s       .     (TAAG Fraktur)\n",
      "   xH88\"`~ .x8X                                 :8      @88>\n",
      " :8888   .f\"8888Hf        u.      .u    .      .88      %8P      uL   ..\n",
      ":8888>  X8L  ^\"\"`   ...ue888b   .d88B :@8c    :888ooo    .     .@88b  @88R\n",
      "X8888  X888h        888R Y888r =\"8888f8888r -*8888888  .@88u  \"\"Y888k/\"*P\n",
      "88888  !88888.      888R I888>   4888>\"88\"    8888    888E`    Y888L\n",
      "88888   %88888      888R I888>   4888> \"      8888      888E      8888\n",
      "88888 `> `8888>     888R I888>   4888>        8888      888E      `888N\n",
      "`8888L %  ?888   ! u8888cJ888   .d888L .+    .8888Lu=   888E   .u./\"888&\n",
      " `8888  `-*\"\"   /   \"*888*P\"    ^\"8888*\"     ^%888*     888&  d888\" Y888*\"\n",
      "   \"888.      :\"      \"Y\"          \"Y\"         \"Y\"      R888\" ` \"Y   Y\"\n",
      "     `\"\"***~\"`                                           \"\"\n",
      "                             https://cortix.org                              \n",
      "_____________________________________________________________________________\n"
     ]
    }
   ],
   "source": [
    "'''Balance of Plant Header'''\n",
    "\n",
    "# Leave this block here for Azure\n",
    "try:\n",
    "    import cortix, iapws\n",
    "except ImportError:\n",
    "    print('Installing missing packages...')\n",
    "    print('')\n",
    "    !pip install cortix iapws\n",
    "    import cortix, iapws\n",
    "    \n",
    "from cortix import Cortix\n",
    "from cortix import Network\n",
    "\n",
    "from cortix.examples.bwr.reactor import BWR\n",
    "from cortix.examples.bwr.turbine import Turbine\n",
    "from cortix.examples.bwr.condenser import Condenser\n",
    "from cortix.examples.bwr.params import get_params\n",
    "\n",
    "import scipy.constants as unit\n",
    "import matplotlib.pyplot as plt\n",
    "\n",
    "end_time = 1 * unit.hour \n",
    "unit.second = 1.0\n",
    "time_step = 30.0 * unit.second\n",
    "show_time = (True,5*unit.minute)\n",
    "\n",
    "use_mpi = False  # True for MPI; False for Python multiprocessing\n",
    "\n",
    "plant = Cortix(use_mpi=use_mpi, splash=True) # System top level\n",
    "\n",
    "plant_net = plant.network = Network() # Network"
   ]
  },
  {
   "cell_type": "code",
   "execution_count": 3,
   "metadata": {
    "slideshow": {
     "slide_type": "slide"
    }
   },
   "outputs": [],
   "source": [
    "'''Reactor'''\n",
    "\n",
    "params = get_params()\n",
    "\n",
    "reactor = BWR(params)  # Create reactor module\n",
    "\n",
    "reactor.name = 'BWR'\n",
    "reactor.save = True\n",
    "reactor.time_step = time_step\n",
    "reactor.end_time = end_time\n",
    "reactor.show_time = show_time\n",
    "\n",
    "plant_net.module(reactor)  # Add reactor module to network"
   ]
  },
  {
   "cell_type": "code",
   "execution_count": 4,
   "metadata": {
    "slideshow": {
     "slide_type": "slide"
    }
   },
   "outputs": [],
   "source": [
    "'''Turbine 1'''\n",
    "\n",
    "params['turbine_inlet_pressure'] = 2\n",
    "params['turbine_outlet_pressure'] = 0.5\n",
    "params['high_pressure_turbine'] = True\n",
    "\n",
    "turbine1 = Turbine(params)  # turbine 1 module\n",
    "\n",
    "turbine1.name = 'High Pressure Turbine'\n",
    "turbine1.save = True\n",
    "turbine1.time_step = time_step\n",
    "turbine1.end_time = end_time\n",
    "\n",
    "plant_net.module(turbine1)  # Add turbine 1 module to network"
   ]
  },
  {
   "cell_type": "code",
   "execution_count": 5,
   "metadata": {
    "slideshow": {
     "slide_type": "slide"
    }
   },
   "outputs": [],
   "source": [
    "'''Turbine 2'''\n",
    "\n",
    "params['turbine_inlet_pressure'] = 0.5\n",
    "params['turbine_outlet_pressure'] = 0.005\n",
    "params['high_pressure_turbine'] = False\n",
    "params['steam flowrate'] = params['steam flowrate'] / 2\n",
    "\n",
    "turbine2 = Turbine(params)  # turbine 2 module\n",
    "\n",
    "turbine2.name = 'Low Pressure Turbine 1'\n",
    "turbine2.save = True\n",
    "turbine2.time_step = time_step\n",
    "turbine2.end_time = end_time\n",
    "\n",
    "plant_net.module(turbine2)  # Add turbine 2 module to network"
   ]
  },
  {
   "cell_type": "code",
   "execution_count": 6,
   "metadata": {
    "slideshow": {
     "slide_type": "slide"
    }
   },
   "outputs": [],
   "source": [
    "'''Turbine 3'''\n",
    "\n",
    "params['turbine_inlet_pressure'] = 0.5\n",
    "params['turbine_outlet_pressure'] = 0.005\n",
    "params['high_pressure_turbine'] = False\n",
    "\n",
    "turbine3 = Turbine(params)  # turbine 3 module\n",
    "\n",
    "turbine3.name = 'Low Pressure Turbine 2'\n",
    "turbine3.save = True\n",
    "turbine3.time_step = time_step\n",
    "turbine3.end_time = end_time\n",
    "\n",
    "plant_net.module(turbine3)"
   ]
  },
  {
   "cell_type": "code",
   "execution_count": 7,
   "metadata": {
    "slideshow": {
     "slide_type": "slide"
    }
   },
   "outputs": [],
   "source": [
    "'''Condenser'''\n",
    "\n",
    "params['steam flowrate'] = params['steam flowrate'] * 2\n",
    "\n",
    "condenser = Condenser(params)\n",
    "\n",
    "condenser.name = 'Condenser'\n",
    "condenser.save = True\n",
    "condenser.time_step = time_step\n",
    "condenser.end_time = end_time\n",
    "\n",
    "plant_net.module(condenser)"
   ]
  },
  {
   "cell_type": "code",
   "execution_count": 8,
   "metadata": {
    "slideshow": {
     "slide_type": "slide"
    }
   },
   "outputs": [
    {
     "data": {
      "image/svg+xml": [
       "<?xml version=\"1.0\" encoding=\"UTF-8\" standalone=\"no\"?>\n",
       "<!DOCTYPE svg PUBLIC \"-//W3C//DTD SVG 1.1//EN\"\n",
       " \"http://www.w3.org/Graphics/SVG/1.1/DTD/svg11.dtd\">\n",
       "<!-- Generated by graphviz version 2.42.3 (20191010.1750)\n",
       " -->\n",
       "<!-- Title: network&#45;0 Pages: 1 -->\n",
       "<svg width=\"662pt\" height=\"418pt\"\n",
       " viewBox=\"0.00 0.00 662.14 418.12\" xmlns=\"http://www.w3.org/2000/svg\" xmlns:xlink=\"http://www.w3.org/1999/xlink\">\n",
       "<g id=\"graph0\" class=\"graph\" transform=\"scale(1 1) rotate(0) translate(4 414.12)\">\n",
       "<title>network&#45;0</title>\n",
       "<polygon fill=\"white\" stroke=\"transparent\" points=\"-4,4 -4,-414.12 658.14,-414.12 658.14,4 -4,4\"/>\n",
       "<!-- 0 -->\n",
       "<g id=\"node1\" class=\"node\">\n",
       "<title>0</title>\n",
       "<polygon fill=\"lightgrey\" stroke=\"black\" points=\"435.12,-142.71 417.1,-160.71 381.05,-160.71 363.03,-142.71 381.05,-124.71 417.1,-124.71 435.12,-142.71\"/>\n",
       "<text text-anchor=\"middle\" x=\"399.07\" y=\"-139.01\" font-family=\"Times,serif\" font-size=\"14.00\">BWR</text>\n",
       "</g>\n",
       "<!-- 1 -->\n",
       "<g id=\"node2\" class=\"node\">\n",
       "<title>1</title>\n",
       "<polygon fill=\"lightgrey\" stroke=\"black\" points=\"432.21,-267.42 379.64,-285.42 274.5,-285.42 221.94,-267.42 274.5,-249.42 379.64,-249.42 432.21,-267.42\"/>\n",
       "<text text-anchor=\"middle\" x=\"327.07\" y=\"-263.72\" font-family=\"Times,serif\" font-size=\"14.00\">High Pressure Turbine</text>\n",
       "</g>\n",
       "<!-- 0&#45;&gt;1 -->\n",
       "<g id=\"edge1\" class=\"edge\">\n",
       "<title>0&#45;&gt;1</title>\n",
       "<path fill=\"none\" stroke=\"black\" d=\"M388.6,-160.84C376.5,-181.81 356.46,-216.51 342.55,-240.6\"/>\n",
       "<polygon fill=\"black\" stroke=\"black\" points=\"339.52,-238.85 337.55,-249.26 345.59,-242.35 339.52,-238.85\"/>\n",
       "</g>\n",
       "<!-- 2 -->\n",
       "<g id=\"node3\" class=\"node\">\n",
       "<title>2</title>\n",
       "<polygon fill=\"lightgrey\" stroke=\"black\" points=\"654.22,-392.12 598.64,-410.12 487.5,-410.12 431.93,-392.12 487.5,-374.12 598.64,-374.12 654.22,-392.12\"/>\n",
       "<text text-anchor=\"middle\" x=\"543.07\" y=\"-388.42\" font-family=\"Times,serif\" font-size=\"14.00\">Low Pressure Turbine 1</text>\n",
       "</g>\n",
       "<!-- 1&#45;&gt;2 -->\n",
       "<g id=\"edge2\" class=\"edge\">\n",
       "<title>1&#45;&gt;2</title>\n",
       "<path fill=\"none\" stroke=\"black\" d=\"M358.48,-285.55C396.63,-307.58 461.06,-344.77 502.82,-368.88\"/>\n",
       "<polygon fill=\"black\" stroke=\"black\" points=\"501.22,-372 511.63,-373.97 504.72,-365.94 501.22,-372\"/>\n",
       "</g>\n",
       "<!-- 3 -->\n",
       "<g id=\"node4\" class=\"node\">\n",
       "<title>3</title>\n",
       "<polygon fill=\"lightgrey\" stroke=\"black\" points=\"222.22,-142.71 166.64,-160.71 55.5,-160.71 -0.07,-142.71 55.5,-124.71 166.64,-124.71 222.22,-142.71\"/>\n",
       "<text text-anchor=\"middle\" x=\"111.07\" y=\"-139.01\" font-family=\"Times,serif\" font-size=\"14.00\">Low Pressure Turbine 2</text>\n",
       "</g>\n",
       "<!-- 1&#45;&gt;3 -->\n",
       "<g id=\"edge3\" class=\"edge\">\n",
       "<title>1&#45;&gt;3</title>\n",
       "<path fill=\"none\" stroke=\"black\" d=\"M295.66,-249.28C257.51,-227.25 193.09,-190.06 151.33,-165.95\"/>\n",
       "<polygon fill=\"black\" stroke=\"black\" points=\"152.93,-162.83 142.52,-160.86 149.43,-168.89 152.93,-162.83\"/>\n",
       "</g>\n",
       "<!-- 4 -->\n",
       "<g id=\"node5\" class=\"node\">\n",
       "<title>4</title>\n",
       "<polygon fill=\"lightgrey\" stroke=\"black\" points=\"526.64,-18 498.86,-36 443.29,-36 415.5,-18 443.29,0 498.86,0 526.64,-18\"/>\n",
       "<text text-anchor=\"middle\" x=\"471.07\" y=\"-14.3\" font-family=\"Times,serif\" font-size=\"14.00\">Condenser</text>\n",
       "</g>\n",
       "<!-- 2&#45;&gt;4 -->\n",
       "<g id=\"edge4\" class=\"edge\">\n",
       "<title>2&#45;&gt;4</title>\n",
       "<path fill=\"none\" stroke=\"black\" d=\"M539.6,-374.08C528.01,-313.84 490.58,-119.36 476.5,-46.19\"/>\n",
       "<polygon fill=\"black\" stroke=\"black\" points=\"479.92,-45.46 474.59,-36.3 473.05,-46.78 479.92,-45.46\"/>\n",
       "</g>\n",
       "<!-- 3&#45;&gt;4 -->\n",
       "<g id=\"edge5\" class=\"edge\">\n",
       "<title>3&#45;&gt;4</title>\n",
       "<path fill=\"none\" stroke=\"black\" d=\"M163.03,-124.71C233.47,-100.31 358.12,-57.13 425.24,-33.88\"/>\n",
       "<polygon fill=\"black\" stroke=\"black\" points=\"426.4,-37.18 434.71,-30.6 424.11,-30.56 426.4,-37.18\"/>\n",
       "</g>\n",
       "<!-- 4&#45;&gt;0 -->\n",
       "<g id=\"edge6\" class=\"edge\">\n",
       "<title>4&#45;&gt;0</title>\n",
       "<path fill=\"none\" stroke=\"black\" d=\"M460.6,-36.13C448.5,-57.1 428.46,-91.81 414.55,-115.89\"/>\n",
       "<polygon fill=\"black\" stroke=\"black\" points=\"411.52,-114.14 409.55,-124.55 417.59,-117.64 411.52,-114.14\"/>\n",
       "</g>\n",
       "</g>\n",
       "</svg>\n"
      ],
      "text/plain": [
       "<graphviz.dot.Digraph at 0x7f58a0fb8250>"
      ]
     },
     "execution_count": 8,
     "metadata": {},
     "output_type": "execute_result"
    }
   ],
   "source": [
    "'''Balance of Plant Network Connectivity'''\n",
    "\n",
    "plant_net.connect([reactor, 'coolant-outflow'], [turbine1, 'inflow'])\n",
    "plant_net.connect([turbine1, 'outflow-1'], [turbine2, 'inflow'])\n",
    "plant_net.connect([turbine1, 'outflow-2'], [turbine3, 'inflow'])\n",
    "plant_net.connect([turbine2, 'outflow-1'], [condenser, 'inflow-1'])\n",
    "plant_net.connect([turbine3, 'outflow-1'], [condenser, 'inflow-2'])\n",
    "plant_net.connect([condenser, 'outflow'], [reactor, 'coolant-inflow'])\n",
    "\n",
    "plant_net.draw()"
   ]
  },
  {
   "cell_type": "code",
   "execution_count": 9,
   "metadata": {
    "slideshow": {
     "slide_type": "slide"
    }
   },
   "outputs": [
    {
     "name": "stderr",
     "output_type": "stream",
     "text": [
      "[8128] 2020-07-06 01:45:09,487 - cortix - INFO - Launching Module <cortix.examples.bwr.reactor.BWR object at 0x7f58c0186b90>\n",
      "[8128] 2020-07-06 01:45:09,490 - cortix - INFO - Launching Module <cortix.examples.bwr.turbine.Turbine object at 0x7f58c01ccd50>\n",
      "[8128] 2020-07-06 01:45:09,494 - cortix - INFO - Launching Module <cortix.examples.bwr.turbine.Turbine object at 0x7f58a0fa3850>\n",
      "[8128] 2020-07-06 01:45:09,500 - cortix - INFO - Launching Module <cortix.examples.bwr.turbine.Turbine object at 0x7f58c0186690>\n",
      "[8128] 2020-07-06 01:45:09,491 - cortix - INFO - BWR::run():time[m]=0.0\n",
      "[8128] 2020-07-06 01:45:09,506 - cortix - INFO - Launching Module <cortix.examples.bwr.condenser.Condenser object at 0x7f58c0186750>\n",
      "[8128] 2020-07-06 01:45:45,095 - cortix - INFO - BWR::run():time[m]=5.0\n",
      "[8128] 2020-07-06 01:46:22,822 - cortix - INFO - BWR::run():time[m]=10.0\n",
      "[8128] 2020-07-06 01:46:54,866 - cortix - INFO - BWR::run():time[m]=15.0\n",
      "[8128] 2020-07-06 01:47:26,538 - cortix - INFO - BWR::run():time[m]=20.0\n",
      "[8128] 2020-07-06 01:48:04,010 - cortix - INFO - BWR::run():time[m]=25.0\n",
      "[8128] 2020-07-06 01:48:54,637 - cortix - INFO - BWR::run():time[m]=30.0\n",
      "[8128] 2020-07-06 01:49:31,600 - cortix - INFO - BWR::run():time[m]=35.0\n",
      "[8128] 2020-07-06 01:49:37,574 - cortix - INFO - BWR::run():time[m]=40.0\n",
      "[8128] 2020-07-06 01:49:37,819 - cortix - INFO - BWR::run():time[m]=45.0\n",
      "[8128] 2020-07-06 01:49:38,061 - cortix - INFO - BWR::run():time[m]=50.0\n",
      "[8128] 2020-07-06 01:49:38,306 - cortix - INFO - BWR::run():time[m]=55.0\n",
      "[8128] 2020-07-06 01:49:38,559 - cortix - INFO - BWR::run():time[m]=60.0\n",
      "[8128] 2020-07-06 01:49:38,595 - cortix - INFO - run()::Elapsed wall clock time [s]: 338.25\n",
      "[8128] 2020-07-06 01:49:38,595 - cortix - INFO - Closed Cortix object.\n",
      "_____________________________________________________________________________\n",
      "                           T E R M I N A T I N G                             \n",
      "_____________________________________________________________________________\n",
      "      ...                                        s       .     (TAAG Fraktur)\n",
      "   xH88\"`~ .x8X                                 :8      @88>\n",
      " :8888   .f\"8888Hf        u.      .u    .      .88      %8P      uL   ..\n",
      ":8888>  X8L  ^\"\"`   ...ue888b   .d88B :@8c    :888ooo    .     .@88b  @88R\n",
      "X8888  X888h        888R Y888r =\"8888f8888r -*8888888  .@88u  \"\"Y888k/\"*P\n",
      "88888  !88888.      888R I888>   4888>\"88\"    8888    888E`    Y888L\n",
      "88888   %88888      888R I888>   4888> \"      8888      888E      8888\n",
      "88888 `> `8888>     888R I888>   4888>        8888      888E      `888N\n",
      "`8888L %  ?888   ! u8888cJ888   .d888L .+    .8888Lu=   888E   .u./\"888&\n",
      " `8888  `-*\"\"   /   \"*888*P\"    ^\"8888*\"     ^%888*     888&  d888\" Y888*\"\n",
      "   \"888.      :\"      \"Y\"          \"Y\"         \"Y\"      R888\" ` \"Y   Y\"\n",
      "     `\"\"***~\"`                                           \"\"\n",
      "                             https://cortix.org                              \n",
      "_____________________________________________________________________________\n",
      "[8128] 2020-07-06 01:49:38,596 - cortix - INFO - close()::Elapsed wall clock time [s]: 338.25\n"
     ]
    }
   ],
   "source": [
    "'''Run'''\n",
    "\n",
    "plant.run()  # Run network dynamics simulation\n",
    "\n",
    "plant.close()  # Properly shutdow plant"
   ]
  },
  {
   "cell_type": "markdown",
   "metadata": {
    "slideshow": {
     "slide_type": "slide"
    }
   },
   "source": [
    "## [Results](#toc)<a id=\"res\"></a>"
   ]
  },
  {
   "cell_type": "markdown",
   "metadata": {
    "slideshow": {
     "slide_type": "slide"
    }
   },
   "source": [
    "During startup, the neutron density follows a predictable sigmoid shape (Fig. 2), rapidly shooting up and then slowing down until steady state is reached (1.0 being the reactor steady state neutron density). Steady-state is maintained for about 20 minutes until the reactor enters shutdown and neutron density gradually drops to zero.\n",
    "\n",
    "Neutron density also drops slightly about 15 minutes after steady state is reached. High moderator temperature results in negative reactivity insertion and a corresponding drop in neutron density.\n",
    "\n",
    "|  |\n",
    "|---|\n",
    "| <img width=\"700\" src=\"pictures/neutron-dens.png\" title=\"Neutron Density\">|\n",
    "| <p style=\"text-align:center;\"><b>Fig. 2: Neutron density time-variation during startup and shutdown.</b></p> |"
   ]
  },
  {
   "cell_type": "markdown",
   "metadata": {
    "slideshow": {
     "slide_type": "slide"
    }
   },
   "source": [
    "The six delayed neutron emitter groups follow a similar pattern to neutron density during startup and shutdown (Fig. 3), the difference in levels being due to the different $\\beta_i$ yields given in the one-group neutron energy balance. This plot (Fig. 3) shows the relative abundance of each of the delayed neutron precursor groups, in relation to steady state reactor neutron density. The small drop in density observed in the neutron density around the 25 minute mark can also be observed here.\n",
    "\n",
    "|  |\n",
    "|---|\n",
    "| <img width=\"700\" src=\"pictures/delayed-neutrons-cc.png\" title=\"Delayed Neutron Emitters\">|\n",
    "| <p style=\"text-align:center;\"><b>Fig. 3: Delayed emitter concentrations variation with time.</b></p> |"
   ]
  },
  {
   "cell_type": "markdown",
   "metadata": {
    "slideshow": {
     "slide_type": "slide"
    }
   },
   "source": [
    "\n",
    "Fuel temperature (Fig. 4) follows the neutron density curve fairly closely, which is to be expected since higher neutron density will generate more nuclear heat. The starting and ending temperatures are both room temperature at 297 $^{o}K$.\n",
    "\n",
    "|  |\n",
    "|---|\n",
    "| <img width=\"700\" src=\"pictures/fuel-temp.png\" title=\"Average Fuel Temperature\">|\n",
    "| <p style=\"text-align:center;\"><b>Fig. 4:Average fuel temperature variation with time.</b></p> |"
   ]
  },
  {
   "cell_type": "markdown",
   "metadata": {
    "slideshow": {
     "slide_type": "slide"
    }
   },
   "source": [
    "\n",
    "Coolant temperature (Fig. 5) follows the neutron density curve fairly closely, which is to be expected since more nuclear heat generation will result in a higher runoff coolant temperature.  The starting and ending temperatures are both room temperature at 297 $^{o}K$.\n",
    "\n",
    "|  |\n",
    "|---|\n",
    "| <img width=\"700\" src=\"pictures/coolant-outflow-temp.png\" title=\"Average Coolant Outflow Temperature\">|\n",
    "| <p style=\"text-align:center;\"><b>Fig. 5: Average temperature of the steam drawn off the top of the reactor, varying with time.</b></p> |"
   ]
  },
  {
   "cell_type": "markdown",
   "metadata": {
    "slideshow": {
     "slide_type": "slide"
    }
   },
   "source": [
    "\n",
    "The power produced by the high-pressure turbine (Fig. 6) follows the same general curve seen with outflow coolant temperature (Fig. 5), with the exception of the sharp drop observed in power generation almost immeditately during shutdown. The turbine is tripped as soon as inlet temperature drops below a certain threshold, causing the quick drop in power within the span of a few minutes during shutdown. \n",
    "\n",
    "|  |\n",
    "|---|\n",
    "| <img width=\"700\" src=\"pictures/turbine1-power.png\" title=\"High Pressure Turbine Power\">|\n",
    "| <p style=\"text-align:center;\"><b>Fig. 6: Power produced by the high-pressure turbine, varying with time.</b></p> |"
   ]
  },
  {
   "cell_type": "markdown",
   "metadata": {
    "slideshow": {
     "slide_type": "slide"
    }
   },
   "source": [
    "\n",
    "The low-pressure turbines (Fig. 7) follow the same power curves as the high-pressure turbines, with the exception that they produce slightly lower amounts of power at steady state.\n",
    "\n",
    "|  |\n",
    "|---|\n",
    "| <img width=\"700\" src=\"pictures/turbine2-power.png\" title=\"Low Pressure Turbine Power\">|\n",
    "| <p style=\"text-align:center;\"><b>Fig. 7: Power produced by a single low-pressure turbine, varying with time.</b></p> |"
   ]
  },
  {
   "cell_type": "markdown",
   "metadata": {
    "slideshow": {
     "slide_type": "slide"
    }
   },
   "source": [
    "\n",
    "Water exits the condenser at room temperature during startup, and the runoff temperature gradually increases to around 303 $^{o}K$ as reactor temperature increases and higher-energy steam enters the balance of plant. The observed decrease in outflow temperature occurs at the same time as the drop in neutron density (Fig. 2).\n",
    "\n",
    "|  |\n",
    "|---|\n",
    "| <img width=\"700\" src=\"pictures/condenser-outflow-temp.png\" title=\"Condenser Outflow Temperature\">|\n",
    "| <p style=\"text-align:center;\"><b>Fig. 8: Temperature of the subcooled water leaving the condenser and being fed back into the bottom of the reactor, varying with time.</b></p> |"
   ]
  },
  {
   "cell_type": "markdown",
   "metadata": {
    "slideshow": {
     "slide_type": "slide"
    }
   },
   "source": [
    "## [Conclusions](#toc)<a id=\"conc\"></a>\n",
    "\n",
    "The evolution of the plant from startup to shutdown is carried out by message passing (either using the Message Passing Interface for Python or native Python multiprocessing pipes) of time-dependent data specified by the connectivity of the [Cortix](https://cortix.org) network. Each module on the network runs on its own process or thread and data is sychronized by message passing through ports of the modules.\n",
    "\n",
    "The plant network model results follow a sigmoid shape up to the steady state point which would be expected in real plant operation. Some of the individual steady state values (i.e. the power produced by the turbines) are qualitatively similar to real operation, but improvement of the parameters used could make the model quantitatively enhanced.\n",
    "\n",
    "The [Cortix](https://cortix.org) library is instrumental in modeling dynamic systems with multiple modules. Further work could be done to scale the system into a much larger more complex plant, including additional turbines and unit operations such as pumping or safety systems."
   ]
  },
  {
   "cell_type": "markdown",
   "metadata": {
    "slideshow": {
     "slide_type": "slide"
    }
   },
   "source": [
    "## [Acknowledgements](#toc)<a id=\"ackn\"></a>\n",
    "\n",
    "This work was partially funded by the [Francis College of Engineering at UMass Lowell](https://www.uml.edu/engineering/), Department of Chemical Engineering (Nuclear Program), and the [Cortix](https://cortix.org) group."
   ]
  }
 ],
 "metadata": {
  "celltoolbar": "Slideshow",
  "kernelspec": {
   "display_name": "Python 3",
   "language": "python",
   "name": "python3"
  },
  "language_info": {
   "codemirror_mode": {
    "name": "ipython",
    "version": 3
   },
   "file_extension": ".py",
   "mimetype": "text/x-python",
   "name": "python",
   "nbconvert_exporter": "python",
   "pygments_lexer": "ipython3",
   "version": "3.9.5"
  },
  "latex_envs": {
   "LaTeX_envs_menu_present": true,
   "autoclose": false,
   "autocomplete": true,
   "bibliofile": "biblio.bib",
   "cite_by": "apalike",
   "current_citInitial": 1,
   "eqLabelWithNumbers": true,
   "eqNumInitial": 1,
   "hotkeys": {
    "equation": "Ctrl-E",
    "itemize": "Ctrl-I"
   },
   "labels_anchors": false,
   "latex_user_defs": false,
   "report_style_numbering": false,
   "user_envs_cfg": false
  },
  "toc": {
   "base_numbering": 1,
   "nav_menu": {},
   "number_sections": true,
   "sideBar": true,
   "skip_h1_title": false,
   "title_cell": "Table of Contents",
   "title_sidebar": "Contents",
   "toc_cell": false,
   "toc_position": {
    "height": "382.5px",
    "left": "1176px",
    "top": "149.133px",
    "width": "401px"
   },
   "toc_section_display": true,
   "toc_window_display": true
  }
 },
 "nbformat": 4,
 "nbformat_minor": 2
}
