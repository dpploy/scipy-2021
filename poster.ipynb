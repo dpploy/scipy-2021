{
 "cells": [
  {
   "cell_type": "markdown",
   "metadata": {
    "slideshow": {
     "slide_type": "slide"
    }
   },
   "source": [
    "# Design of a Balance of Plant System with Dynamic Networks\n",
    "> Nik Kemper, Jack Kennedy and Valmor F. de Almeida <br>\n",
    "> *nikolaus\\_kemper@student.uml.edu, jack_kennedy@student.uml.edu and valmor\\_dealmeida@uml.edu*<br>\n",
    ">\n",
    "> **University of Massachusetts Lowell** <br>\n",
    "> Dept. of Chemical Engineering, Nuclear Energy Program, Lowell, MA, 01854, <br>\n",
    ">\n",
    "> **2021 Virtual SciPy Poster Session**<br>\n",
    "> Tuesday, July 15, 2021 (2:15–4:00PM EDT) <br>\n",
    "> Austin, TX (online)\n",
    "$  \n",
    "  \\newcommand{\\Amtrx}{\\boldsymbol{\\mathsf{A}}}\n",
    "  \\newcommand{\\Bmtrx}{\\boldsymbol{\\mathsf{B}}}\n",
    "  \\newcommand{\\Mmtrx}{\\boldsymbol{\\mathsf{M}}}\n",
    "  \\newcommand{\\Imtrx}{\\boldsymbol{\\mathsf{I}}}\n",
    "  \\newcommand{\\Pmtrx}{\\boldsymbol{\\mathsf{P}}}\n",
    "  \\newcommand{\\Lmtrx}{\\boldsymbol{\\mathsf{L}}}\n",
    "  \\newcommand{\\Umtrx}{\\boldsymbol{\\mathsf{U}}}\n",
    "  \\newcommand{\\Smtrx}{\\boldsymbol{\\mathsf{S}}}\n",
    "  \\newcommand{\\xvec}{\\boldsymbol{\\mathsf{x}}}\n",
    "  \\newcommand{\\uvar}{\\boldsymbol{u}}\n",
    "  \\newcommand{\\fvar}{\\boldsymbol{f}}\n",
    "  \\newcommand{\\avec}{\\boldsymbol{\\mathsf{a}}}\n",
    "  \\newcommand{\\bvec}{\\boldsymbol{\\mathsf{b}}}\n",
    "  \\newcommand{\\cvec}{\\boldsymbol{\\mathsf{c}}}\n",
    "  \\newcommand{\\rvec}{\\boldsymbol{\\mathsf{r}}}\n",
    "  \\newcommand{\\mvec}{\\boldsymbol{\\mathsf{m}}}\n",
    "  \\newcommand{\\gvec}{\\boldsymbol{\\mathsf{g}}}\n",
    "  \\newcommand{\\zerovec}{\\boldsymbol{\\mathsf{0}}}\n",
    "  \\newcommand{\\norm}[1]{\\bigl\\lVert{#1}\\bigr\\rVert}\n",
    "  \\newcommand{\\transpose}[1]{{#1}^\\top}\n",
    "  \\DeclareMathOperator{\\rank}{rank}\n",
    "  \\newcommand{\\Power}{\\mathcal{P}}\n",
    "  \\DeclareMathOperator{\\dt}{d_\\textit{t}}\n",
    "$"
   ]
  },
  {
   "cell_type": "markdown",
   "metadata": {
    "slideshow": {
     "slide_type": "-"
    }
   },
   "source": [
    "---\n",
    "## Outline<a id=\"toc\"></a>\n",
    "* [Platform for network dynamics simulation: *Cortix*](#cortix)\n",
    "* [BWR example](#bwr)\n",
    "* [Final comments](#finalcomments)\n",
    "---"
   ]
  },
  {
   "cell_type": "markdown",
   "metadata": {
    "slideshow": {
     "slide_type": "slide"
    }
   },
   "source": [
    "## [A framework for system-level large scale modeling and simulation](#toc)<a id=\"cortix\"></a>\n",
    "1. `Cortix` framework for developing system-level applications\n",
    " - All-`python`, non-commercial free,  open-source [(download site)](https://cortix.org) development\n",
    "1. Applications consist of a generic *bi-directional network* of stand-alone *computational modules*\n",
    " - Collection of coupled, reduced-order models\n",
    "1. `Cortix` provides a single `Module` *class* for implementation of computational modules\n",
    " - Wrapper of the developer's computational module\n",
    " - Imposes *light* restrictions on the architecture of an existing code to allow for network coupling\n",
    "1. `Module` is implemented using existing message passing parallel communication libraries for data coupling.\n",
    " - Developer does not need in-depth understanding of message passing\n",
    " - The understanding of a `Port` is required for effective communication programming\n",
    "1. `Cortix` handles the connectivity of the network and delivery/receipt of messages\n",
    " - Messages can be any serializable form of data structured (*e.g.* time-stamped, events, etc.)\n",
    " - Framework is *hands-off* data; module developer handles the data\n",
    "1. Framework assigns a process to each `Module` in the network\n",
    " - Application runs in parallel: either processes (MPI, `mpi4py`) or threads (`Python` `multiprocessing`)\n",
    " - Tested in HPC platforms, laptops, desktops, and the cloud: Linux, Mac, Windows (Anaconda/VM)\n",
    " - Scalability performance dependent on computational modules (`Network` and `Port` management is scalable)\n",
    "1. `Cortix` is aimed at the HPC platform and uses the <span style=\"color:red\">rich `Python` ecosystem</span>; \n",
    " - <span style=\"color:red\">Fully integrated into electronic `Jupyter` notebooks</span>: teaching, collaboration, development, and research"
   ]
  },
  {
   "cell_type": "markdown",
   "metadata": {
    "slideshow": {
     "slide_type": "slide"
    }
   },
   "source": [
    "## [Divide and Couple Approach to Complex Systems](#toc)<a id=\"cortix2\"></a>\n",
    "An example of time-dependent system of coupled modules with indicated flow of information\n",
    "<center>\n",
    "<img width=\"500\" src=\"figs/many-m.png\" title=\"Module Network\">\n",
    "</center>\n",
    "\n",
    "+ $M_i$: module of a reduced-order model\n",
    "+ $\\qvec_{\\vec{i,j}}(t)$: coupling data vector (unknowns, and <span style=\"color:red\">signals</span>)\n",
    "+ $\\pvec_{i}(\\qvec_i, t)$: parameter vector (known function of time or unknowns)\n",
    "<br>\n",
    "\n",
    "Sources of mathematical computational and complexity:\n",
    " + Large scale connectivity (scaling up to realistic sizes)\n",
    " + Module behavior dependent on signals (on/off, breakdown, warming up, cooling down, *etc.*)\n",
    " \n",
    "NB: Since `Cortix` is designed on the basis of *messages*, event-driven systems are equally supported."
   ]
  },
  {
   "cell_type": "markdown",
   "metadata": {
    "slideshow": {
     "slide_type": "slide"
    }
   },
   "source": [
    "## [Module Internals and Commonality](#toc)<a id=\"cortix2\"></a>\n",
    "Reduced-order models often share a common mathematical basis because of balance laws, *e.g.*\n",
    "\n",
    "|  | | |\n",
    "|---|--|---|\n",
    "|<img width=\"300\" src=\"figs/black-box.png\" title=\"Module\"> | >> INTERNALLY >> | <img width=\"600\" src=\"figs/white-box.png\" title=\"Module\">|\n",
    "\n",
    "+ $\\Fvar(\\cdot), \\Gvar(\\cdot), \\Hvar(\\cdot)$: behavior/model\n",
    "+ $\\uvec(t)$: state vector\n",
    "+ $\\pvec(t)$: parameter vector\n",
    "+ $\\qvec(t)$: coupling vector (depends on a subset of the state vector)\n",
    "\n",
    "Often, the model is a system of non-linearly coupled ODEs."
   ]
  },
  {
   "cell_type": "markdown",
   "metadata": {
    "slideshow": {
     "slide_type": "slide"
    }
   },
   "source": [
    "## [Life of a Cortix Module](#toc)<a id=\"cortix2\"></a>\n",
    "<center>\n",
    "<img width=\"300\" src=\"figs/external-behavior.png\" title=\"Module\">\n",
    "</center>\n",
    "\n",
    "+ A module does not receive or send a message to itself\n",
    "+ $M_i$ may evolve on its own time $t_i$\n",
    "  - Requires a known parameter vector $\\pvec_i(t_i)$\n",
    "+ Coupling vectors $\\qvec_{\\vec{j, i}}(t_i)$ allow $M_i$ to use data from other modules in the network.\n",
    "  - $M_i$ will *wait* for time-stamped coupling data $t_j$ via message passing (synchronization)"
   ]
  },
  {
   "cell_type": "markdown",
   "metadata": {
    "slideshow": {
     "slide_type": "slide"
    }
   },
   "source": [
    "## [Time Evolution (uniform case)](#toc)<a id=\"cortix2\"></a>\n",
    "\n",
    "1. Initialize $t_0  = 0$ and $M_j\\bigl(\\uvec(t_0); \\qvec(t_0), \\pvec(t_0)\\bigr)$ for all modules in the network.\n",
    "1. For all $i = 1 \\ldots n$:\n",
    " + Solve for $\\uvec(t_i)$  $\\forall$  $M_j\\bigl(\\uvec(t_i); \\qvec(t_{i - 1}), \\pvec(t_{i - 1})\\bigr)$ independently.\n",
    " + Compute $\\qvec(t_i), \\pvec(t_i)$ and exchange information: $\\qvec_{\\vec{j, k}}(t_i)$.\n",
    " + Advance $t_{i + 1} \\leftarrow t_i + \\Delta t$ according to the configured time step.\n",
    "\n",
    "### Comments\n",
    "+ There is inevitable propagation of error in this explicit time evolution.\n",
    "+ Modules must be loosely coupled components of the system; merge those that are tightly coupled into one.\n",
    "+ Reduce the integration time step to the extent possible."
   ]
  },
  {
   "cell_type": "markdown",
   "metadata": {
    "slideshow": {
     "slide_type": "slide"
    }
   },
   "source": [
    "## [Modular Network Assembly](#toc)<a id=\"cortix2\"></a>\n",
    "+ An example of a modular network"
   ]
  },
  {
   "cell_type": "code",
   "execution_count": 1,
   "metadata": {},
   "outputs": [
    {
     "name": "stderr",
     "output_type": "stream",
     "text": [
      "[4140] 2021-06-15 14:02:46,197 - cortix - INFO - Created Cortix object\n"
     ]
    }
   ],
   "source": [
    "'''Balance of Plant'''\n",
    "# Framework\n",
    "from cortix import Cortix\n",
    "from cortix import Network\n",
    "\n",
    "plant = Cortix()                      # System top level\n",
    "plant_net = plant.network = Network() # Network"
   ]
  },
  {
   "cell_type": "code",
   "execution_count": 2,
   "metadata": {
    "slideshow": {
     "slide_type": "-"
    }
   },
   "outputs": [],
   "source": [
    "'''Developer Reactor'''\n",
    "from bop.reactor import BWR\n",
    "from bop.params import get_params\n",
    "params = get_params()\n",
    "reactor = BWR(params)     # Create reactor module\n",
    "\n",
    "plant_net.module(reactor) # Add reactor module to network"
   ]
  },
  {
   "cell_type": "code",
   "execution_count": 3,
   "metadata": {
    "slideshow": {
     "slide_type": "-"
    }
   },
   "outputs": [],
   "source": [
    "'''Developer Turbine High Pressure'''\n",
    "from bop.turbine import Turbine\n",
    "params['turbine_inlet_pressure'] = 2 # MPa\n",
    "params['turbine_outlet_pressure'] = 0.5 # MPa\n",
    "params['high_pressure_turbine'] = True\n",
    "turb_hp = Turbine(params) # Create turbine\n",
    "turb_hp.name = 'Turbine HP'\n",
    "\n",
    "plant_net.module(turb_hp) # Add turbine module to network"
   ]
  },
  {
   "cell_type": "code",
   "execution_count": 4,
   "metadata": {
    "slideshow": {
     "slide_type": "-"
    }
   },
   "outputs": [],
   "source": [
    "'''Developer Turbine Low Pressure 1'''\n",
    "params['turbine_inlet_pressure'] = 0.5 # MPa\n",
    "params['turbine_outlet_pressure'] = 0.005 # MPa\n",
    "params['high_pressure_turbine'] = False\n",
    "params['steam flowrate'] = params['steam flowrate']/2\n",
    "turb_lp1 = Turbine(params)  # Create turbine\n",
    "turb_lp1.name = 'Turbine LP 1'\n",
    "plant_net.module(turb_lp1)  # Add turbine module to network"
   ]
  },
  {
   "cell_type": "code",
   "execution_count": 5,
   "metadata": {
    "slideshow": {
     "slide_type": "-"
    }
   },
   "outputs": [],
   "source": [
    "'''Developer Turbine Low Pressure 2'''\n",
    "params['turbine_inlet_pressure'] = 0.5 # MPa\n",
    "params['turbine_outlet_pressure'] = 0.005 # MPa\n",
    "params['high_pressure_turbine'] = False\n",
    "turb_lp2 = Turbine(params)  # Create turbine\n",
    "turb_lp2.name = 'Turbine LP 2'\n",
    "plant_net.module(turb_lp2)  # Add turbine module to network"
   ]
  },
  {
   "cell_type": "code",
   "execution_count": 6,
   "metadata": {
    "slideshow": {
     "slide_type": "-"
    }
   },
   "outputs": [],
   "source": [
    "'''Developer Condenser'''\n",
    "from bop.condenser import Condenser\n",
    "condenser = Condenser()     # Create condenser\n",
    "plant_net.module(condenser) # Add condenser module to network"
   ]
  },
  {
   "cell_type": "code",
   "execution_count": 7,
   "metadata": {
    "slideshow": {
     "slide_type": "-"
    }
   },
   "outputs": [],
   "source": [
    "'''Developer Residual Heat Removal System'''\n",
    "from bop.rhrs import RHRS\n",
    "import scipy.constants as unit\n",
    "params['rhrs-shutdown-time'] = 5 * unit.minute\n",
    "rhrs = RHRS(params)    # Create startup/shutdown heat removal\n",
    "plant_net.module(rhrs) # Add cooler module to network"
   ]
  },
  {
   "cell_type": "markdown",
   "metadata": {},
   "source": [
    "### Exchange of Information $\\qvec_{\\vec{j, k}}(t_i)$:\n",
    "+ `Ports` are the mechanism for exchanging information.\n",
    "+ `Ports` are provided in the `Module` class from `Cortix`.\n",
    "+ Either the MPI or `Python` `multiprocessing` libraries are used."
   ]
  },
  {
   "cell_type": "code",
   "execution_count": 8,
   "metadata": {
    "slideshow": {
     "slide_type": "-"
    }
   },
   "outputs": [
    {
     "data": {
      "image/svg+xml": [
       "<?xml version=\"1.0\" encoding=\"UTF-8\" standalone=\"no\"?>\n",
       "<!DOCTYPE svg PUBLIC \"-//W3C//DTD SVG 1.1//EN\"\n",
       " \"http://www.w3.org/Graphics/SVG/1.1/DTD/svg11.dtd\">\n",
       "<!-- Generated by graphviz version 2.47.1 (20210417.1919)\n",
       " -->\n",
       "<!-- Title: network&#45;0 Pages: 1 -->\n",
       "<svg width=\"224pt\" height=\"476pt\"\n",
       " viewBox=\"0.00 0.00 224.08 476.00\" xmlns=\"http://www.w3.org/2000/svg\" xmlns:xlink=\"http://www.w3.org/1999/xlink\">\n",
       "<g id=\"graph0\" class=\"graph\" transform=\"scale(1 1) rotate(0) translate(4 472)\">\n",
       "<title>network&#45;0</title>\n",
       "<polygon fill=\"white\" stroke=\"transparent\" points=\"-4,4 -4,-472 220.08,-472 220.08,4 -4,4\"/>\n",
       "<!-- 0 -->\n",
       "<g id=\"node1\" class=\"node\">\n",
       "<title>0</title>\n",
       "<polygon fill=\"lightgrey\" stroke=\"black\" points=\"196.5,-468 193.5,-472 172.5,-472 169.5,-468 142.5,-468 142.5,-432 196.5,-432 196.5,-468\"/>\n",
       "<text text-anchor=\"middle\" x=\"169.5\" y=\"-446.3\" font-family=\"Times,serif\" font-size=\"14.00\">BWR</text>\n",
       "</g>\n",
       "<!-- 1 -->\n",
       "<g id=\"node2\" class=\"node\">\n",
       "<title>1</title>\n",
       "<polygon fill=\"lightgrey\" stroke=\"black\" points=\"124.5,-324 121.5,-328 100.5,-328 97.5,-324 44.5,-324 44.5,-288 124.5,-288 124.5,-324\"/>\n",
       "<text text-anchor=\"middle\" x=\"84.5\" y=\"-302.3\" font-family=\"Times,serif\" font-size=\"14.00\">Turbine HP</text>\n",
       "</g>\n",
       "<!-- 0&#45;&gt;1 -->\n",
       "<g id=\"edge1\" class=\"edge\">\n",
       "<title>0&#45;&gt;1</title>\n",
       "<path fill=\"none\" stroke=\"black\" d=\"M159.25,-431.87C144.51,-407.24 117.21,-361.64 99.99,-332.88\"/>\n",
       "<polygon fill=\"black\" stroke=\"black\" points=\"102.93,-330.97 94.79,-324.19 96.92,-334.57 102.93,-330.97\"/>\n",
       "</g>\n",
       "<!-- 5 -->\n",
       "<g id=\"node6\" class=\"node\">\n",
       "<title>5</title>\n",
       "<polygon fill=\"lightgrey\" stroke=\"black\" points=\"196.5,-324 193.5,-328 172.5,-328 169.5,-324 142.5,-324 142.5,-288 196.5,-288 196.5,-324\"/>\n",
       "<text text-anchor=\"middle\" x=\"169.5\" y=\"-302.3\" font-family=\"Times,serif\" font-size=\"14.00\">RHRS</text>\n",
       "</g>\n",
       "<!-- 0&#45;&gt;5 -->\n",
       "<g id=\"edge7\" class=\"edge\">\n",
       "<title>0&#45;&gt;5</title>\n",
       "<path fill=\"none\" stroke=\"black\" d=\"M164.92,-431.87C162.36,-407.67 162.07,-363.21 164.04,-334.39\"/>\n",
       "<polygon fill=\"black\" stroke=\"black\" points=\"167.55,-334.45 164.91,-324.19 160.57,-333.86 167.55,-334.45\"/>\n",
       "</g>\n",
       "<!-- 2 -->\n",
       "<g id=\"node3\" class=\"node\">\n",
       "<title>2</title>\n",
       "<polygon fill=\"lightgrey\" stroke=\"black\" points=\"89,-180 86,-184 65,-184 62,-180 0,-180 0,-144 89,-144 89,-180\"/>\n",
       "<text text-anchor=\"middle\" x=\"44.5\" y=\"-158.3\" font-family=\"Times,serif\" font-size=\"14.00\">Turbine LP 1</text>\n",
       "</g>\n",
       "<!-- 1&#45;&gt;2 -->\n",
       "<g id=\"edge2\" class=\"edge\">\n",
       "<title>1&#45;&gt;2</title>\n",
       "<path fill=\"none\" stroke=\"black\" d=\"M79.68,-287.87C72.83,-263.56 60.22,-218.82 52.11,-190.01\"/>\n",
       "<polygon fill=\"black\" stroke=\"black\" points=\"55.42,-188.87 49.34,-180.19 48.68,-190.76 55.42,-188.87\"/>\n",
       "</g>\n",
       "<!-- 3 -->\n",
       "<g id=\"node4\" class=\"node\">\n",
       "<title>3</title>\n",
       "<polygon fill=\"lightgrey\" stroke=\"black\" points=\"196,-180 193,-184 172,-184 169,-180 107,-180 107,-144 196,-144 196,-180\"/>\n",
       "<text text-anchor=\"middle\" x=\"151.5\" y=\"-158.3\" font-family=\"Times,serif\" font-size=\"14.00\">Turbine LP 2</text>\n",
       "</g>\n",
       "<!-- 1&#45;&gt;3 -->\n",
       "<g id=\"edge3\" class=\"edge\">\n",
       "<title>1&#45;&gt;3</title>\n",
       "<path fill=\"none\" stroke=\"black\" d=\"M92.58,-287.87C104.15,-263.35 125.53,-218.03 139.11,-189.26\"/>\n",
       "<polygon fill=\"black\" stroke=\"black\" points=\"142.29,-190.73 143.39,-180.19 135.96,-187.74 142.29,-190.73\"/>\n",
       "</g>\n",
       "<!-- 4 -->\n",
       "<g id=\"node5\" class=\"node\">\n",
       "<title>4</title>\n",
       "<polygon fill=\"lightgrey\" stroke=\"black\" points=\"188.5,-36 185.5,-40 164.5,-40 161.5,-36 114.5,-36 114.5,0 188.5,0 188.5,-36\"/>\n",
       "<text text-anchor=\"middle\" x=\"151.5\" y=\"-14.3\" font-family=\"Times,serif\" font-size=\"14.00\">Condenser</text>\n",
       "</g>\n",
       "<!-- 2&#45;&gt;4 -->\n",
       "<g id=\"edge4\" class=\"edge\">\n",
       "<title>2&#45;&gt;4</title>\n",
       "<path fill=\"none\" stroke=\"black\" d=\"M57.41,-143.87C76.04,-119.14 110.63,-73.24 132.28,-44.51\"/>\n",
       "<polygon fill=\"black\" stroke=\"black\" points=\"135.32,-46.28 138.55,-36.19 129.73,-42.07 135.32,-46.28\"/>\n",
       "</g>\n",
       "<!-- 3&#45;&gt;4 -->\n",
       "<g id=\"edge5\" class=\"edge\">\n",
       "<title>3&#45;&gt;4</title>\n",
       "<path fill=\"none\" stroke=\"black\" d=\"M151.5,-143.87C151.5,-119.67 151.5,-75.21 151.5,-46.39\"/>\n",
       "<polygon fill=\"black\" stroke=\"black\" points=\"155,-46.19 151.5,-36.19 148,-46.19 155,-46.19\"/>\n",
       "</g>\n",
       "<!-- 4&#45;&gt;0 -->\n",
       "<g id=\"edge6\" class=\"edge\">\n",
       "<title>4&#45;&gt;0</title>\n",
       "<path fill=\"none\" stroke=\"black\" d=\"M161.56,-36.05C174.71,-59.45 197.08,-103.26 205.5,-144 221.7,-222.34 216.68,-244.79 205.5,-324 200.59,-358.79 188.35,-397.46 179.51,-422.44\"/>\n",
       "<polygon fill=\"black\" stroke=\"black\" points=\"176.18,-421.35 176.07,-431.94 182.76,-423.73 176.18,-421.35\"/>\n",
       "</g>\n",
       "<!-- 5&#45;&gt;0 -->\n",
       "<g id=\"edge8\" class=\"edge\">\n",
       "<title>5&#45;&gt;0</title>\n",
       "<path fill=\"none\" stroke=\"black\" d=\"M174.09,-324.19C176.65,-348.42 176.93,-392.89 174.95,-421.68\"/>\n",
       "<polygon fill=\"black\" stroke=\"black\" points=\"171.45,-421.61 174.08,-431.87 178.42,-422.21 171.45,-421.61\"/>\n",
       "</g>\n",
       "</g>\n",
       "</svg>\n"
      ],
      "text/plain": [
       "<graphviz.dot.Digraph at 0x7f47c1e4eaf0>"
      ]
     },
     "execution_count": 8,
     "metadata": {},
     "output_type": "execute_result"
    }
   ],
   "source": [
    "'''Framework Network Connectivity'''\n",
    "# Connect an edge or pipe (ports are the ends of the edge)\n",
    "plant_net.connect([reactor, 'coolant-outflow'], [turb_hp, 'inflow'])\n",
    "plant_net.connect([turb_hp, 'outflow-1'], [turb_lp1, 'inflow'])\n",
    "plant_net.connect([turb_hp, 'outflow-2'], [turb_lp2, 'inflow'])\n",
    "plant_net.connect([turb_lp1, 'outflow-1'], [condenser, 'inflow-1'])\n",
    "plant_net.connect([turb_lp2, 'outflow-1'], [condenser, 'inflow-2'])\n",
    "plant_net.connect([condenser, 'outflow'], [reactor, 'coolant-inflow'])\n",
    "plant_net.connect([reactor, 'rhrs-outflow'], [rhrs, 'coolant-inflow'])\n",
    "plant_net.connect([rhrs, 'coolant-outflow'], [reactor, 'rhrs-inflow'])\n",
    "\n",
    "plant_net.draw(engine='dot', node_shape='folder')"
   ]
  },
  {
   "cell_type": "markdown",
   "metadata": {},
   "source": [
    "### Comments:\n",
    "+ Note module reuse: `Turbine` instantiated 3 times.\n",
    "+ Note that there is no parsing of an input file to setup system.\n",
    "+ `Python` programming language is used to create the configuration file directly."
   ]
  },
  {
   "cell_type": "markdown",
   "metadata": {
    "slideshow": {
     "slide_type": "slide"
    }
   },
   "source": [
    "## [Scalability of Assembly (Ports and Pipes)](#toc)<a id=\"cortix2\"></a>\n",
    "+ Ports are cheap to create (little overhead) and can be created on the fly.\n",
    "+ Example:"
   ]
  },
  {
   "cell_type": "code",
   "execution_count": 9,
   "metadata": {},
   "outputs": [
    {
     "name": "stderr",
     "output_type": "stream",
     "text": [
      "[4140] 2021-06-15 14:02:46,463 - cortix - INFO - Created Cortix object\n"
     ]
    },
    {
     "data": {
      "image/svg+xml": [
       "<?xml version=\"1.0\" encoding=\"UTF-8\" standalone=\"no\"?>\n",
       "<!DOCTYPE svg PUBLIC \"-//W3C//DTD SVG 1.1//EN\"\n",
       " \"http://www.w3.org/Graphics/SVG/1.1/DTD/svg11.dtd\">\n",
       "<!-- Generated by graphviz version 2.47.1 (20210417.1919)\n",
       " -->\n",
       "<!-- Title: network&#45;1 Pages: 1 -->\n",
       "<svg width=\"472pt\" height=\"419pt\"\n",
       " viewBox=\"0.00 0.00 471.50 418.51\" xmlns=\"http://www.w3.org/2000/svg\" xmlns:xlink=\"http://www.w3.org/1999/xlink\">\n",
       "<g id=\"graph0\" class=\"graph\" transform=\"scale(1 1) rotate(0) translate(4 414.51)\">\n",
       "<title>network&#45;1</title>\n",
       "<polygon fill=\"white\" stroke=\"transparent\" points=\"-4,4 -4,-414.51 467.5,-414.51 467.5,4 -4,4\"/>\n",
       "<!-- 0 -->\n",
       "<g id=\"node1\" class=\"node\">\n",
       "<title>0</title>\n",
       "<polygon fill=\"lightgrey\" stroke=\"black\" points=\"268.68,-205.26 248.9,-223.26 209.35,-223.26 189.57,-205.26 209.35,-187.26 248.9,-187.26 268.68,-205.26\"/>\n",
       "<text text-anchor=\"middle\" x=\"229.12\" y=\"-201.56\" font-family=\"Times,serif\" font-size=\"14.00\">Vortex</text>\n",
       "</g>\n",
       "<!-- 1 -->\n",
       "<g id=\"node2\" class=\"node\">\n",
       "<title>1</title>\n",
       "<polygon fill=\"lightgrey\" stroke=\"black\" points=\"458.28,-263.12 432.75,-281.12 381.68,-281.12 356.15,-263.12 381.68,-245.12 432.75,-245.12 458.28,-263.12\"/>\n",
       "<text text-anchor=\"middle\" x=\"407.22\" y=\"-259.42\" font-family=\"Times,serif\" font-size=\"14.00\">Droplet 1</text>\n",
       "</g>\n",
       "<!-- 0&#45;&gt;1 -->\n",
       "<g id=\"edge2\" class=\"edge\">\n",
       "<title>0&#45;&gt;1</title>\n",
       "<path fill=\"none\" stroke=\"black\" d=\"M254.25,-218.66C280.77,-229.27 323.28,-243.47 356.76,-253.13\"/>\n",
       "<polygon fill=\"black\" stroke=\"black\" points=\"355.82,-256.5 366.39,-255.85 357.72,-249.76 355.82,-256.5\"/>\n",
       "</g>\n",
       "<!-- 2 -->\n",
       "<g id=\"node3\" class=\"node\">\n",
       "<title>2</title>\n",
       "<polygon fill=\"lightgrey\" stroke=\"black\" points=\"390.26,-356.75 364.72,-374.75 313.66,-374.75 288.12,-356.75 313.66,-338.75 364.72,-338.75 390.26,-356.75\"/>\n",
       "<text text-anchor=\"middle\" x=\"339.19\" y=\"-353.05\" font-family=\"Times,serif\" font-size=\"14.00\">Droplet 2</text>\n",
       "</g>\n",
       "<!-- 0&#45;&gt;2 -->\n",
       "<g id=\"edge4\" class=\"edge\">\n",
       "<title>0&#45;&gt;2</title>\n",
       "<path fill=\"none\" stroke=\"black\" d=\"M237,-223.43C252.91,-250.09 288.5,-299.74 313.27,-330.39\"/>\n",
       "<polygon fill=\"black\" stroke=\"black\" points=\"310.88,-333 319.94,-338.5 316.28,-328.55 310.88,-333\"/>\n",
       "</g>\n",
       "<!-- 3 -->\n",
       "<g id=\"node4\" class=\"node\">\n",
       "<title>3</title>\n",
       "<polygon fill=\"lightgrey\" stroke=\"black\" points=\"280.19,-392.51 254.66,-410.51 203.59,-410.51 178.06,-392.51 203.59,-374.51 254.66,-374.51 280.19,-392.51\"/>\n",
       "<text text-anchor=\"middle\" x=\"229.12\" y=\"-388.81\" font-family=\"Times,serif\" font-size=\"14.00\">Droplet 3</text>\n",
       "</g>\n",
       "<!-- 0&#45;&gt;3 -->\n",
       "<g id=\"edge6\" class=\"edge\">\n",
       "<title>0&#45;&gt;3</title>\n",
       "<path fill=\"none\" stroke=\"black\" d=\"M224.91,-223.55C221.81,-256.36 221.55,-325.39 224.13,-364.3\"/>\n",
       "<polygon fill=\"black\" stroke=\"black\" points=\"220.65,-364.73 224.93,-374.42 227.63,-364.17 220.65,-364.73\"/>\n",
       "</g>\n",
       "<!-- 4 -->\n",
       "<g id=\"node5\" class=\"node\">\n",
       "<title>4</title>\n",
       "<polygon fill=\"lightgrey\" stroke=\"black\" points=\"170.12,-356.75 144.59,-374.75 93.52,-374.75 67.99,-356.75 93.52,-338.75 144.59,-338.75 170.12,-356.75\"/>\n",
       "<text text-anchor=\"middle\" x=\"119.06\" y=\"-353.05\" font-family=\"Times,serif\" font-size=\"14.00\">Droplet 4</text>\n",
       "</g>\n",
       "<!-- 0&#45;&gt;4 -->\n",
       "<g id=\"edge8\" class=\"edge\">\n",
       "<title>0&#45;&gt;4</title>\n",
       "<path fill=\"none\" stroke=\"black\" d=\"M209.9,-223.47C187.68,-249.88 152.04,-298.8 132.54,-329.5\"/>\n",
       "<polygon fill=\"black\" stroke=\"black\" points=\"129.32,-328.05 127.05,-338.4 135.28,-331.73 129.32,-328.05\"/>\n",
       "</g>\n",
       "<!-- 5 -->\n",
       "<g id=\"node6\" class=\"node\">\n",
       "<title>5</title>\n",
       "<polygon fill=\"lightgrey\" stroke=\"black\" points=\"102.1,-263.12 76.57,-281.12 25.5,-281.12 -0.03,-263.12 25.5,-245.12 76.57,-245.12 102.1,-263.12\"/>\n",
       "<text text-anchor=\"middle\" x=\"51.03\" y=\"-259.42\" font-family=\"Times,serif\" font-size=\"14.00\">Droplet 5</text>\n",
       "</g>\n",
       "<!-- 0&#45;&gt;5 -->\n",
       "<g id=\"edge10\" class=\"edge\">\n",
       "<title>0&#45;&gt;5</title>\n",
       "<path fill=\"none\" stroke=\"black\" d=\"M195.22,-210.66C165.39,-218.55 121.95,-232.5 90.55,-244.18\"/>\n",
       "<polygon fill=\"black\" stroke=\"black\" points=\"88.92,-241.06 80.81,-247.88 91.4,-247.6 88.92,-241.06\"/>\n",
       "</g>\n",
       "<!-- 6 -->\n",
       "<g id=\"node7\" class=\"node\">\n",
       "<title>6</title>\n",
       "<polygon fill=\"lightgrey\" stroke=\"black\" points=\"102.1,-147.39 76.57,-165.39 25.5,-165.39 -0.03,-147.39 25.5,-129.39 76.57,-129.39 102.1,-147.39\"/>\n",
       "<text text-anchor=\"middle\" x=\"51.03\" y=\"-143.69\" font-family=\"Times,serif\" font-size=\"14.00\">Droplet 6</text>\n",
       "</g>\n",
       "<!-- 0&#45;&gt;6 -->\n",
       "<g id=\"edge12\" class=\"edge\">\n",
       "<title>0&#45;&gt;6</title>\n",
       "<path fill=\"none\" stroke=\"black\" d=\"M204,-191.85C177.48,-181.24 134.97,-167.04 101.48,-157.38\"/>\n",
       "<polygon fill=\"black\" stroke=\"black\" points=\"102.43,-154.01 91.86,-154.66 100.53,-160.75 102.43,-154.01\"/>\n",
       "</g>\n",
       "<!-- 7 -->\n",
       "<g id=\"node8\" class=\"node\">\n",
       "<title>7</title>\n",
       "<polygon fill=\"lightgrey\" stroke=\"black\" points=\"170.12,-53.76 144.59,-71.76 93.52,-71.76 67.99,-53.76 93.52,-35.76 144.59,-35.76 170.12,-53.76\"/>\n",
       "<text text-anchor=\"middle\" x=\"119.06\" y=\"-50.06\" font-family=\"Times,serif\" font-size=\"14.00\">Droplet 7</text>\n",
       "</g>\n",
       "<!-- 0&#45;&gt;7 -->\n",
       "<g id=\"edge14\" class=\"edge\">\n",
       "<title>0&#45;&gt;7</title>\n",
       "<path fill=\"none\" stroke=\"black\" d=\"M221.24,-187.08C205.34,-160.42 169.75,-110.77 144.98,-80.12\"/>\n",
       "<polygon fill=\"black\" stroke=\"black\" points=\"147.37,-77.51 138.31,-72.01 141.96,-81.96 147.37,-77.51\"/>\n",
       "</g>\n",
       "<!-- 8 -->\n",
       "<g id=\"node9\" class=\"node\">\n",
       "<title>8</title>\n",
       "<polygon fill=\"lightgrey\" stroke=\"black\" points=\"280.19,-18 254.66,-36 203.59,-36 178.06,-18 203.59,0 254.66,0 280.19,-18\"/>\n",
       "<text text-anchor=\"middle\" x=\"229.12\" y=\"-14.3\" font-family=\"Times,serif\" font-size=\"14.00\">Droplet 8</text>\n",
       "</g>\n",
       "<!-- 0&#45;&gt;8 -->\n",
       "<g id=\"edge16\" class=\"edge\">\n",
       "<title>0&#45;&gt;8</title>\n",
       "<path fill=\"none\" stroke=\"black\" d=\"M233.34,-186.96C236.44,-154.15 236.7,-85.12 234.12,-46.21\"/>\n",
       "<polygon fill=\"black\" stroke=\"black\" points=\"237.6,-45.79 233.32,-36.09 230.62,-46.34 237.6,-45.79\"/>\n",
       "</g>\n",
       "<!-- 9 -->\n",
       "<g id=\"node10\" class=\"node\">\n",
       "<title>9</title>\n",
       "<polygon fill=\"lightgrey\" stroke=\"black\" points=\"390.26,-53.76 364.72,-71.76 313.66,-71.76 288.12,-53.76 313.66,-35.76 364.72,-35.76 390.26,-53.76\"/>\n",
       "<text text-anchor=\"middle\" x=\"339.19\" y=\"-50.06\" font-family=\"Times,serif\" font-size=\"14.00\">Droplet 9</text>\n",
       "</g>\n",
       "<!-- 0&#45;&gt;9 -->\n",
       "<g id=\"edge18\" class=\"edge\">\n",
       "<title>0&#45;&gt;9</title>\n",
       "<path fill=\"none\" stroke=\"black\" d=\"M248.35,-187.04C270.56,-160.63 306.21,-111.71 325.71,-81.01\"/>\n",
       "<polygon fill=\"black\" stroke=\"black\" points=\"328.92,-82.46 331.2,-72.12 322.97,-78.78 328.92,-82.46\"/>\n",
       "</g>\n",
       "<!-- 10 -->\n",
       "<g id=\"node11\" class=\"node\">\n",
       "<title>10</title>\n",
       "<polygon fill=\"lightgrey\" stroke=\"black\" points=\"463.29,-147.39 435.25,-165.39 379.18,-165.39 351.14,-147.39 379.18,-129.39 435.25,-129.39 463.29,-147.39\"/>\n",
       "<text text-anchor=\"middle\" x=\"407.22\" y=\"-143.69\" font-family=\"Times,serif\" font-size=\"14.00\">Droplet 10</text>\n",
       "</g>\n",
       "<!-- 0&#45;&gt;10 -->\n",
       "<g id=\"edge20\" class=\"edge\">\n",
       "<title>0&#45;&gt;10</title>\n",
       "<path fill=\"none\" stroke=\"black\" d=\"M263.03,-199.86C292.31,-192.11 334.69,-178.52 365.94,-166.98\"/>\n",
       "<polygon fill=\"black\" stroke=\"black\" points=\"367.54,-170.12 375.66,-163.32 365.07,-163.57 367.54,-170.12\"/>\n",
       "</g>\n",
       "<!-- 1&#45;&gt;0 -->\n",
       "<g id=\"edge1\" class=\"edge\">\n",
       "<title>1&#45;&gt;0</title>\n",
       "<path fill=\"none\" stroke=\"black\" d=\"M377.42,-247.88C348.82,-236.75 305.31,-222.42 272.8,-213.32\"/>\n",
       "<polygon fill=\"black\" stroke=\"black\" points=\"273.66,-209.93 263.09,-210.67 271.82,-216.68 273.66,-209.93\"/>\n",
       "</g>\n",
       "<!-- 2&#45;&gt;0 -->\n",
       "<g id=\"edge3\" class=\"edge\">\n",
       "<title>2&#45;&gt;0</title>\n",
       "<path fill=\"none\" stroke=\"black\" d=\"M331.31,-338.58C315.4,-311.91 279.81,-262.26 255.05,-231.61\"/>\n",
       "<polygon fill=\"black\" stroke=\"black\" points=\"257.44,-229 248.38,-223.51 252.03,-233.45 257.44,-229\"/>\n",
       "</g>\n",
       "<!-- 3&#45;&gt;0 -->\n",
       "<g id=\"edge5\" class=\"edge\">\n",
       "<title>3&#45;&gt;0</title>\n",
       "<path fill=\"none\" stroke=\"black\" d=\"M233.34,-374.22C236.44,-341.41 236.7,-272.38 234.12,-233.47\"/>\n",
       "<polygon fill=\"black\" stroke=\"black\" points=\"237.6,-233.04 233.32,-223.35 230.62,-233.6 237.6,-233.04\"/>\n",
       "</g>\n",
       "<!-- 4&#45;&gt;0 -->\n",
       "<g id=\"edge7\" class=\"edge\">\n",
       "<title>4&#45;&gt;0</title>\n",
       "<path fill=\"none\" stroke=\"black\" d=\"M138.28,-338.53C160.5,-312.12 196.15,-263.2 215.64,-232.51\"/>\n",
       "<polygon fill=\"black\" stroke=\"black\" points=\"218.86,-233.96 221.14,-223.61 212.9,-230.28 218.86,-233.96\"/>\n",
       "</g>\n",
       "<!-- 5&#45;&gt;0 -->\n",
       "<g id=\"edge9\" class=\"edge\">\n",
       "<title>5&#45;&gt;0</title>\n",
       "<path fill=\"none\" stroke=\"black\" d=\"M91.88,-255.84C122.96,-247.27 165.24,-233.48 194.63,-222.31\"/>\n",
       "<polygon fill=\"black\" stroke=\"black\" points=\"196.03,-225.52 204.07,-218.63 193.49,-219 196.03,-225.52\"/>\n",
       "</g>\n",
       "<!-- 6&#45;&gt;0 -->\n",
       "<g id=\"edge11\" class=\"edge\">\n",
       "<title>6&#45;&gt;0</title>\n",
       "<path fill=\"none\" stroke=\"black\" d=\"M80.83,-162.64C109.43,-173.76 152.94,-188.09 185.45,-197.19\"/>\n",
       "<polygon fill=\"black\" stroke=\"black\" points=\"184.59,-200.58 195.16,-199.84 186.43,-193.83 184.59,-200.58\"/>\n",
       "</g>\n",
       "<!-- 7&#45;&gt;0 -->\n",
       "<g id=\"edge13\" class=\"edge\">\n",
       "<title>7&#45;&gt;0</title>\n",
       "<path fill=\"none\" stroke=\"black\" d=\"M126.94,-71.94C142.85,-98.6 178.44,-148.25 203.2,-178.9\"/>\n",
       "<polygon fill=\"black\" stroke=\"black\" points=\"200.81,-181.51 209.87,-187 206.22,-177.06 200.81,-181.51\"/>\n",
       "</g>\n",
       "<!-- 8&#45;&gt;0 -->\n",
       "<g id=\"edge15\" class=\"edge\">\n",
       "<title>8&#45;&gt;0</title>\n",
       "<path fill=\"none\" stroke=\"black\" d=\"M224.91,-36.3C221.81,-69.1 221.55,-138.13 224.13,-177.04\"/>\n",
       "<polygon fill=\"black\" stroke=\"black\" points=\"220.65,-177.47 224.93,-187.16 227.63,-176.92 220.65,-177.47\"/>\n",
       "</g>\n",
       "<!-- 9&#45;&gt;0 -->\n",
       "<g id=\"edge17\" class=\"edge\">\n",
       "<title>9&#45;&gt;0</title>\n",
       "<path fill=\"none\" stroke=\"black\" d=\"M319.97,-71.98C297.75,-98.39 262.1,-147.31 242.61,-178.01\"/>\n",
       "<polygon fill=\"black\" stroke=\"black\" points=\"239.39,-176.56 237.11,-186.9 245.35,-180.24 239.39,-176.56\"/>\n",
       "</g>\n",
       "<!-- 10&#45;&gt;0 -->\n",
       "<g id=\"edge19\" class=\"edge\">\n",
       "<title>10&#45;&gt;0</title>\n",
       "<path fill=\"none\" stroke=\"black\" d=\"M363.21,-155.55C332.53,-164.15 292.19,-177.35 263.8,-188.14\"/>\n",
       "<polygon fill=\"black\" stroke=\"black\" points=\"262.33,-184.95 254.28,-191.84 264.87,-191.47 262.33,-184.95\"/>\n",
       "</g>\n",
       "</g>\n",
       "</svg>\n"
      ],
      "text/plain": [
       "<graphviz.dot.Digraph at 0x7f47c1e28b80>"
      ]
     },
     "execution_count": 9,
     "metadata": {},
     "output_type": "execute_result"
    }
   ],
   "source": [
    "from cortix.examples.droplet_swirl.droplet import Droplet\n",
    "from cortix.examples.droplet_swirl.vortex import Vortex\n",
    "\n",
    "# Configuration Parameters\n",
    "n_droplets = 10\n",
    "  \n",
    "swirl = Cortix()\n",
    "swirl.network = Network()\n",
    "  \n",
    "# Vortex module (single).\n",
    "vortex = Vortex()\n",
    "swirl.network.module(vortex)\n",
    "\n",
    "for i in range(n_droplets):\n",
    "# Droplet modules (multiple).\n",
    "    droplet = Droplet()\n",
    "    droplet.name = 'Droplet %i'%(i+1)\n",
    "    swirl.network.module(droplet)\n",
    "  \n",
    "# Network port connectivity (connect modules through their ports)\n",
    "    swirl.network.connect([droplet, 'external-flow'],\n",
    "                          [vortex, vortex.get_port('fluid-flow:{}'.format(i))], 'bidirectional')\n",
    "  \n",
    "swirl.network.draw(engine='twopi')"
   ]
  },
  {
   "cell_type": "code",
   "execution_count": 10,
   "metadata": {},
   "outputs": [
    {
     "name": "stderr",
     "output_type": "stream",
     "text": [
      "[4140] 2021-06-15 14:02:46,599 - cortix - INFO - Closed Cortix object.\n",
      "[4140] 2021-06-15 14:02:46,601 - cortix - INFO - close()::Elapsed wall clock time [s]: 0.14\n"
     ]
    }
   ],
   "source": [
    "swirl.close()"
   ]
  },
  {
   "cell_type": "markdown",
   "metadata": {
    "slideshow": {
     "slide_type": "-"
    }
   },
   "source": [
    "### Comment\n",
    "+ In cases with module repeatability the assembly process can be easily automated."
   ]
  },
  {
   "cell_type": "markdown",
   "metadata": {
    "slideshow": {
     "slide_type": "skip"
    }
   },
   "source": [
    "## [Problem Statement](#toc)<a id=\"ps\"></a>\n",
    "\n",
    "Consider a boiling water reactor, with UO$_2$ fuel and a light water moderator and coolant.\n",
    "Given the neutron generation time $\\ell$, delayed neutron fraction, $\\beta$, decay constants of six-group delayed neutron emitters, $\\lambda_i$, and corresponding yield of delayed neutron fractions for each emitter, $\\beta_i$, calculate the pointwise neutron density variation with time for *varying* neutron reactivity, $\\rho(t)$.\n",
    "\n",
    "The neutron reactivity variation with time will depend indirectly on the effects of the balance of plant around the reactor including startup and shutdown transients. This will include a high pressure turbine, two low pressure turbines and a condenser (Fig. 1)."
   ]
  },
  {
   "cell_type": "markdown",
   "metadata": {
    "slideshow": {
     "slide_type": "skip"
    }
   },
   "source": [
    "Steam is created from nuclear heat generated in the reactor and passed to the high-pressure turbine, which expands the steam to about 0.5 MPA (or 5 bar). The runoff from the high-pressure turbine is then split in half and fed to the two low-pressure turbines, which expand the runoff to 0.5 bar. The runoff is then fed to a condenser which produces subcooled liquid water, which is then fed back into the bottom of the reactor.\n",
    "\n",
    "Modeling the entire network is accomplished through the use of the network simulation library [Cortix.](https://cortix.org). The individual plant components (reactor, turbines and condenser) are implemented as `Cortix` modules, with data exchange handled by the Cortix library.\n",
    "\n",
    "Additionally, a number of the calculations used in this model rely on the [IAPWS](https://pypi.org/project/iapws/) library developed by Juan José Gómez Romera (jjgomera). IAPWS is the International Association for the Properties of Water and Steam, which develops power series that can be used to calculate properties of water and steam (such as specific enthalpy and entropy) at a variety of temperatures, pressures and qualities. The IAPWS library devloped by jjgomera implements these series as python functions which can be easily accessed and called to calculate any property required for thermodynamic calculations, drastically simplifying the process of modelling the two-phase systems in use by the turbine and condenser modules. This project specifically uses the IAPWS97 module within the library, which uses the formulations published in 1997 by IAPWS foundation as an update to ones developed in 1967. "
   ]
  },
  {
   "cell_type": "markdown",
   "metadata": {
    "cell_style": "center",
    "slideshow": {
     "slide_type": "slide"
    }
   },
   "source": [
    "## [Module Basic Template for the Run Method](#toc)<a id=\"moduletemplate\"></a>\n",
    "\n",
    "```python\n",
    "class BWR(Module): # inherit from the base class Module\n",
    "\n",
    "    def run(self, *args):\n",
    "          # Module's time loop\n",
    "          while time <= self.end_time:\n",
    "              # Specific coding goes here (operation, on-off, status, etc.)\n",
    "\n",
    "              # Evolve one time step\n",
    "              #---------------------\n",
    "              time = self.__step(time)\n",
    "        \n",
    "              # Communicate information\n",
    "              #------------------------\n",
    "              self.__call_ports(time)\n",
    "                \n",
    "    def __step(self, time):\n",
    "        # 1. Prepare module data for ODE solver        \n",
    "        # 2. Call ODE solver\n",
    "        # 3. Advance time\n",
    "        time += self.time_step\n",
    "        # 4. Update internal state data\n",
    "        return time\n",
    "    \n",
    "     def __call_ports(self, time):\n",
    "\n",
    "         # Interactions in the coolant-outflow port\n",
    "         #-----------------------------------------\n",
    "         # One way \"to\" coolant-outflow\n",
    "  \n",
    "         # Send to\n",
    "         if self.get_port('coolant-outflow').connected_port:\n",
    "  \n",
    "              msg_time = self.recv('coolant-outflow')\n",
    "\n",
    "              temp = self.coolant_outflow_phase.get_value('temp', msg_time)\n",
    "              press = self.coolant_outflow_phase.get_value('pressure', msg_time)\n",
    "  \n",
    "              coolant_outflow = dict()\n",
    "              coolant_outflow['temperature'] = temp\n",
    "              coolant_outflow['pressure'] = press\n",
    "  \n",
    "              self.send((msg_time, coolant_outflow), 'coolant-outflow')\n",
    "  \n",
    "          # Interactions in the coolant-inflow port\n",
    "          #----------------------------------------\n",
    "          # One way \"from\" coolant-inflow\n",
    "  \n",
    "          # Receive from\n",
    "          if self.get_port('coolant-inflow').connected_port:\n",
    "  \n",
    "              self.send(time, 'coolant-inflow')\n",
    "  \n",
    "              inflow_coolant = self.recv('coolant-inflow')\n",
    "  \n",
    "              self.coolant_mass_flowrate = inflow_coolant['mass_flowrate']\n",
    "              self.coolant_quality = inflow_coolant['quality']\n",
    "```"
   ]
  },
  {
   "cell_type": "markdown",
   "metadata": {
    "slideshow": {
     "slide_type": "slide"
    }
   },
   "source": [
    "## [Brief Description of BWR Plant Modules](#toc)<a id=\"bwr\"></a>"
   ]
  },
  {
   "cell_type": "code",
   "execution_count": 11,
   "metadata": {},
   "outputs": [
    {
     "data": {
      "image/svg+xml": [
       "<?xml version=\"1.0\" encoding=\"UTF-8\" standalone=\"no\"?>\n",
       "<!DOCTYPE svg PUBLIC \"-//W3C//DTD SVG 1.1//EN\"\n",
       " \"http://www.w3.org/Graphics/SVG/1.1/DTD/svg11.dtd\">\n",
       "<!-- Generated by graphviz version 2.47.1 (20210417.1919)\n",
       " -->\n",
       "<!-- Title: network&#45;0 Pages: 1 -->\n",
       "<svg width=\"224pt\" height=\"476pt\"\n",
       " viewBox=\"0.00 0.00 224.08 476.00\" xmlns=\"http://www.w3.org/2000/svg\" xmlns:xlink=\"http://www.w3.org/1999/xlink\">\n",
       "<g id=\"graph0\" class=\"graph\" transform=\"scale(1 1) rotate(0) translate(4 472)\">\n",
       "<title>network&#45;0</title>\n",
       "<polygon fill=\"white\" stroke=\"transparent\" points=\"-4,4 -4,-472 220.08,-472 220.08,4 -4,4\"/>\n",
       "<!-- 0 -->\n",
       "<g id=\"node1\" class=\"node\">\n",
       "<title>0</title>\n",
       "<polygon fill=\"lightgrey\" stroke=\"black\" points=\"196.5,-468 193.5,-472 172.5,-472 169.5,-468 142.5,-468 142.5,-432 196.5,-432 196.5,-468\"/>\n",
       "<text text-anchor=\"middle\" x=\"169.5\" y=\"-446.3\" font-family=\"Times,serif\" font-size=\"14.00\">BWR</text>\n",
       "</g>\n",
       "<!-- 1 -->\n",
       "<g id=\"node2\" class=\"node\">\n",
       "<title>1</title>\n",
       "<polygon fill=\"lightgrey\" stroke=\"black\" points=\"124.5,-324 121.5,-328 100.5,-328 97.5,-324 44.5,-324 44.5,-288 124.5,-288 124.5,-324\"/>\n",
       "<text text-anchor=\"middle\" x=\"84.5\" y=\"-302.3\" font-family=\"Times,serif\" font-size=\"14.00\">Turbine HP</text>\n",
       "</g>\n",
       "<!-- 0&#45;&gt;1 -->\n",
       "<g id=\"edge1\" class=\"edge\">\n",
       "<title>0&#45;&gt;1</title>\n",
       "<path fill=\"none\" stroke=\"black\" d=\"M159.25,-431.87C144.51,-407.24 117.21,-361.64 99.99,-332.88\"/>\n",
       "<polygon fill=\"black\" stroke=\"black\" points=\"102.93,-330.97 94.79,-324.19 96.92,-334.57 102.93,-330.97\"/>\n",
       "</g>\n",
       "<!-- 5 -->\n",
       "<g id=\"node6\" class=\"node\">\n",
       "<title>5</title>\n",
       "<polygon fill=\"lightgrey\" stroke=\"black\" points=\"196.5,-324 193.5,-328 172.5,-328 169.5,-324 142.5,-324 142.5,-288 196.5,-288 196.5,-324\"/>\n",
       "<text text-anchor=\"middle\" x=\"169.5\" y=\"-302.3\" font-family=\"Times,serif\" font-size=\"14.00\">RHRS</text>\n",
       "</g>\n",
       "<!-- 0&#45;&gt;5 -->\n",
       "<g id=\"edge7\" class=\"edge\">\n",
       "<title>0&#45;&gt;5</title>\n",
       "<path fill=\"none\" stroke=\"black\" d=\"M164.92,-431.87C162.36,-407.67 162.07,-363.21 164.04,-334.39\"/>\n",
       "<polygon fill=\"black\" stroke=\"black\" points=\"167.55,-334.45 164.91,-324.19 160.57,-333.86 167.55,-334.45\"/>\n",
       "</g>\n",
       "<!-- 2 -->\n",
       "<g id=\"node3\" class=\"node\">\n",
       "<title>2</title>\n",
       "<polygon fill=\"lightgrey\" stroke=\"black\" points=\"89,-180 86,-184 65,-184 62,-180 0,-180 0,-144 89,-144 89,-180\"/>\n",
       "<text text-anchor=\"middle\" x=\"44.5\" y=\"-158.3\" font-family=\"Times,serif\" font-size=\"14.00\">Turbine LP 1</text>\n",
       "</g>\n",
       "<!-- 1&#45;&gt;2 -->\n",
       "<g id=\"edge2\" class=\"edge\">\n",
       "<title>1&#45;&gt;2</title>\n",
       "<path fill=\"none\" stroke=\"black\" d=\"M79.68,-287.87C72.83,-263.56 60.22,-218.82 52.11,-190.01\"/>\n",
       "<polygon fill=\"black\" stroke=\"black\" points=\"55.42,-188.87 49.34,-180.19 48.68,-190.76 55.42,-188.87\"/>\n",
       "</g>\n",
       "<!-- 3 -->\n",
       "<g id=\"node4\" class=\"node\">\n",
       "<title>3</title>\n",
       "<polygon fill=\"lightgrey\" stroke=\"black\" points=\"196,-180 193,-184 172,-184 169,-180 107,-180 107,-144 196,-144 196,-180\"/>\n",
       "<text text-anchor=\"middle\" x=\"151.5\" y=\"-158.3\" font-family=\"Times,serif\" font-size=\"14.00\">Turbine LP 2</text>\n",
       "</g>\n",
       "<!-- 1&#45;&gt;3 -->\n",
       "<g id=\"edge3\" class=\"edge\">\n",
       "<title>1&#45;&gt;3</title>\n",
       "<path fill=\"none\" stroke=\"black\" d=\"M92.58,-287.87C104.15,-263.35 125.53,-218.03 139.11,-189.26\"/>\n",
       "<polygon fill=\"black\" stroke=\"black\" points=\"142.29,-190.73 143.39,-180.19 135.96,-187.74 142.29,-190.73\"/>\n",
       "</g>\n",
       "<!-- 4 -->\n",
       "<g id=\"node5\" class=\"node\">\n",
       "<title>4</title>\n",
       "<polygon fill=\"lightgrey\" stroke=\"black\" points=\"188.5,-36 185.5,-40 164.5,-40 161.5,-36 114.5,-36 114.5,0 188.5,0 188.5,-36\"/>\n",
       "<text text-anchor=\"middle\" x=\"151.5\" y=\"-14.3\" font-family=\"Times,serif\" font-size=\"14.00\">Condenser</text>\n",
       "</g>\n",
       "<!-- 2&#45;&gt;4 -->\n",
       "<g id=\"edge4\" class=\"edge\">\n",
       "<title>2&#45;&gt;4</title>\n",
       "<path fill=\"none\" stroke=\"black\" d=\"M57.41,-143.87C76.04,-119.14 110.63,-73.24 132.28,-44.51\"/>\n",
       "<polygon fill=\"black\" stroke=\"black\" points=\"135.32,-46.28 138.55,-36.19 129.73,-42.07 135.32,-46.28\"/>\n",
       "</g>\n",
       "<!-- 3&#45;&gt;4 -->\n",
       "<g id=\"edge5\" class=\"edge\">\n",
       "<title>3&#45;&gt;4</title>\n",
       "<path fill=\"none\" stroke=\"black\" d=\"M151.5,-143.87C151.5,-119.67 151.5,-75.21 151.5,-46.39\"/>\n",
       "<polygon fill=\"black\" stroke=\"black\" points=\"155,-46.19 151.5,-36.19 148,-46.19 155,-46.19\"/>\n",
       "</g>\n",
       "<!-- 4&#45;&gt;0 -->\n",
       "<g id=\"edge6\" class=\"edge\">\n",
       "<title>4&#45;&gt;0</title>\n",
       "<path fill=\"none\" stroke=\"black\" d=\"M161.56,-36.05C174.71,-59.45 197.08,-103.26 205.5,-144 221.7,-222.34 216.68,-244.79 205.5,-324 200.59,-358.79 188.35,-397.46 179.51,-422.44\"/>\n",
       "<polygon fill=\"black\" stroke=\"black\" points=\"176.18,-421.35 176.07,-431.94 182.76,-423.73 176.18,-421.35\"/>\n",
       "</g>\n",
       "<!-- 5&#45;&gt;0 -->\n",
       "<g id=\"edge8\" class=\"edge\">\n",
       "<title>5&#45;&gt;0</title>\n",
       "<path fill=\"none\" stroke=\"black\" d=\"M174.09,-324.19C176.65,-348.42 176.93,-392.89 174.95,-421.68\"/>\n",
       "<polygon fill=\"black\" stroke=\"black\" points=\"171.45,-421.61 174.08,-431.87 178.42,-422.21 171.45,-421.61\"/>\n",
       "</g>\n",
       "</g>\n",
       "</svg>\n"
      ],
      "text/plain": [
       "<graphviz.dot.Digraph at 0x7f47c1e5efd0>"
      ]
     },
     "execution_count": 11,
     "metadata": {},
     "output_type": "execute_result"
    }
   ],
   "source": [
    "plant_net.draw(engine='dot', node_shape='folder')"
   ]
  },
  {
   "cell_type": "markdown",
   "metadata": {
    "slideshow": {
     "slide_type": "slide"
    }
   },
   "source": [
    "---\n",
    "## [Boiling Water Single-Point Reactor Model](#toc)<a id=\"bwr\"></a>\n",
    "Our model for the BWR module is one-group (no diffusion within the moderator assumed for leakage), tracks two temperatures (the uranium fuel and the water which acts as both a coolant and a moderator), and also behaves like a point reactor. This means that all of the kinetics, neutron density and heat generation is collapsed to a single point. Temperatures for the fuel and coolant are therefore averages of what they would be in a real reactor system.\n",
    "\n",
    "A fission event releases heat and several neutrons; these neutrons go on to create more fission events, while the heat generated from the fissions is absorbed by the fuel. As the temperature of the fuel rises, it releases heat to the lower-temperature coolant, causing it to boil and produce steam. This steam then leaves off the top of the reactor, removing some heat from the system to be absorbed by the turbines and condensers later on down the line.\n"
   ]
  },
  {
   "cell_type": "markdown",
   "metadata": {
    "slideshow": {
     "slide_type": "-"
    }
   },
   "source": [
    "### [One-Group Energy  Neutron Balance](#toc)<a id=\"nbal\"></a>\n",
    "\n",
    "The space-invariant neutron balance for the point-reactor model is\n",
    "\n",
    "\\begin{equation*}\n",
    "\\frac{\\text{d}n}{\\text{d}t}  = \\frac{\\rho(t)-\\beta}{\\ell}\\, n + \\sum\\limits_{i=1}^{6} \\lambda_i\\,c_i  + q(t),\n",
    "\\end{equation*}\n",
    "\n",
    "where the first term on the right side of the equation represents the net production of neutrons not accounting for delayed neutrons (with $\\rho(t)$ being the reactivity, $\\beta$ being the delayed neutron fraction and $\\ell$ being the prompt neutron lifetime), and the second term accounts for the source of delayed neutrons considering 6 groups of delayed neutron emitters resulting from the fission of $^{235}$U nuclei (with $\\lambda$ being the decay constant of the specific delayed neutron precursor group, $c$ being its concentration and $q(t)$ being the magnitude of the neutron source, if any). Therefore a balance of neutron emitter species is also necessary\n",
    "\n",
    "\\begin{equation*}\n",
    "\\frac{\\text{d}c_i}{\\text{d}t}  = \\frac{\\beta_i}{\\ell}\\, n - \\lambda_i\\,c_i ,\n",
    "     \\ \\ \\ \\ \\ \\forall \\ \\ \\ \\ \\  i=1,\\ldots,6.\n",
    "\\end{equation*}\n",
    "\n",
    "where the first term on the right side of the equation is the source of emitters as a function of the neutron number density $n(t)$ (with $\\beta$ being the yield of each delayed neutron precursor group from fission), and the second term is the consumption rate of the emitter by radioactive decay obtained as a function of the product of the number concentration of the emmiter, $c_i(t)$, multiplied by its decay constant $\\lambda_i$. Here the number concentration of the $i$th emitter, $c_i$ is considered in terms of delayed neutron number density, hence the units are the same as $n$.\n",
    "\n",
    "The current model considers the temperature reactivity coefficient, $\\alpha_{T_n}$, that is, \n",
    "\n",
    "\\begin{equation*}\n",
    " \\rho(t) = \\rho_0 + \\alpha_{T_n}(T_f)\\,\\bigl(T_m(t) - T^{(0)}\\bigr).\n",
    "\\end{equation*}\n",
    "\n",
    "Where $\\rho(0)$ is the initial reactivity insertion into the reactor, $\\alpha_{T_N}$ is the overall temperature reactivity coefficient as a function of current temperature of the moderator $T_m(t)$, and $T^{(0)}$ is the reference temperature (298 $^{\\circ}K$).\n",
    "\n",
    "A heat balance in the static fuel dispersed into the moderator gives\n",
    "\n",
    "\\begin{equation*}\n",
    "\\frac{\\text{d}T_f}{\\text{d}t} = - \\frac{1}{\\rho_f\\,c_{pf}}\\biggl(q^{'''}(t) - \\frac{\\dot{Q}_\\text{f}}{V_f} \\biggr) \n",
    "\\end{equation*}\n",
    "\n",
    "Where $T_f$ is the temperature of the fuel, $\\rho_f$ and $c_{pf}$ is its density and heat capacity, $q^{'''}(t)$ is the heat generated per unit volume within the fuel, $\\dot Q_f$ is the rate of heat absorption from the fuel by the moderator and $V_f$ is the total volume of the fuel. \n",
    "\n",
    "The rate of heat absorption by the moderator is calculated by:\n",
    "\n",
    "\\begin{equation*}\n",
    "{\\dot{Q}_\\text{f}} = -UA\\bigl(T_f-T_c\\bigr), \n",
    "\\end{equation*}\n",
    "\n",
    "Where $U$ and $A$ is the overall heat transfer coefficient and heat transfer area, $T_f$ is the temperature of the fuel and $T_c$ is the temperature of the moderator.\n",
    "\n",
    "The rate of heat generation per unit volume within the fuel is equal to:\n",
    "\n",
    "\\begin{equation*}\n",
    "q^{'''}(t) = G_f\\frac{\\sqrt{\\pi}}{2}\\,\\sigma_\\text{fo}\\,\\sqrt{\\frac{T^\\text{(o)}}{T}}\\,\\biggl(\\frac{\\epsilon\\,w_\\text{fs}\\,\\rho_\\text{fm}}{M_\\text{fn}}\\,i\\,N_A\\biggr)\\,n(t)\\,v_\\text{(o)} .\n",
    "\\end{equation*}\n",
    "\n",
    "Where $G_f$ is the energy released per fission, $\\sigma_\\text{fo}$ is the microscopic fission cross section within the fuel at a reference temperature $T^\\text{(o)}$ of 298 $^{\\circ} K$, $T$ is the current temperature of the fuel, $\\epsilon$ is the fast fission factor, $\\rho_\\text{fm}$ is the mass density of the fuel, $M_\\text{fn}$ is the molar mass of the fuel, $N_A$ is the number density of the fuel, $n(t)$ is the neutron density at that point in time and $v_\\text{(o)}$ is the velocity of a thermal neutron.\n",
    "\n",
    "A heat balance in the flowing coolant fluid produces\n",
    "\n",
    "\\begin{equation*}\n",
    "\\frac{\\text{d}T_c}{\\text{d}t} = -\\frac{1}{\\tau_c}\\biggl(T_c-T_{in}\\biggr)  \n",
    "                                - \\frac{1}{\\rho_c\\,c_{pc}}\\biggl( \\frac{\\dot{Q}_\\text{f}}{V_c} \\biggr) \n",
    "\\end{equation*}\n",
    "\n",
    "$T_c$ is the temperature of the coolant leaving the top of the reactor, $\\tau_c$ is the coolant residence time within the reactor, $T_{in}$ is the temperature of the subcooled coolant entering the bottom of the reactor, $\\rho_c$ is the density of the coolant, $c_{pc}$ is the heat capacity of the coolant and $V_c$ is the volume of the coolant (all properties of the coolant are calculated using the <span style=\"color:red\">IAPWS97</span> `python` library. The heat rate source is the negative of the heat rate sink in the fuel/moderator.\n"
   ]
  },
  {
   "cell_type": "markdown",
   "metadata": {
    "slideshow": {
     "slide_type": "skip"
    }
   },
   "source": [
    "### [Steady State](#toc)<a id=\"ss\"></a>\n",
    "\n",
    "Neutron density and delayed neutron precursor concentrations are related as follows:\n",
    "\n",
    "\\begin{align*}\n",
    "n_\\text{ss}  &= -\\frac{q_\\text{ss}\\,\\ell }{\\rho_\\text{ss} }\n",
    "\\\\\n",
    "c_{i_\\text{ss}}  &= \\frac{\\beta_i}{\\lambda_i\\,\\ell}\\, n_\\text{ss}   \\ \\ \\ \\ \\forall \\ \\ \\ \\ i=1,\\ldots,6 .\n",
    "\\end{align*}"
   ]
  },
  {
   "cell_type": "markdown",
   "metadata": {
    "slideshow": {
     "slide_type": "slide"
    }
   },
   "source": [
    "### [Reactivity Feedback Model](#toc)<a id=\"feedbk\"></a>\n",
    "The moderator temperature reactivity coefficient is the major contributor to the power coefficient in a boiling water reactor. The power coefficient determines the feedback effect of increasing the power generated by the reactor (and therefore neutron density as well as heat generation). Generally, we see that increasing power will lead to an increase in the temperature of the water used to moderate the reactor. This will reduce the density of the water, and therefore its effectiveness as a moderator. We would expect that this would lead to lower reactivity, and the equation developed below reflects this. We can estimate the numerical effects of moderator temperature on reactivity by using a linearization of the effect of increasing temperature on the neutron multiplication factor ($K$), which is used to derive reactivity. \n",
    "\n",
    "\n",
    "\\begin{equation*}\n",
    "\\alpha_\\text{m} = \\frac{dK}{dT_\\text{m}}\\frac{1}{K}\\\n",
    "\\end{equation*}\n",
    "\n",
    "Where $\\alpha_\\text{m}$ is the moderator temperature feedback coefficient, K is the neutron multiplication factor for a finite medium, and $T_\\text{m}$ is the temperature of the moderator. K is calculated as follows:\n",
    "\n",
    "\\begin{equation*}\n",
    "K = \\frac{\\eta \\epsilon P F}{1 + (\\tau + L^2) B^2 + \\tau L^2 B^4}\n",
    "\\end{equation*}\n",
    "\n",
    "Plugging this in to the original moderator temperature reactivity coefficient equation leaves the following differential equation:\n",
    "\n",
    "\\begin{equation*}\n",
    "\\alpha_\\text{m} = \\frac{d}{dT_\\text{m}}\\frac{1 + (\\tau + L^2)B^2 + \\tau L^2 B^4}{\\eta \\epsilon P F}\\\n",
    "\\end{equation*}\n",
    "\n",
    "With $\\tau$ being the Fermi age or slowing down area, $L$ being the neutron diffusion length, $B$ being buckling, $\\eta$ being neutron yield, $\\epsilon$ being fast fission factor, $P$ being resonance escape probability and $F$ being thermal utilization. Only $\\tau$, $P$ and $F$ vary significantly with moderator temperature, with $L$ and $B$ being assumed constants over the range of temperatures.\n",
    "\n",
    "$\\tau$ is found as follows:\n",
    "\n",
    "\\begin{equation*}\n",
    "\\tau = \\frac{D_\\text{f}}{\\Sigma_\\text{1}}\n",
    "\\end{equation*}\n",
    "\n",
    "with $D_\\text{f}$ being the diffusion coefficient and equal to:\n",
    "\n",
    "\\begin{equation*}\n",
    "D_\\text{f} = \\frac{1}{3 \\Sigma_\\text{s}(1 - \\mu_\\text{0})}\n",
    "\\end{equation*}\n",
    "\n",
    "With $\\Sigma_\\text{s}$ being the macroscopic scattering cross section, $\\sigma_\\text{s} N_\\text{m}$, and $\\mu_\\text{0}$ being a constant dependent on the material used as the moderator.\n",
    "\n",
    "$\\Sigma_\\text{1}$ is the neutron removal cross section, or the probability per unit length that a neutron becomes thermalized. It is calculated as:\n",
    "\n",
    "\\begin{equation*}\n",
    "\\Sigma_\\text{1} = \\frac{\\xi \\,\\Sigma_\\text{s}}{\\ln \\frac{E_\\text{0}}{E_\\text{th}} }\n",
    "\\end{equation*}\n",
    "\n",
    "With $\\xi$ being the average logarithmic energy decrement for a collision involving a neutron and the moderator (in the case of a light water reactor, $\\xi$ = 1), $E_\\text{0}$ being the energy of a neutron produced during fission (assumed to be constant at around 2 MeV), and $E_\\text{th}$ being the energy of the medium that the neutron is diffusing through, which is dependent on the temperature of the moderator by the following equation:\n",
    "\n",
    "\\begin{equation*}\n",
    "E_\\text{th} = (T_\\text{m})\\frac{0.0862 \\ MeV}{K}\n",
    "\\end{equation*}\n",
    "\n",
    "With $T_\\text{m}$ being in kelvin.\n",
    "\n",
    "Assuming that only $N_\\text{m}$ and $E_\\text{th}$ vary with the temperature of the moderator, then the differential of $\\tau$ with respect to $T_\\text{m}$ may be calculated as follows:\n",
    "\n",
    "\\begin{equation*}\n",
    "\\frac{d \\tau}{d T_\\text{m}} = \\frac{d}{d T_\\text{m}} \\frac{\\frac{1}{3 \\sigma_\\text{s} N_\\text{m}(1 - \\mu_\\text{0})}}{\\frac{\\xi \\sigma_\\text{s} N_\\text{m}}{ln \\frac{E_\\text{0}}{E_\\text{th}}}}\n",
    "\\end{equation*}\n",
    "\n",
    "\\begin{equation*}\n",
    "\\frac{d \\tau}{d T_\\text{m}} = \\frac{(0.0862\\frac{E_\\text{th}}{E_\\text{0}})(3  N_\\text{m} )-(ln \\frac{E_\\text{0}}{E_\\text{th}})(6 \\frac{d N_\\text{m}}{d T_\\text{m}})}{(3 N_\\text{m})^2 (1 - \\mu_\\text{0})}\n",
    "\\end{equation*}\n",
    "\n",
    "Next, the diffusion area in the moderator before absorption, $L^2$, may be evaluated. It can be calculated through the following relation:\n",
    "\n",
    "\\begin{equation*}\n",
    "L^2 = \\frac{1}{3 \\Sigma_\\text{s} \\Sigma_\\text{a} (1 - \\mu_\\text{0})}\n",
    "\\end{equation*}\n",
    "\n",
    "And therefore:\n",
    "\n",
    "\\begin{equation*}\n",
    "L = \\sqrt{\\frac{1}{3 \\Sigma_\\text{s} \\Sigma_\\text{a} (1 - \\mu_\\text{0})}}\n",
    "\\end{equation*}\n",
    "\n",
    "Note that L is referred to as the diffusion length whereas $L^2$ is the diffusion area.\n",
    "\n",
    "Taking the derivative of the diffusion length, L, with respect to time, and noting that only the number density of the moderator varies with time, and that the macroscopic cross sections $\\Sigma$ can be rewritten as $\\sigma$ $N_\\text{m}$, we obtain the differential of diffusion length with respect to time:\n",
    "\n",
    "\\begin{equation*}\n",
    "\\frac{dL}{dT_\\text{m}} =  \\frac{1}{2 \\sqrt{\\frac{-2 \\frac{dN_\\text{m}}{dT_\\text{m}}}{3 \\sigma_\\text{s} \\sigma_\\text{a} N_\\text{m}^3 (1 - \\mu_\\text{0})}}}\n",
    "\\end{equation*}\n",
    "\n",
    "Next, the terms in the four factor formula, $\\eta \\ , \\ \\epsilon \\ , \\ P, \\ F$ must be developed and the derivatives of the ones which vary with moderator temperature must be calculated.\n",
    "\n",
    "$\\eta$ and $\\epsilon$ do not vary with moderator temperature, and are assumed to have constant values of 2.02 and 1.03.\n",
    "\n",
    "$P$, the resonance escape, is calculated via the following equation:\n",
    "\n",
    "\\begin{equation*}\n",
    "P = e^{ - \\frac{N_\\text{f}\\, V_\\text{F}\\, I}{\\xi\\, \\Sigma_\\text{s  M} V_\\text{M}} }\n",
    "\\end{equation*}\n",
    "\n",
    "In the above equation, $N_\\text{f}$ is the number density of the fuel, $V_\\text{F}$ is the volume of the fuel, $I$ is the resonance escape integral, and $V_\\text{M}$ is the volume occupied by the moderator.\n",
    "\n",
    "With only the macroscopic scattering cross section of the moderator varying with temperature of the moderator (volume of coolant in the core is assumed constant, only the density changes), the derivative of the resonance escape probability with respect to the temperature of the moderator can be calculated as:\n",
    "\n",
    "\\begin{equation*}\n",
    "\\frac{dP}{dT_\\text{m}} =  \\frac{-N_\\text{f} V_\\text{F} I \\sigma_\\text{s} \\frac{dN_\\text{m}}{dT_\\text{m}}}{(\\xi \\Sigma_\\text{s  M} V_\\text{M})^2}e^{- \\frac{N_\\text{f} V_\\text{F} I}{\\xi \\Sigma_\\text{s  M} V_\\text{M}}}\n",
    "\\end{equation*}\n",
    "\n",
    "The thermal utilization, $F$, is calculated as follows:\n",
    "\n",
    "\\begin{equation*}\n",
    "F = \\frac{\\Sigma_\\text{aF}}{\\Sigma_\\text{aF} + \\Sigma_\\text{aM}}\n",
    "\\end{equation*}\n",
    "\n",
    "With $\\Sigma_\\text{aF}$ being the macroscopic absorption cross section of the fuel and $\\Sigma_\\text{aM}$ being the macroscopic absorption cross section of the moderator. As only the macroscopic absorption cross section of the moderator will vary with the temperature of the moderator, the derivative of thermal utilization with respect to the temperature of the moderator can be written as follows:\n",
    "\n",
    "\\begin{equation*}\n",
    "\\frac{dF}{dT_\\text{m}} = \\frac{-(\\Sigma_\\text{aF})(\\sigma_\\text{aM} \\frac{dN_\\text{m}}{dT_\\text{m}})}{(\\Sigma_\\text{aF} + \\Sigma_\\text{aM})^2}\n",
    "\\end{equation*}\n",
    "\n",
    "The final preliminary differential equation is the one that must be developed for the differential of the moderator number density with respect to the temperature of the moderator. The change in number density of the moderator with respect to temperature will be proportional to the change in the mass density of the moderator with respect to temperature, by the molar mass of the moderator (in this case, 18 g/mol) and Avogadro's number. The derivative of the mass density with respect to the temperature of the moderator of water is a function of a forty term polynomial used by the <span style=\"color:red\">IAPWS 97</span> standards to approximate the behavior of water at different temperatures and pressures, that is:\n",
    "\n",
    "\\begin{equation*}\n",
    "\\frac{d \\rho}{dT_\\text{m}} = \\frac{d}{dT_\\text{m}}(IAPWS(T))\n",
    "\\end{equation*}\n",
    "\n",
    "The derivative can be approximated by using scipy's inbuilt differentiation function. From there, the differential of mass density with respect to moderator temperature may be related to the differential of number density with respect to moderator temperature by the molar mass and avogadro's number:\n",
    "\n",
    "\\begin{equation*}\n",
    "\\frac{dN_\\text{m}}{dT_\\text{m}} = (18 g/mol)(N_\\text{A})(\\frac{d \\rho}{dT_\\text{m}})\n",
    "\\end{equation*}\n",
    "\n",
    "Now that all previous relationships have been developed, the moderator temperature feedback coefficient can be calculated. Recall the original equation for the moderator temperature feedback coefficient:\n",
    "\n",
    "\\begin{equation*}\n",
    "\\alpha_\\text{m} = \\frac{d}{dT_\\text{m}}\\frac{1 + (\\tau + L^2)B^2 + \\tau L^2 B^4}{\\eta \\epsilon P F}\\\n",
    "\\end{equation*}\n",
    "\n",
    "Taking the derivatives with respect to moderator temperature yields the following differential:\n",
    "\n",
    "\\begin{equation*}\n",
    "\\alpha_\\text{m} = \\frac{(\\eta \\epsilon P F)((\\frac{d \\tau}{dT_\\text{m}})(B^2 + L^2 B^4)+(\\frac{dL}{dT_\\text{m}})(2L B^2 + 2L \\tau B^4))-(1 + (\\tau + L^2)B^2 + \\tau L^2 B^4)(\\eta \\epsilon)(F \\frac{dP}{dT_\\text{m}} + P \\frac{dF}{dT_\\text{m}})} {(\\eta \\epsilon P F)^2}\n",
    "\\end{equation*}"
   ]
  },
  {
   "cell_type": "markdown",
   "metadata": {
    "slideshow": {
     "slide_type": "slide"
    }
   },
   "source": [
    "---\n",
    "## [Turbine Model](#toc) <a id=\"tub\"></a>\n",
    "A boiling water reactor will typically use several different turbines, either designed to expand high-pressure steam drawn directly off the top of the reactor, or to expand lower-pressure runoff steam drawn from the high-pressure turbines. This is typically done to improve thermodynamic efficiency and avoid condensation of the steam within the turbines themselves. This simplified model contains a single high-pressure turbine which expands steam coming off the top of the reactor to around 5 bar; There are also two low-pressure turbines which expand the runoff from the high-pressure turbine to 0.05 bar. Both of these different types of turbine use the same model but different parameters to determine runoff temperature and the amount of power generated.\n",
    "\n",
    "A basic heat balance on the turbine gives:\n",
    "\n",
    "\\begin{equation*}\n",
    "Q + W_\\text{s} = \\bigl(\\Delta H + \\Delta K + \\Delta Z\\bigr)\\,\\dot m\n",
    "\\end{equation*}\n",
    "\n",
    "With $Q$ being the heat into or out of the system, $W$ being the work done by the working fluid (and hence being positive if the turbine is producing useful work), and with $\\Delta$H, $\\Delta$K and $\\Delta$Z representing the changes in enthalpy, kinetic energy and gravitational potential energy of the fluid on a per-kilogram basis, respectively. $\\dot m$ is the mass flowrate of fluid through the turbine.  It is assumed that the turbine operates adiabatically and with no change in the kinetic or gravitational potential energy of the fluid as it moves through the turbine. Hence, the equation reduces to:\n",
    "\n",
    "\\begin{equation*}\n",
    "W_\\text{s} = \\Delta H \\dot m\n",
    "\\end{equation*}\n",
    "\n",
    "If the turbine is producing useful work, then $W$ is positive, and hence $\\Delta$H must be positive as well. The enthalpy of the fluid will decrease as it passes through the turbine and is expanded to a lower temperature and pressure, hence the equation can be rewritten as:\n",
    "\n",
    "\\begin{equation*}\n",
    "-W_\\text{s} = -\\Delta H \\dot m = \\bigl(H_\\text{outlet} - H_\\text{inlet}\\bigr)\\,\\dot m \n",
    "\\end{equation*}\n",
    "\n",
    "Which can then be re-arranged as:\n",
    "\n",
    "\\begin{equation*}\n",
    "W_\\text{s} = \\Delta H \\dot m = \\bigl(H_\\text{inlet} - H_\\text{outlet}\\bigr)\\,\\dot m \n",
    "\\end{equation*}\n",
    "\n",
    "If conditions of the inlet steam are given, either being the same temperature and pressure of the steam leaving the top of the reactor (in the case of a high-pressure turbine), or having the runoff temperature and pressure of steam leaving a high-pressure turbine (in the case of a low-pressure turbine). The exit pressure of the steam leaving the turbine is similarly fixed by the design pressure of the turbine ($P_\\text{turbine}$, 5 bar in the case of a high-pressure turbine, 0.05 bar in the case of a low-pressure turbine).  Therefore, the above equation can be rewritten as:\n",
    "\n",
    "\\begin{equation*}\n",
    "W_\\text{s} = \\bigl(H_\\text{inlet}(T_\\text{inlet}, P_\\text{inlet}) - H_\\text{outlet}(T_\\text{runoff}, P_\\text{turbine})\\bigr)\\,\\dot m\n",
    "\\end{equation*}\n",
    "\n",
    "It should be noted that the turbines are not assumed to operate isentropically, but instead at around 80% of the maximum isentropic work for any given steam inlet properties.\n",
    "\n",
    "We denote the maximum possible isentropic work of the turbine, $W_\\text{isentropic}$, as the amount of work that would be done if the steam entering the turbine was expanded to a pressure $P_\\text{turbine}$ and a temperature which would give the same enthalpy as steam of temperature $T_\\text{inlet}$ and pressure $P_\\text{inlet}$, that is\n",
    "\n",
    "\\begin{equation*}\n",
    "W_\\text{isentropic} = \\bigl(H_\\text{inlet}(T_\\text{inlet}, P_\\text{inlet}) - H_\\text{outlet}(T_\\text{isentropic} ,P_\\text{turbine} )\\bigr)\\dot m\n",
    "\\end{equation*}\n",
    "\n",
    "Actual work performed by the turbine can then be determined by simply multiplying the known efficiency by the calculated isentropic work.\n",
    "\n",
    "\\begin{equation*}\n",
    "W_\\text{real} = 0.8 \\, W_\\text{isentropic}\n",
    "\\end{equation*}\n",
    "\n",
    "And, by an energy balance, we can calculate the ending enthalpy of the liquid runoff at $P_\\text{turbine}$, $H_\\text{real runoff}$:\n",
    "\n",
    "\\begin{equation*}\n",
    "H_\\text{real runoff}(T_\\text{real}, P_\\text{turbine}) = \\frac{W_\\text{real}}{\\dot m} - H_\\text{inlet}(T_\\text{inlet}, P_\\text{inlet})\n",
    "\\end{equation*}\n",
    "\n",
    "With the ending enthalpy of the liquid runoff known, and its pressure fixed by the output pressure of the turbine, the runoff temperature and quality of the liquid from the turbine can be calculated using the <span style=\"color:red\">IAPWS97</span> backwards solver functions. To do this, $H_\\text{real runoff}$ is first compared to the dew and bubble point enthalpies of water at the runoff pressure to arrive at the runoff quality:\n",
    "\n",
    "\\begin{equation*}\n",
    "X_\\text{runoff} = \\frac{H_\\text{real runoff} - H_\\text{bubl pt}}{H_\\text{dew pt} - H_\\text{bubl pt}}\n",
    "\\end{equation*}\n",
    "\n",
    "If $X_\\text{runoff}$ is greater than 1, then the runoff will be a superheated vapor. If it is less than 0, then it will be a subcooled liquid. In either case, the runoff temperature can then be calculated by finding the superheated vapor or liquid with the same enthalpy $H_\\text{real runoff}$ and the turbine runoff pressure, using an <span style=\"color:red\">IAPWS97</span> backwards solver function. If $X_\\text{runoff}$ is between 0 and 1, this indicates that the runoff is a two-phase mixture with a temperature fixed by the boiling point of the liquid at the specified runoff pressure."
   ]
  },
  {
   "cell_type": "markdown",
   "metadata": {
    "slideshow": {
     "slide_type": "slide"
    }
   },
   "source": [
    "---\n",
    "## [Condenser Model](#toc) <a id=\"cond\"></a>\n",
    "The condenser takes the runoff from the low-pressure turbines and condenses it into a subcooled liquid to be fed back into the bottom of the reactor. In theory, the runoff from the turbines can be a two-phase mixture, a bubble-point liquid, a dew-point vapor or even superheated vapor. In practice, however, the runoff from the low-pressure turbines is only a two-phase mixture of varying composition for the duration of the simulation.\n",
    "\n",
    "The first thing the condenser model calculates is the amount of energy which must be withdrawn from the turbine runoff to cool it to its dew point. This is calculated by:\n",
    "\n",
    "\\begin{equation*}\n",
    "Q = \\bigl(H_\\text{real runoff} - H_\\text{bubl pt}\\bigr)\\,\\dot m\n",
    "\\end{equation*}\n",
    "\n",
    "This will be used to determine how much of the condenser's cooling capacity is used to bring the incoming liquid down to the bubble point temperature, and how much of this capacity will be left to subcool it. With the actual condensation duty known, an accurate number for cooling capacity at the current input composition and pressure must be determined. We start by determining the log-mean temperature difference for the condensation, which is calculated by:\n",
    "\n",
    "\\begin{equation*}\n",
    "\\Delta T_\\text{lm} = \\frac{T_\\text{c out} - T_\\text{c in}}{\\ln\\Bigl(\\frac{T_\\text{critical} - T_\\text{c in}}{T_\\text{boiling pt} - T_\\text{c out}}\\Bigr)}\n",
    "\\end{equation*}\n",
    "\n",
    "Where $T_\\text{c out}$ is the temperature of the cooling water leaving the condensation stage, $T_\\text{c in}$ is the temperature of the cooling water entering the condensation stage and $T_\\text{boiling pt}$ is the boiling point temperature of the turbine runoff at the turbine runoff pressure. With $T_\\text{c in}$ and $Q$ known, the runoff temperature of the cooling water can be calculated from the following equation:\n",
    "\n",
    "\\begin{equation*}\n",
    "T_\\text{c out} = T_\\text{c in } + \\frac{Q}{\\dot m \\, c_\\text{p}},\n",
    "\\end{equation*}\n",
    "\n",
    "where here $\\dot m$ is the cooling water mass flowrate, not the mass flowrate leaving the turbines. $c_\\text{p}$ is the heat capacity of the coolant in this case. The resulting $T_\\text{c out}$ may then be plugged into the expression for log mean temperature difference. In order to arrive at an accurate overall heat transfer coefficient for the condensation operation, the McNaught expression is used\n",
    "\n",
    "\\begin{equation*}\n",
    "\\alpha_\\text{sh} = \\alpha_\\text{l} \\Bigl(\\frac{1}{x_\\text{tt}}\\Bigr)^{0.78},\n",
    "\\end{equation*}\n",
    "\n",
    "where $\\alpha_\\text{sh}$ is the overall heat transfer coefficient, $\\alpha_\\text{l}$ is the heat transfer coefficient for a liquid water mixture at the same temperature and pressure as the turbine runoff flowing over a tube (calculated using the Churchill-Bernstein correlation), and $x_\\text{tt}$ is the Martinelli parameter. The Martinelli parameter can be calculated using the following expression:\n",
    "\n",
    "\\begin{equation*}\n",
    "x_\\text{tt}^2 = \\Bigl(\\frac{1 - x}{x}\\Bigr)^{1.8}\\Bigl(\\frac{\\rho_\\text{dew pt}}{\\rho_\\text{bubbl pt}}\\Bigr)\\Bigl(\\frac{\\eta_\\text{bubbl pt}}{\\eta_\\text{dew pt}}\\Bigr)^{0.5},\n",
    "\\end{equation*}\n",
    "\n",
    "where x is the quality of the steam entering the turbine, $\\rho$ is the mass density of either the dew point or bubble point mixture at the turbine runoff pressure, and $\\eta$ is the viscocity of either the dew point or bubble point mixture at the turbine runoff pressure. With the overall heat transfer coefficient, $Q$ and the temperature driving force $\\Delta T_\\text{lm}$ known, we can calculate the amount of cooling capacity left to subcool the condensate by determining the amount of heat transfer area that hasn't been used:\n",
    "\n",
    "\\begin{equation*}\n",
    "A = \\frac{Q}{\\alpha_\\text{sh} \\Delta T_\\text{lm}}\n",
    "\\end{equation*}\n",
    "\n",
    "The total area (and therefore capacity) remaining for subcooling may then be found by subtracting the above result from the total heat transfer area of the condenser. \n",
    "\n",
    "Subcooling proceeds slightly differently than the algorithm for determining remaining capacity after condensation. It is an iterative process which begins with a guess for the temperature of the cooling water leaving the condenser. With this guess, a preliminary value for the runoff temperature of the process fluid from the condenser may be generated by performing a heat balance between the process fluid (turbine runoff) and the cooling water (note that for this section \"c in\" refers to the temperature of the coolant leaving the condensation stage and \"c out\" refers to the runoff temperature of the coolant leaving the condenser itself):\n",
    "\n",
    "\\begin{equation*}\n",
    "T_\\text{process out} = T_\\text{boiling pt} - \\frac{\\dot m_\\text{coolant}\\, c_\\text{p coolant} \\, \\Delta T_\\text{coolant}}{\\dot m_\\text{process}\\, c_\\text{p process}}\n",
    "\\end{equation*}\n",
    "\n",
    "Where $\\Delta T_\\text{coolant}$ is the difference between the temperature of the coolant after the condensation step and the guessed value for the temperature of the coolant leaving the condenser (that is, $T_\\text{c runoff} - T_\\text{c out}$. With $T_\\text{process out}$ known, a log-mean temperature difference for this cooling operation may be calculated (assuming parallel flow):\n",
    "\n",
    "\\begin{equation*}\n",
    "\\Delta T_\\text{lm} = \\frac{\\bigl(T_\\text{boiling pt} - T_\\text{c out}\\bigr) - \\bigl(T_\\text{process out} - T_\\text{c in}\\bigr)}{\\ln\\Bigl(\\frac{T\\text{boiling pt} - T_\\text{c out}}{T_\\text{process out} - T_\\text{c in}}\\Bigr)}\n",
    "\\end{equation*}\n",
    "\n",
    "An overall heat transfer coefficient for this iteration may then be obtained using the Churchill-Bernstein correlation. Taking into account the remaining area, the overall heat transfer coefficient and the temperature driving force, a Q may then be calculated:\n",
    "\n",
    "\\begin{equation*}\n",
    "Q = \\alpha \\, A_\\text{remaining} \\Delta T_\\text{lm}\n",
    "\\end{equation*}\n",
    "\n",
    "With this Q, we may loop back around and calculate a new 'guess' value for the runoff temperature of the coolant by another energy balance:\n",
    "\n",
    "\\begin{equation*}\n",
    "T_\\text{c out} = T_\\text{c in} + \\frac{Q}{\\dot m_\\text{coolant} \\, c_\\text{p coolant}}\n",
    "\\end{equation*}\n",
    "\n",
    "With a new value for $T_\\text{c out}$ obtained that is closer to the actual value, the algorithm may be repeated until it converges on a suitably accurate value (for the purposes of our code, within +/- 0.01 $^{\\circ}$C. When the value for $T_\\text{c out}$ converges, we will be left with a suitable estimation for the temperature of the subcooled process fluid leaving the condenser and being fed back into the bottom of the reactor."
   ]
  },
  {
   "cell_type": "markdown",
   "metadata": {
    "slideshow": {
     "slide_type": "slide"
    }
   },
   "source": [
    "## [Network Simulation Results](#toc) <a id=\"cortix\"></a>"
   ]
  },
  {
   "cell_type": "code",
   "execution_count": 12,
   "metadata": {
    "slideshow": {
     "slide_type": "-"
    }
   },
   "outputs": [
    {
     "name": "stderr",
     "output_type": "stream",
     "text": [
      "[4140] 2021-06-15 14:02:46,704 - cortix - INFO - Launching Module <bop.reactor.BWR object at 0x7f47c36888e0>\n",
      "[4140] 2021-06-15 14:02:46,712 - cortix - INFO - Launching Module <bop.turbine.Turbine object at 0x7f47c1e70b50>\n",
      "[4140] 2021-06-15 14:02:46,714 - cortix - INFO - BWR::run():time[m]=0.0\n",
      "[4140] 2021-06-15 14:02:46,722 - cortix - INFO - Launching Module <bop.turbine.Turbine object at 0x7f47c1e97b80>\n",
      "[4140] 2021-06-15 14:02:46,730 - cortix - INFO - Launching Module <bop.turbine.Turbine object at 0x7f47c1e97310>\n",
      "[4140] 2021-06-15 14:02:46,737 - cortix - INFO - Launching Module <bop.condenser.Condenser object at 0x7f47e02366d0>\n",
      "[4140] 2021-06-15 14:02:46,743 - cortix - INFO - Launching Module <bop.rhrs.RHRS object at 0x7f47c1e70820>\n",
      "[4140] 2021-06-15 14:04:00,661 - cortix - INFO - BWR::run():time[m]=30.0\n",
      "[4140] 2021-06-15 14:05:38,745 - cortix - INFO - BWR::run():time[m]=60.0\n",
      "[4140] 2021-06-15 14:07:05,013 - cortix - INFO - BWR::run():time[m]=90.0\n",
      "[4140] 2021-06-15 14:08:23,795 - cortix - INFO - BWR::run():time[m]=120.0\n",
      "[4140] 2021-06-15 14:09:43,118 - cortix - INFO - BWR::run():time[m]=150.0\n",
      "[4140] 2021-06-15 14:11:21,789 - cortix - INFO - BWR::run():time[m]=180.0\n",
      "[4140] 2021-06-15 14:13:04,871 - cortix - INFO - BWR::run():time[m]=210.0\n",
      "[4140] 2021-06-15 14:15:36,527 - cortix - INFO - BWR::run():time[m]=240.0\n",
      "[4140] 2021-06-15 14:17:11,874 - cortix - INFO - BWR::run():time[m]=270.0\n",
      "[4140] 2021-06-15 14:19:20,671 - cortix - INFO - BWR::run():time[m]=300.0\n",
      "[4140] 2021-06-15 14:19:24,166 - cortix - INFO - run()::Elapsed wall clock time [s]: 997.97\n"
     ]
    }
   ],
   "source": [
    "'''Running a BOP Startup'''\n",
    "\n",
    "# BOP time evolution config\n",
    "end_time = 300.0 * unit.minute\n",
    "time_step = 60.0\n",
    "show_time = (True, 30*unit.minute)\n",
    "params['start-time'] = 0.0\n",
    "params['end-time'] = end_time\n",
    "\n",
    "# Reactor config\n",
    "reactor.save = True\n",
    "reactor.time_step = time_step\n",
    "reactor.end_time = end_time\n",
    "reactor.show_time = show_time\n",
    "reactor.rhrs = True\n",
    "reactor.rhrs_operating_mode = 'online'\n",
    "\n",
    "# High-pressure turbine config\n",
    "turb_hp.save = True\n",
    "turb_hp.time_step = time_step\n",
    "turb_hp.end_time = end_time\n",
    "\n",
    "# Low-pressure turbine 1 config\n",
    "turb_lp1.save = True\n",
    "turb_lp1.time_step = time_step\n",
    "turb_lp1.end_time = end_time\n",
    "\n",
    "# Low-pressure turbine 2 config\n",
    "turb_lp2.save = True\n",
    "turb_lp2.time_step = time_step\n",
    "turb_lp2.end_time = end_time\n",
    "\n",
    "# Condenser config\n",
    "params['steam flowrate'] = params['steam flowrate'] * 2\n",
    "condenser.params = params\n",
    "condenser.save = True\n",
    "condenser.time_step = time_step\n",
    "condenser.end_time = end_time\n",
    "\n",
    "# RHRS config\n",
    "rhrs.save = True\n",
    "rhrs.time_step = time_step\n",
    "rhrs.end_time = end_time\n",
    "\n",
    "# Run network dynamics simulation\n",
    "plant.run()"
   ]
  },
  {
   "cell_type": "code",
   "execution_count": 19,
   "metadata": {
    "slideshow": {
     "slide_type": "slide"
    }
   },
   "outputs": [
    {
     "data": {
      "image/png": "[encoded data removed]",
      "text/plain": [
       "<Figure size 576x360 with 1 Axes>"
      ]
     },
     "metadata": {
      "needs_background": "light"
     },
     "output_type": "display_data"
    }
   ],
   "source": [
    "import matplotlib.pyplot as plt\n",
    "%matplotlib inline\n",
    "plt.rcParams['figure.figsize'] = [8, 5] \n",
    "\n",
    "reactor = plant_net.modules[0] # retrieve data\n",
    "\n",
    "(quant, time_unit) = reactor.neutron_phase.get_quantity_history('neutron-dens')\n",
    "quant.plot(x_scaling=1/unit.minute, x_label='Time [m]', y_label=quant.latex_name+' []')\n",
    "plt.grid()"
   ]
  },
  {
   "cell_type": "code",
   "execution_count": 20,
   "metadata": {},
   "outputs": [
    {
     "data": {
      "image/png": "[encoded data removed]",
      "text/plain": [
       "<Figure size 576x360 with 1 Axes>"
      ]
     },
     "metadata": {
      "needs_background": "light"
     },
     "output_type": "display_data"
    }
   ],
   "source": [
    "(quant, time_unit) = reactor.neutron_phase.get_quantity_history('delayed-neutrons-cc')\n",
    "quant.plot(x_scaling=1/unit.minute, x_label='Time [m]', y_label=quant.latex_name+' []')\n",
    "plt.grid()"
   ]
  },
  {
   "cell_type": "code",
   "execution_count": 21,
   "metadata": {
    "slideshow": {
     "slide_type": "-"
    }
   },
   "outputs": [
    {
     "data": {
      "image/png": "[encoded data removed]",
      "text/plain": [
       "<Figure size 576x360 with 1 Axes>"
      ]
     },
     "metadata": {
      "needs_background": "light"
     },
     "output_type": "display_data"
    }
   ],
   "source": [
    "(quant, time_unit) = reactor.coolant_outflow_phase.get_quantity_history('temp')\n",
    "quant.plot(x_scaling=1/unit.minute, y_shift=273.15,\n",
    "           x_label='Time [m]', \n",
    "           y_label=quant.latex_name+' [C]')\n",
    "plt.grid()"
   ]
  },
  {
   "cell_type": "code",
   "execution_count": 22,
   "metadata": {
    "slideshow": {
     "slide_type": "slide"
    }
   },
   "outputs": [
    {
     "data": {
      "image/png": "[encoded data removed]",
      "text/plain": [
       "<Figure size 576x360 with 1 Axes>"
      ]
     },
     "metadata": {
      "needs_background": "light"
     },
     "output_type": "display_data"
    }
   ],
   "source": [
    "turb_hp = plant_net.modules[1] # retrieve data\n",
    "\n",
    "(quant, time_unit) = turb_hp.outflow_phase.get_quantity_history('power')\n",
    "quant.plot(x_scaling=1/unit.minute, y_scaling=1/unit.mega,\n",
    "           x_label='Time [m]', y_label=quant.latex_name+' [M'+quant.unit+']',\n",
    "           title='High Pressure Turbine Power')\n",
    "plt.grid()"
   ]
  },
  {
   "cell_type": "code",
   "execution_count": 23,
   "metadata": {},
   "outputs": [
    {
     "data": {
      "image/png": "[encoded data removed]",
      "text/plain": [
       "<Figure size 576x360 with 1 Axes>"
      ]
     },
     "metadata": {
      "needs_background": "light"
     },
     "output_type": "display_data"
    }
   ],
   "source": [
    "turb_lp1 = plant_net.modules[2] # retrieve data\n",
    "\n",
    "(quant, time_unit) = turb_lp1.outflow_phase.get_quantity_history('power')\n",
    "quant.plot(x_scaling=1/unit.minute, y_scaling=1/unit.mega, \n",
    "           x_label='Time [m]', y_label=quant.latex_name+' [M'+quant.unit+']',\n",
    "           title='Lower Pressure Turbine 1 Power')\n",
    "plt.grid()"
   ]
  },
  {
   "cell_type": "code",
   "execution_count": 18,
   "metadata": {
    "slideshow": {
     "slide_type": "-"
    }
   },
   "outputs": [
    {
     "name": "stderr",
     "output_type": "stream",
     "text": [
      "[4140] 2021-06-15 14:19:25,934 - cortix - INFO - Closed Cortix object.\n",
      "[4140] 2021-06-15 14:19:25,935 - cortix - INFO - close()::Elapsed wall clock time [s]: 999.74\n"
     ]
    }
   ],
   "source": [
    "plant.close()  # Properly shutdow plant"
   ]
  },
  {
   "cell_type": "markdown",
   "metadata": {
    "slideshow": {
     "slide_type": "slide"
    }
   },
   "source": [
    "## [Final Comments](#toc)<a id=\"finalcomments\"></a>\n",
    "\n",
    "+ Sub-scaling, higher-order modeling and simulation could be supported in HPC platforms:\n",
    " - Additional work needed to create pools of processes.\n",
    " \n",
    "+ Systems of systems is also a possibility:\n",
    " - Sub-networks or nested networks needs to be implemented.\n",
    " \n",
    "+ This development is invaluable for agile prototyping, collaboration, teaching and research.\n",
    "+ Leveraging data science developments in this area is very instructive for training new generations of computationally oriented engineers.\n",
    "\n",
    "Thank you for attending."
   ]
  },
  {
   "cell_type": "markdown",
   "metadata": {
    "slideshow": {
     "slide_type": "-"
    }
   },
   "source": [
    "## [Acknowledgements](#toc)<a id=\"ackn\"></a>\n",
    "\n",
    "This work was partially funded by the [Francis College of Engineering at UMass Lowell](https://www.uml.edu/engineering/), Department of Chemical Engineering (Nuclear Program), and the [Cortix](https://cortix.org) group."
   ]
  },
  {
   "cell_type": "markdown",
   "metadata": {
    "slideshow": {
     "slide_type": "skip"
    }
   },
   "source": [
    "During startup, the neutron density follows a predictable sigmoid shape (Fig. 2), rapidly shooting up and then slowing down until steady state is reached (1.0 being the reactor steady state neutron density). Steady-state is maintained for about 20 minutes until the reactor enters shutdown and neutron density gradually drops to zero.\n",
    "\n",
    "Neutron density also drops slightly about 15 minutes after steady state is reached. High moderator temperature results in negative reactivity insertion and a corresponding drop in neutron density.\n",
    "\n",
    "|  |\n",
    "|---|\n",
    "| <img width=\"700\" src=\"pictures/neutron-dens.png\" title=\"Neutron Density\">|\n",
    "| <p style=\"text-align:center;\"><b>Fig. 2: Neutron density time-variation during startup and shutdown.</b></p> |"
   ]
  },
  {
   "cell_type": "markdown",
   "metadata": {
    "slideshow": {
     "slide_type": "skip"
    }
   },
   "source": [
    "The six delayed neutron emitter groups follow a similar pattern to neutron density during startup and shutdown (Fig. 3), the difference in levels being due to the different $\\beta_i$ yields given in the one-group neutron energy balance. This plot (Fig. 3) shows the relative abundance of each of the delayed neutron precursor groups, in relation to steady state reactor neutron density. The small drop in density observed in the neutron density around the 25 minute mark can also be observed here.\n",
    "\n",
    "|  |\n",
    "|---|\n",
    "| <img width=\"700\" src=\"pictures/delayed-neutrons-cc.png\" title=\"Delayed Neutron Emitters\">|\n",
    "| <p style=\"text-align:center;\"><b>Fig. 3: Delayed emitter concentrations variation with time.</b></p> |"
   ]
  },
  {
   "cell_type": "markdown",
   "metadata": {
    "slideshow": {
     "slide_type": "skip"
    }
   },
   "source": [
    "\n",
    "Fuel temperature (Fig. 4) follows the neutron density curve fairly closely, which is to be expected since higher neutron density will generate more nuclear heat. The starting and ending temperatures are both room temperature at 297 $^{o}K$.\n",
    "\n",
    "|  |\n",
    "|---|\n",
    "| <img width=\"700\" src=\"pictures/fuel-temp.png\" title=\"Average Fuel Temperature\">|\n",
    "| <p style=\"text-align:center;\"><b>Fig. 4:Average fuel temperature variation with time.</b></p> |"
   ]
  },
  {
   "cell_type": "markdown",
   "metadata": {
    "slideshow": {
     "slide_type": "skip"
    }
   },
   "source": [
    "\n",
    "Coolant temperature (Fig. 5) follows the neutron density curve fairly closely, which is to be expected since more nuclear heat generation will result in a higher runoff coolant temperature.  The starting and ending temperatures are both room temperature at 297 $^{o}K$.\n",
    "\n",
    "|  |\n",
    "|---|\n",
    "| <img width=\"700\" src=\"pictures/coolant-outflow-temp.png\" title=\"Average Coolant Outflow Temperature\">|\n",
    "| <p style=\"text-align:center;\"><b>Fig. 5: Average temperature of the steam drawn off the top of the reactor, varying with time.</b></p> |"
   ]
  },
  {
   "cell_type": "markdown",
   "metadata": {
    "slideshow": {
     "slide_type": "skip"
    }
   },
   "source": [
    "\n",
    "The power produced by the high-pressure turbine (Fig. 6) follows the same general curve seen with outflow coolant temperature (Fig. 5), with the exception of the sharp drop observed in power generation almost immeditately during shutdown. The turbine is tripped as soon as inlet temperature drops below a certain threshold, causing the quick drop in power within the span of a few minutes during shutdown. \n",
    "\n",
    "|  |\n",
    "|---|\n",
    "| <img width=\"700\" src=\"pictures/turbine1-power.png\" title=\"High Pressure Turbine Power\">|\n",
    "| <p style=\"text-align:center;\"><b>Fig. 6: Power produced by the high-pressure turbine, varying with time.</b></p> |"
   ]
  },
  {
   "cell_type": "markdown",
   "metadata": {
    "slideshow": {
     "slide_type": "skip"
    }
   },
   "source": [
    "\n",
    "The low-pressure turbines (Fig. 7) follow the same power curves as the high-pressure turbines, with the exception that they produce slightly lower amounts of power at steady state.\n",
    "\n",
    "|  |\n",
    "|---|\n",
    "| <img width=\"700\" src=\"pictures/turbine2-power.png\" title=\"Low Pressure Turbine Power\">|\n",
    "| <p style=\"text-align:center;\"><b>Fig. 7: Power produced by a single low-pressure turbine, varying with time.</b></p> |"
   ]
  },
  {
   "cell_type": "markdown",
   "metadata": {
    "slideshow": {
     "slide_type": "skip"
    }
   },
   "source": [
    "\n",
    "Water exits the condenser at room temperature during startup, and the runoff temperature gradually increases to around 303 $^{o}K$ as reactor temperature increases and higher-energy steam enters the balance of plant. The observed decrease in outflow temperature occurs at the same time as the drop in neutron density (Fig. 2).\n",
    "\n",
    "|  |\n",
    "|---|\n",
    "| <img width=\"700\" src=\"pictures/condenser-outflow-temp.png\" title=\"Condenser Outflow Temperature\">|\n",
    "| <p style=\"text-align:center;\"><b>Fig. 8: Temperature of the subcooled water leaving the condenser and being fed back into the bottom of the reactor, varying with time.</b></p> |"
   ]
  }
 ],
 "metadata": {
  "celltoolbar": "Slideshow",
  "kernelspec": {
   "display_name": "Python 3",
   "language": "python",
   "name": "python3"
  },
  "language_info": {
   "codemirror_mode": {
    "name": "ipython",
    "version": 3
   },
   "file_extension": ".py",
   "mimetype": "text/x-python",
   "name": "python",
   "nbconvert_exporter": "python",
   "pygments_lexer": "ipython3",
   "version": "3.9.5"
  },
  "latex_envs": {
   "LaTeX_envs_menu_present": true,
   "autoclose": false,
   "autocomplete": true,
   "bibliofile": "biblio.bib",
   "cite_by": "apalike",
   "current_citInitial": 1,
   "eqLabelWithNumbers": true,
   "eqNumInitial": 1,
   "hotkeys": {
    "equation": "Ctrl-E",
    "itemize": "Ctrl-I"
   },
   "labels_anchors": false,
   "latex_user_defs": false,
   "report_style_numbering": false,
   "user_envs_cfg": false
  },
  "toc": {
   "base_numbering": 1,
   "nav_menu": {},
   "number_sections": true,
   "sideBar": true,
   "skip_h1_title": false,
   "title_cell": "Table of Contents",
   "title_sidebar": "Contents",
   "toc_cell": false,
   "toc_position": {
    "height": "382.5px",
    "left": "1176px",
    "top": "149.133px",
    "width": "401px"
   },
   "toc_section_display": true,
   "toc_window_display": true
  }
 },
 "nbformat": 4,
 "nbformat_minor": 2
}
